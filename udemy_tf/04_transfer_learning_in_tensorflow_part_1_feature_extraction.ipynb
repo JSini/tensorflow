{
  "nbformat": 4,
  "nbformat_minor": 0,
  "metadata": {
    "colab": {
      "provenance": [],
      "gpuType": "T4",
      "mount_file_id": "1_iiyI6Y341Bu9FoPbZreW9rFm_m622uU",
      "authorship_tag": "ABX9TyOPqotD8SkznxGbzeVcI4qh"
    },
    "kernelspec": {
      "name": "python3",
      "display_name": "Python 3"
    },
    "language_info": {
      "name": "python"
    }
  },
  "cells": [
    {
      "cell_type": "markdown",
      "metadata": {
        "id": "UTWetPM7AWfY"
      },
      "source": [
        "## Using a GPU\n",
        "\n",
        "To begin, let's check to see if we're using a GPU. Using a GPU will make sure our model trains faster than using just a CPU.\n"
      ]
    },
    {
      "cell_type": "code",
      "execution_count": null,
      "metadata": {
        "colab": {
          "base_uri": "https://localhost:8080/"
        },
        "id": "idPzbFlHkTjk",
        "outputId": "eabb9ca9-54ad-4936-9416-70c5a1b3cf6d"
      },
      "outputs": [
        {
          "output_type": "stream",
          "name": "stdout",
          "text": [
            "Tue Jun 27 05:01:07 2023       \n",
            "+-----------------------------------------------------------------------------+\n",
            "| NVIDIA-SMI 525.85.12    Driver Version: 525.85.12    CUDA Version: 12.0     |\n",
            "|-------------------------------+----------------------+----------------------+\n",
            "| GPU  Name        Persistence-M| Bus-Id        Disp.A | Volatile Uncorr. ECC |\n",
            "| Fan  Temp  Perf  Pwr:Usage/Cap|         Memory-Usage | GPU-Util  Compute M. |\n",
            "|                               |                      |               MIG M. |\n",
            "|===============================+======================+======================|\n",
            "|   0  Tesla T4            Off  | 00000000:00:04.0 Off |                    0 |\n",
            "| N/A   44C    P8     9W /  70W |      0MiB / 15360MiB |      0%      Default |\n",
            "|                               |                      |                  N/A |\n",
            "+-------------------------------+----------------------+----------------------+\n",
            "                                                                               \n",
            "+-----------------------------------------------------------------------------+\n",
            "| Processes:                                                                  |\n",
            "|  GPU   GI   CI        PID   Type   Process name                  GPU Memory |\n",
            "|        ID   ID                                                   Usage      |\n",
            "|=============================================================================|\n",
            "|  No running processes found                                                 |\n",
            "+-----------------------------------------------------------------------------+\n"
          ]
        }
      ],
      "source": [
        "# Are we using a GPU?\n",
        "!nvidia-smi"
      ]
    },
    {
      "cell_type": "code",
      "source": [
        "!wget https://storage.googleapis.com/ztm_tf_course/food_vision/10_food_classes_10_percent.zip"
      ],
      "metadata": {
        "colab": {
          "base_uri": "https://localhost:8080/"
        },
        "id": "jDLfnegynvrF",
        "outputId": "96566103-7170-4c83-8500-763e60b1a390"
      },
      "execution_count": null,
      "outputs": [
        {
          "output_type": "stream",
          "name": "stdout",
          "text": [
            "--2023-06-27 05:01:08--  https://storage.googleapis.com/ztm_tf_course/food_vision/10_food_classes_10_percent.zip\n",
            "Resolving storage.googleapis.com (storage.googleapis.com)... 74.125.24.128, 142.251.10.128, 142.251.12.128, ...\n",
            "Connecting to storage.googleapis.com (storage.googleapis.com)|74.125.24.128|:443... connected.\n",
            "HTTP request sent, awaiting response... 200 OK\n",
            "Length: 168546183 (161M) [application/zip]\n",
            "Saving to: ‘10_food_classes_10_percent.zip’\n",
            "\n",
            "10_food_classes_10_ 100%[===================>] 160.74M  21.7MB/s    in 8.7s    \n",
            "\n",
            "2023-06-27 05:01:17 (18.4 MB/s) - ‘10_food_classes_10_percent.zip’ saved [168546183/168546183]\n",
            "\n"
          ]
        }
      ]
    },
    {
      "cell_type": "code",
      "source": [
        "import zipfile\n",
        "\n",
        "local = '/content/10_food_classes_10_percent.zip'\n",
        "zipref = zipfile.ZipFile(local)\n",
        "zipref.extractall()\n",
        "zipref.close()"
      ],
      "metadata": {
        "id": "MxGQgkmKn6AN"
      },
      "execution_count": null,
      "outputs": []
    },
    {
      "cell_type": "code",
      "source": [
        "import os\n",
        "path='/content/10_food_classes_10_percent'\n",
        "for dirpath, dirnames, filenames in os.walk(path):\n",
        "  print(f\"There are {len(dirnames)} directories, {len(filenames)} filenames in {dirpath}\")"
      ],
      "metadata": {
        "colab": {
          "base_uri": "https://localhost:8080/"
        },
        "id": "_XRTkPb2oGmc",
        "outputId": "2a64dd71-6a51-490e-eeac-9bcc93e762b1"
      },
      "execution_count": null,
      "outputs": [
        {
          "output_type": "stream",
          "name": "stdout",
          "text": [
            "There are 2 directories, 0 filenames in /content/10_food_classes_10_percent\n",
            "There are 10 directories, 0 filenames in /content/10_food_classes_10_percent/train\n",
            "There are 0 directories, 75 filenames in /content/10_food_classes_10_percent/train/fried_rice\n",
            "There are 0 directories, 75 filenames in /content/10_food_classes_10_percent/train/steak\n",
            "There are 0 directories, 75 filenames in /content/10_food_classes_10_percent/train/pizza\n",
            "There are 0 directories, 75 filenames in /content/10_food_classes_10_percent/train/chicken_curry\n",
            "There are 0 directories, 75 filenames in /content/10_food_classes_10_percent/train/hamburger\n",
            "There are 0 directories, 75 filenames in /content/10_food_classes_10_percent/train/grilled_salmon\n",
            "There are 0 directories, 75 filenames in /content/10_food_classes_10_percent/train/ramen\n",
            "There are 0 directories, 75 filenames in /content/10_food_classes_10_percent/train/chicken_wings\n",
            "There are 0 directories, 75 filenames in /content/10_food_classes_10_percent/train/ice_cream\n",
            "There are 0 directories, 75 filenames in /content/10_food_classes_10_percent/train/sushi\n",
            "There are 10 directories, 0 filenames in /content/10_food_classes_10_percent/test\n",
            "There are 0 directories, 250 filenames in /content/10_food_classes_10_percent/test/fried_rice\n",
            "There are 0 directories, 250 filenames in /content/10_food_classes_10_percent/test/steak\n",
            "There are 0 directories, 250 filenames in /content/10_food_classes_10_percent/test/pizza\n",
            "There are 0 directories, 250 filenames in /content/10_food_classes_10_percent/test/chicken_curry\n",
            "There are 0 directories, 250 filenames in /content/10_food_classes_10_percent/test/hamburger\n",
            "There are 0 directories, 250 filenames in /content/10_food_classes_10_percent/test/grilled_salmon\n",
            "There are 0 directories, 250 filenames in /content/10_food_classes_10_percent/test/ramen\n",
            "There are 0 directories, 250 filenames in /content/10_food_classes_10_percent/test/chicken_wings\n",
            "There are 0 directories, 250 filenames in /content/10_food_classes_10_percent/test/ice_cream\n",
            "There are 0 directories, 250 filenames in /content/10_food_classes_10_percent/test/sushi\n"
          ]
        }
      ]
    },
    {
      "cell_type": "markdown",
      "source": [
        "Note training data is few, to demonstrate the power of Transfer learning"
      ],
      "metadata": {
        "id": "mfA1b8skoy9l"
      }
    },
    {
      "cell_type": "code",
      "source": [
        "#Preparing dataloader\n",
        "from tensorflow.keras.preprocessing.image import ImageDataGenerator\n",
        "\n",
        "#hyperparameters\n",
        "IMAGE_SHAPE=(224,224)\n",
        "BATCH_SIZE = 32\n",
        "\n",
        "train_dir = '/content/10_food_classes_10_percent/train'\n",
        "test_dir = '/content/10_food_classes_10_percent/test'\n",
        "\n",
        "\n",
        "train_datagen = ImageDataGenerator(rescale=1./255)\n",
        "test_datagen = ImageDataGenerator(rescale=1./255.)\n",
        "\n",
        "train_generator = train_datagen.flow_from_directory(train_dir,\n",
        "                                                    class_mode='categorical',\n",
        "                                                    target_size=IMAGE_SHAPE,\n",
        "                                                    batch_size=BATCH_SIZE)\n",
        "\n",
        "test_generator = test_datagen.flow_from_directory(test_dir,\n",
        "                                                    class_mode='categorical',\n",
        "                                                    target_size=IMAGE_SHAPE,\n",
        "                                                    batch_size=BATCH_SIZE)"
      ],
      "metadata": {
        "colab": {
          "base_uri": "https://localhost:8080/"
        },
        "id": "DcxBodr8oZ01",
        "outputId": "dcf6f0e7-0f96-40c9-b0ec-e8f65e3bd0fb"
      },
      "execution_count": null,
      "outputs": [
        {
          "output_type": "stream",
          "name": "stdout",
          "text": [
            "Found 750 images belonging to 10 classes.\n",
            "Found 2500 images belonging to 10 classes.\n"
          ]
        }
      ]
    },
    {
      "cell_type": "code",
      "source": [
        "train_generator.num_classes"
      ],
      "metadata": {
        "colab": {
          "base_uri": "https://localhost:8080/"
        },
        "id": "dLdi1Wo7xwJK",
        "outputId": "1a3cc4a1-bea2-4d91-88cf-35a758f749de"
      },
      "execution_count": null,
      "outputs": [
        {
          "output_type": "execute_result",
          "data": {
            "text/plain": [
              "10"
            ]
          },
          "metadata": {},
          "execution_count": 6
        }
      ]
    },
    {
      "cell_type": "markdown",
      "source": [
        "**Callbacks**\n",
        "functions to be performed or utilities called while training and at end of training\n",
        "- popular\n",
        "  - tensorboard - to track experiments\n",
        "  - model checkpoint\n",
        "  - early stopping"
      ],
      "metadata": {
        "id": "PtaDxW2TqAK9"
      }
    },
    {
      "cell_type": "code",
      "source": [
        "#Create tensorborad callback\n",
        "import datetime\n",
        "import tensorflow as tf\n",
        "\n",
        "def create_tensorboard_callback(dir_name, experiment_name):\n",
        "    log_dir = dir_name + '/' + experiment_name + '/' + datetime.datetime.now().strftime(\"%Y%m%d-%H%M%S\")\n",
        "    tensorboard_callback = tf.keras.callbacks.TensorBoard(log_dir=log_dir)\n",
        "    print(f\"Saving tensorboard log files to: {log_dir}\")\n",
        "    return tensorboard_callback"
      ],
      "metadata": {
        "id": "am4DYcTDqwrV"
      },
      "execution_count": null,
      "outputs": []
    },
    {
      "cell_type": "code",
      "source": [
        "# Creating models using Tensorflow Hub\n",
        "##Effecientnetv2B0 feature vetcor: https://tfhub.dev/google/imagenet/efficientnet_v2_imagenet1k_b0/feature_vector/2\n",
        "#resnetv2-50\n",
        "import tensorflow_hub as hub\n",
        "\n",
        "resnet_url = 'https://tfhub.dev/google/imagenet/resnet_v2_50/feature_vector/5'\n",
        "efficientnet_url = 'https://tfhub.dev/google/efficientnet/b0/feature-vector/1'\n"
      ],
      "metadata": {
        "id": "02iddy8iwAYD"
      },
      "execution_count": null,
      "outputs": []
    },
    {
      "cell_type": "code",
      "source": [
        "IMAGE_SHAPE + (3,)"
      ],
      "metadata": {
        "colab": {
          "base_uri": "https://localhost:8080/"
        },
        "id": "BSzE0Nwuw_xT",
        "outputId": "63ab97a3-470b-43a9-c77a-adce18d870ae"
      },
      "execution_count": null,
      "outputs": [
        {
          "output_type": "execute_result",
          "data": {
            "text/plain": [
              "(224, 224, 3)"
            ]
          },
          "metadata": {},
          "execution_count": 9
        }
      ]
    },
    {
      "cell_type": "code",
      "source": [
        "def create_model(model_url, num_classes):\n",
        "\n",
        "    #Download the pretrained layer\n",
        "    feature_extractor_layer = hub.KerasLayer(model_url,\n",
        "                                             trainable=False,\n",
        "                                             name='feature_extraction_layer',\n",
        "                                             input_shape=IMAGE_SHAPE+(3,))\n",
        "\n",
        "    model = tf.keras.Sequential([\n",
        "        feature_extractor_layer,\n",
        "        tf.keras.layers.Dense(num_classes, activation='softmax')\n",
        "    ])\n",
        "\n",
        "    return model"
      ],
      "metadata": {
        "id": "6BhtteTTsAUt"
      },
      "execution_count": null,
      "outputs": []
    },
    {
      "cell_type": "code",
      "source": [
        "##resnet mode\n",
        "\n",
        "resnet_model = create_model(resnet_url, num_classes=train_generator.num_classes)"
      ],
      "metadata": {
        "id": "mVWTtMQ8xaoM"
      },
      "execution_count": null,
      "outputs": []
    },
    {
      "cell_type": "markdown",
      "source": [
        "***Note the Non_trainable params***"
      ],
      "metadata": {
        "id": "INcyD6lUx8yK"
      }
    },
    {
      "cell_type": "code",
      "source": [
        "resnet_model.compile(loss='categorical_crossentropy',\n",
        "                     optimizer='adam',\n",
        "                     metrics=['accuracy'])"
      ],
      "metadata": {
        "id": "uRhSnf4ax7Wy"
      },
      "execution_count": null,
      "outputs": []
    },
    {
      "cell_type": "code",
      "source": [
        "#define callback\n",
        "dir_name='tensorflow_hub'\n",
        "experiment_name='resnet50v2'\n",
        "tensorboard_callback = create_tensorboard_callback(dir_name, experiment_name)\n",
        "\n",
        "\n",
        "resnet_history = resnet_model.fit(train_generator,\n",
        "                 epochs=5,\n",
        "                 steps_per_epoch=len(train_generator),\n",
        "                 validation_data=test_generator,\n",
        "                 validation_steps=len(test_generator),\n",
        "                 callbacks=[tensorboard_callback])"
      ],
      "metadata": {
        "colab": {
          "base_uri": "https://localhost:8080/"
        },
        "id": "TVpFe8s4yPP0",
        "outputId": "1399c816-86e3-4333-f0d6-72b55a3e9bde"
      },
      "execution_count": null,
      "outputs": [
        {
          "output_type": "stream",
          "name": "stdout",
          "text": [
            "Saving tensorboard log files to: tensorflow_hub/resnet50v2/20230627-050319\n",
            "Epoch 1/5\n",
            "24/24 [==============================] - 34s 847ms/step - loss: 1.9734 - accuracy: 0.3387 - val_loss: 1.2163 - val_accuracy: 0.6184\n",
            "Epoch 2/5\n",
            "24/24 [==============================] - 18s 773ms/step - loss: 0.9200 - accuracy: 0.7200 - val_loss: 0.8722 - val_accuracy: 0.7204\n",
            "Epoch 3/5\n",
            "24/24 [==============================] - 17s 746ms/step - loss: 0.6397 - accuracy: 0.7987 - val_loss: 0.7329 - val_accuracy: 0.7612\n",
            "Epoch 4/5\n",
            "24/24 [==============================] - 28s 1s/step - loss: 0.4811 - accuracy: 0.8640 - val_loss: 0.7205 - val_accuracy: 0.7540\n",
            "Epoch 5/5\n",
            "24/24 [==============================] - 20s 840ms/step - loss: 0.3932 - accuracy: 0.8893 - val_loss: 0.6560 - val_accuracy: 0.7832\n"
          ]
        }
      ]
    },
    {
      "cell_type": "markdown",
      "source": [
        "We got great result training with just 10% of training data,that is the power of Tansfer learning\n",
        "**acc:88% and val_acc:78%**"
      ],
      "metadata": {
        "id": "4ph_b6AA0C6D"
      }
    },
    {
      "cell_type": "code",
      "source": [
        "#evaluation on test data\n",
        "resnet_model.evaluate(test_generator)"
      ],
      "metadata": {
        "colab": {
          "base_uri": "https://localhost:8080/"
        },
        "id": "KbmVzuUbSw2J",
        "outputId": "ed4f6887-c986-400b-dc38-41a958fd9edd"
      },
      "execution_count": null,
      "outputs": [
        {
          "output_type": "stream",
          "name": "stdout",
          "text": [
            "79/79 [==============================] - 14s 179ms/step - loss: 0.6560 - accuracy: 0.7832\n"
          ]
        },
        {
          "output_type": "execute_result",
          "data": {
            "text/plain": [
              "[0.6559911370277405, 0.7832000255584717]"
            ]
          },
          "metadata": {},
          "execution_count": 28
        }
      ]
    },
    {
      "cell_type": "markdown",
      "source": [
        "Evalaution using learning curves"
      ],
      "metadata": {
        "id": "Q1FJvK38S3GZ"
      }
    },
    {
      "cell_type": "code",
      "source": [
        "import matplotlib.pyplot as plt"
      ],
      "metadata": {
        "id": "fzXvMu03P-AY"
      },
      "execution_count": null,
      "outputs": []
    },
    {
      "cell_type": "code",
      "source": [
        "def plot_loss_curves(history):\n",
        "    \"\"\"\n",
        "    Return separate learning curves for train/val loss and train/val accuracy\n",
        "\n",
        "    Args:\n",
        "      history: Tensorflow model fit history object\n",
        "\n",
        "    Returns:\n",
        "      Plots of training/validation loss and accuracy curves\n",
        "    \"\"\"\n",
        "    loss=history.history['loss']\n",
        "    val_loss=history.history['val_loss']\n",
        "    acc=history.history['accuracy']\n",
        "    val_acc=history.history['val_accuracy']\n",
        "\n",
        "    epochs=range(len(loss))\n",
        "\n",
        "    plt.plot(epochs, loss, label='train_loss')\n",
        "    plt.plot(epochs, val_loss, label='val_loss')\n",
        "    plt.title('Loss')\n",
        "    plt.xlabel('Epochs')\n",
        "    plt.ylabel('Loss')\n",
        "    plt.legend()\n",
        "\n",
        "    plt.figure()\n",
        "    plt.plot(epochs, acc, label='train_acc')\n",
        "    plt.plot(epochs, val_acc, label='val_acc')\n",
        "    plt.title('Accuracy')\n",
        "    plt.xlabel('Epochs')\n",
        "    plt.ylabel('Accuracy')\n",
        "    plt.legend()"
      ],
      "metadata": {
        "id": "VWGjIEQl0at6"
      },
      "execution_count": null,
      "outputs": []
    },
    {
      "cell_type": "code",
      "source": [
        "plot_loss_curves(resnet_history)"
      ],
      "metadata": {
        "colab": {
          "base_uri": "https://localhost:8080/",
          "height": 927
        },
        "id": "oNsa6uHwQA9q",
        "outputId": "85ebe4af-7b5a-4b9b-8bd9-fefa719de821"
      },
      "execution_count": null,
      "outputs": [
        {
          "output_type": "display_data",
          "data": {
            "text/plain": [
              "<Figure size 640x480 with 1 Axes>"
            ],
            "image/png": "[encoded data removed]"
          },
          "metadata": {}
        },
        {
          "output_type": "display_data",
          "data": {
            "text/plain": [
              "<Figure size 640x480 with 1 Axes>"
            ],
            "image/png": "[encoded data removed]"
          },
          "metadata": {}
        }
      ]
    },
    {
      "cell_type": "markdown",
      "source": [
        "##Creating and testing Efficient Net"
      ],
      "metadata": {
        "id": "deFEh2sBRLwp"
      }
    },
    {
      "cell_type": "code",
      "source": [
        "# Creating models using Tensorflow Hub\n",
        "##Effecientnetv2B0 feature vetcor: https://tfhub.dev/google/imagenet/efficientnet_v2_imagenet1k_b0/feature_vector/2\n",
        "efficientnet_url = 'https://tfhub.dev/google/efficientnet/b0/feature-vector/1'"
      ],
      "metadata": {
        "id": "xdw8oyd6SbMB"
      },
      "execution_count": null,
      "outputs": []
    },
    {
      "cell_type": "code",
      "source": [
        "# create model\n",
        "effnet_model = create_model(efficientnet_url, num_classes=train_generator.num_classes)"
      ],
      "metadata": {
        "id": "l8VTrVIjRRV_"
      },
      "execution_count": null,
      "outputs": []
    },
    {
      "cell_type": "code",
      "source": [
        "# compile the model\n",
        "effnet_model.compile(loss='categorical_crossentropy',\n",
        "                     optimizer='adam',\n",
        "                     metrics=['accuracy'])"
      ],
      "metadata": {
        "id": "Wy-PkjoYRiVI"
      },
      "execution_count": null,
      "outputs": []
    },
    {
      "cell_type": "code",
      "source": [
        "# define callback\n",
        "dir_name='tensorflow_hub'\n",
        "experiment_name='effnetb0'\n",
        "tensorboard_callback = create_tensorboard_callback(dir_name, experiment_name)\n",
        "\n",
        "\n",
        "# fit the model\n",
        "effnet_history = effnet_model.fit(train_generator,\n",
        "                                  epochs=5,\n",
        "                                  steps_per_epoch=len(train_generator),\n",
        "                                  validation_data=test_generator,\n",
        "                                  validation_steps=len(test_generator),\n",
        "                                  callbacks=[tensorboard_callback])"
      ],
      "metadata": {
        "colab": {
          "base_uri": "https://localhost:8080/"
        },
        "id": "jXzEVLZjRy-S",
        "outputId": "627ad9d0-30c8-44f4-cbc3-a3a7a4977eb8"
      },
      "execution_count": null,
      "outputs": [
        {
          "output_type": "stream",
          "name": "stdout",
          "text": [
            "Saving tensorboard log files to: tensorflow_hub/effnetb0/20230627-051740\n",
            "Epoch 1/5\n",
            "24/24 [==============================] - 31s 1s/step - loss: 1.8994 - accuracy: 0.4040 - val_loss: 1.3200 - val_accuracy: 0.7240\n",
            "Epoch 2/5\n",
            "24/24 [==============================] - 25s 1s/step - loss: 1.0741 - accuracy: 0.7720 - val_loss: 0.8763 - val_accuracy: 0.8180\n",
            "Epoch 3/5\n",
            "24/24 [==============================] - 24s 1s/step - loss: 0.7622 - accuracy: 0.8387 - val_loss: 0.7028 - val_accuracy: 0.8448\n",
            "Epoch 4/5\n",
            "24/24 [==============================] - 21s 889ms/step - loss: 0.6089 - accuracy: 0.8653 - val_loss: 0.6149 - val_accuracy: 0.8600\n",
            "Epoch 5/5\n",
            "24/24 [==============================] - 22s 959ms/step - loss: 0.5133 - accuracy: 0.8800 - val_loss: 0.5614 - val_accuracy: 0.8624\n"
          ]
        }
      ]
    },
    {
      "cell_type": "code",
      "source": [
        "#evaluate test data\n",
        "effnet_model.evaluate(test_generator)"
      ],
      "metadata": {
        "colab": {
          "base_uri": "https://localhost:8080/"
        },
        "id": "DwulnCoBSnJ5",
        "outputId": "f1d84003-cf97-4054-e12d-58a81ebfdf82"
      },
      "execution_count": null,
      "outputs": [
        {
          "output_type": "stream",
          "name": "stdout",
          "text": [
            "79/79 [==============================] - 14s 173ms/step - loss: 0.5614 - accuracy: 0.8624\n"
          ]
        },
        {
          "output_type": "execute_result",
          "data": {
            "text/plain": [
              "[0.5614108443260193, 0.8623999953269958]"
            ]
          },
          "metadata": {},
          "execution_count": 25
        }
      ]
    },
    {
      "cell_type": "code",
      "source": [
        "plot_loss_curves(effnet_history)"
      ],
      "metadata": {
        "colab": {
          "base_uri": "https://localhost:8080/",
          "height": 927
        },
        "id": "GHn7zuPxS7Y5",
        "outputId": "8a1e3e29-cb84-42bf-8977-0bf7d0a8dd9d"
      },
      "execution_count": null,
      "outputs": [
        {
          "output_type": "display_data",
          "data": {
            "text/plain": [
              "<Figure size 640x480 with 1 Axes>"
            ],
            "image/png": "[encoded data removed]"
          },
          "metadata": {}
        },
        {
          "output_type": "display_data",
          "data": {
            "text/plain": [
              "<Figure size 640x480 with 1 Axes>"
            ],
            "image/png": "[encoded data removed]"
          },
          "metadata": {}
        }
      ]
    },
    {
      "cell_type": "markdown",
      "source": [
        "EfficientNet outperforms ResNet\n",
        "- trainable parameters are fewer\n",
        "- val_acc of 86% compared to 78% of ResNet\n",
        "- and acc double compared to our VGG CNN explainer architecture used in pervious notebook"
      ],
      "metadata": {
        "id": "0d0i3xGYTacp"
      }
    },
    {
      "cell_type": "code",
      "source": [
        "effnet_model.summary()"
      ],
      "metadata": {
        "colab": {
          "base_uri": "https://localhost:8080/"
        },
        "id": "IBHI8ntjTSq6",
        "outputId": "d8e5d5fb-6a3d-45d0-f2ea-16d9cbf5757a"
      },
      "execution_count": null,
      "outputs": [
        {
          "output_type": "stream",
          "name": "stdout",
          "text": [
            "Model: \"sequential_1\"\n",
            "_________________________________________________________________\n",
            " Layer (type)                Output Shape              Param #   \n",
            "=================================================================\n",
            " feature_extraction_layer (K  (None, 1280)             4049564   \n",
            " erasLayer)                                                      \n",
            "                                                                 \n",
            " dense_1 (Dense)             (None, 10)                12810     \n",
            "                                                                 \n",
            "=================================================================\n",
            "Total params: 4,062,374\n",
            "Trainable params: 12,810\n",
            "Non-trainable params: 4,049,564\n",
            "_________________________________________________________________\n"
          ]
        }
      ]
    },
    {
      "cell_type": "code",
      "source": [
        "resnet_model.summary()"
      ],
      "metadata": {
        "colab": {
          "base_uri": "https://localhost:8080/"
        },
        "id": "kxNmL41_x2p7",
        "outputId": "1bbef62b-c0b3-4d88-a3f5-406dfbe19c42"
      },
      "execution_count": null,
      "outputs": [
        {
          "output_type": "stream",
          "name": "stdout",
          "text": [
            "Model: \"sequential\"\n",
            "_________________________________________________________________\n",
            " Layer (type)                Output Shape              Param #   \n",
            "=================================================================\n",
            " feature_extraction_layer (K  (None, 2048)             23564800  \n",
            " erasLayer)                                                      \n",
            "                                                                 \n",
            " dense (Dense)               (None, 10)                20490     \n",
            "                                                                 \n",
            "=================================================================\n",
            "Total params: 23,585,290\n",
            "Trainable params: 20,490\n",
            "Non-trainable params: 23,564,800\n",
            "_________________________________________________________________\n"
          ]
        }
      ]
    },
    {
      "cell_type": "code",
      "source": [
        "effnet_model.layers"
      ],
      "metadata": {
        "colab": {
          "base_uri": "https://localhost:8080/"
        },
        "id": "Fgixlk-SUy9h",
        "outputId": "29de3d94-aabf-4162-9e2b-438bcdf5bbe7"
      },
      "execution_count": null,
      "outputs": [
        {
          "output_type": "execute_result",
          "data": {
            "text/plain": [
              "[<tensorflow_hub.keras_layer.KerasLayer at 0x7fccd025e5f0>,\n",
              " <keras.layers.core.dense.Dense at 0x7fccd025f280>]"
            ]
          },
          "metadata": {},
          "execution_count": 29
        }
      ]
    },
    {
      "cell_type": "code",
      "source": [
        "len(effnet_model.layers[0].weights)"
      ],
      "metadata": {
        "colab": {
          "base_uri": "https://localhost:8080/"
        },
        "id": "as7XmokyUz5w",
        "outputId": "83901157-f57a-4550-e2e6-f63da7bd4f94"
      },
      "execution_count": null,
      "outputs": [
        {
          "output_type": "execute_result",
          "data": {
            "text/plain": [
              "309"
            ]
          },
          "metadata": {},
          "execution_count": 31
        }
      ]
    },
    {
      "cell_type": "code",
      "source": [
        "!cp -r /content/tensorflow_hub /content/drive/MyDrive/ColabNotebooks/udemy_tf"
      ],
      "metadata": {
        "id": "0OVu-41MVxgJ"
      },
      "execution_count": null,
      "outputs": []
    },
    {
      "cell_type": "markdown",
      "source": [
        "##Comparing our model results"
      ],
      "metadata": {
        "id": "W6i8t31tVuKJ"
      }
    },
    {
      "cell_type": "code",
      "source": [
        "#upload TensorBoard dev records\n",
        "!tensorboard dev upload --logdir ./tensorflow_hub/ \\\n",
        "  --name 'EffNetb0 vs ResNet50V2' \\\n",
        "  --description 'Comparing two different TF Hub feature extraction model architectures' \\\n",
        "  --one_shot"
      ],
      "metadata": {
        "colab": {
          "base_uri": "https://localhost:8080/"
        },
        "id": "iZEGtUjiVGsp",
        "outputId": "e7bc93ac-cbc6-43f7-9233-43aad961fce7"
      },
      "execution_count": null,
      "outputs": [
        {
          "output_type": "stream",
          "name": "stdout",
          "text": [
            "2023-06-27 05:42:47.911979: W tensorflow/compiler/tf2tensorrt/utils/py_utils.cc:38] TF-TRT Warning: Could not find TensorRT\n",
            "\n",
            "***** TensorBoard Uploader *****\n",
            "\n",
            "This will upload your TensorBoard logs to https://tensorboard.dev/ from\n",
            "the following directory:\n",
            "\n",
            "./tensorflow_hub/\n",
            "\n",
            "This TensorBoard will be visible to everyone. Do not upload sensitive\n",
            "data.\n",
            "\n",
            "Your use of this service is subject to Google's Terms of Service\n",
            "<https://policies.google.com/terms> and Privacy Policy\n",
            "<https://policies.google.com/privacy>, and TensorBoard.dev's Terms of Service\n",
            "<https://tensorboard.dev/policy/terms/>.\n",
            "\n",
            "This notice will not be shown again while you are logged into the uploader.\n",
            "To log out, run `tensorboard dev auth revoke`.\n",
            "\n",
            "Continue? (yes/NO) yes\n",
            "\n",
            "To sign in with the TensorBoard uploader:\n",
            "\n",
            "1. On your computer or phone, visit:\n",
            "\n",
            "   https://www.google.com/device\n",
            "\n",
            "2. Sign in with your Google account, then enter:\n",
            "\n",
            "   PCGZ-KFVK\n",
            "\n",
            "\n",
            "\n",
            "New experiment created. View your TensorBoard at: https://tensorboard.dev/experiment/L9DOmQzsQim2hkLA90WX0w/\n",
            "\n",
            "\u001b[1m[2023-06-27T05:43:24]\u001b[0m Started scanning logdir.\n",
            "\u001b[1m[2023-06-27T05:43:28]\u001b[0m Total uploaded: 60 scalars, 0 tensors, 2 binary objects (3.0 MB)\n",
            "\u001b[1m[2023-06-27T05:43:28]\u001b[0m Done scanning logdir.\n",
            "\n",
            "\n",
            "Done. View your TensorBoard at https://tensorboard.dev/experiment/L9DOmQzsQim2hkLA90WX0w/\n"
          ]
        }
      ]
    },
    {
      "cell_type": "markdown",
      "source": [
        "Our TF Hub experiment results are uploaded publicly to Tensorboard here:  https://tensorboard.dev/experiment/L9DOmQzsQim2hkLA90WX0w/"
      ],
      "metadata": {
        "id": "FkeHD7yPYT3C"
      }
    },
    {
      "cell_type": "markdown",
      "metadata": {
        "id": "FlVfmBdBOPvf"
      },
      "source": [
        "Every time you upload something to TensorBoad.dev you'll get a new experiment ID. The experiment ID will look something like this: https://tensorboard.dev/experiment/73taSKxXQeGPQsNBcVvY3g/ (this is the actual experiment from this notebook).\n",
        "\n",
        "If you upload the same directory again, you'll get a new experiment ID to go along with it.\n",
        "\n",
        "This means to track your experiments, you may want to look into how you name your uploads. That way when you find them on TensorBoard.dev you can tell what happened during each experiment (e.g. \"efficientnet0_10_percent_data\").\n",
        "\n",
        "### Listing experiments you've saved to TensorBoard\n",
        "\n",
        "To see all of the experiments you've uploaded you can use the command:\n",
        "\n",
        "```tensorboard dev list```"
      ]
    },
    {
      "cell_type": "code",
      "source": [
        "!tensorboard dev list"
      ],
      "metadata": {
        "colab": {
          "base_uri": "https://localhost:8080/"
        },
        "id": "MD_GIa24YS57",
        "outputId": "4c11debc-350b-47c6-a05e-3d93309a654c"
      },
      "execution_count": null,
      "outputs": [
        {
          "output_type": "stream",
          "name": "stdout",
          "text": [
            "2023-06-27 05:47:53.556309: W tensorflow/compiler/tf2tensorrt/utils/py_utils.cc:38] TF-TRT Warning: Could not find TensorRT\n",
            "https://tensorboard.dev/experiment/L9DOmQzsQim2hkLA90WX0w/\n",
            "\tName                 EffNetb0 vs ResNet50V2\n",
            "\tDescription          Comparing two different TF Hub feature extraction model architectures\n",
            "\tId                   L9DOmQzsQim2hkLA90WX0w\n",
            "\tCreated              2023-06-27 05:43:24 (4 minutes ago)\n",
            "\tUpdated              2023-06-27 05:43:28 (4 minutes ago)\n",
            "\tRuns                 4\n",
            "\tTags                 5\n",
            "\tScalars              60\n",
            "\tTensor bytes         0\n",
            "\tBinary object bytes  3155276\n",
            "Total: 1 experiment(s)\n"
          ]
        }
      ]
    },
    {
      "cell_type": "markdown",
      "metadata": {
        "id": "mdLUjm-xADQ4"
      },
      "source": [
        "### Deleting experiments from TensorBoard\n",
        "\n",
        "Remember, all uploads to TensorBoard.dev are public, so to delete an experiment you can use the command:\n",
        "\n",
        "`tensorboard dev delete --experiment_id [INSERT_EXPERIMENT_ID]`\n",
        "\n"
      ]
    },
    {
      "cell_type": "code",
      "source": [
        "# Delete an  experiment\n",
        "!tensorboard dev delete --experiment_id L9DOmQzsQim2hkLA90WX0w"
      ],
      "metadata": {
        "colab": {
          "base_uri": "https://localhost:8080/"
        },
        "id": "RHGar1UpZwfC",
        "outputId": "33c48699-551f-4f43-dbaa-ecad813afb48"
      },
      "execution_count": null,
      "outputs": [
        {
          "output_type": "stream",
          "name": "stdout",
          "text": [
            "2023-06-27 05:51:48.696745: W tensorflow/compiler/tf2tensorrt/utils/py_utils.cc:38] TF-TRT Warning: Could not find TensorRT\n",
            "Deleted experiment L9DOmQzsQim2hkLA90WX0w.\n"
          ]
        }
      ]
    },
    {
      "cell_type": "code",
      "source": [
        "# Check to see if experiments still exist\n",
        "!tensorboard dev list # uncomment to see"
      ],
      "metadata": {
        "colab": {
          "base_uri": "https://localhost:8080/"
        },
        "id": "98RzKqZuaDux",
        "outputId": "5e6c919d-8e3f-46dc-c0ae-55c18bff057c"
      },
      "execution_count": null,
      "outputs": [
        {
          "output_type": "stream",
          "name": "stdout",
          "text": [
            "2023-06-27 05:52:07.202594: W tensorflow/compiler/tf2tensorrt/utils/py_utils.cc:38] TF-TRT Warning: Could not find TensorRT\n",
            "No experiments. Use `tensorboard dev upload` to get started.\n"
          ]
        }
      ]
    },
    {
      "cell_type": "code",
      "source": [
        "#Reupload TensorBoard dev records\n",
        "!tensorboard dev upload --logdir ./tensorflow_hub/ \\\n",
        "  --name 'EffNetb0 vs ResNet50V2' \\\n",
        "  --description 'Comparing two different TF Hub feature extraction model architectures' \\\n",
        "  --one_shot"
      ],
      "metadata": {
        "colab": {
          "base_uri": "https://localhost:8080/"
        },
        "id": "irhDIlpHaPcp",
        "outputId": "9458b80e-b80b-4e9c-f3d3-e92e3c432496"
      },
      "execution_count": null,
      "outputs": [
        {
          "output_type": "stream",
          "name": "stdout",
          "text": [
            "2023-06-27 05:52:29.392265: W tensorflow/compiler/tf2tensorrt/utils/py_utils.cc:38] TF-TRT Warning: Could not find TensorRT\n",
            "\n",
            "New experiment created. View your TensorBoard at: https://tensorboard.dev/experiment/N2DtNT0pRuqPhyxeK5Copw/\n",
            "\n",
            "\u001b[1m[2023-06-27T05:52:31]\u001b[0m Started scanning logdir.\n",
            "\u001b[1m[2023-06-27T05:52:34]\u001b[0m Total uploaded: 60 scalars, 0 tensors, 2 binary objects (3.0 MB)\n",
            "\u001b[1m[2023-06-27T05:52:34]\u001b[0m Done scanning logdir.\n",
            "\n",
            "\n",
            "Done. View your TensorBoard at https://tensorboard.dev/experiment/N2DtNT0pRuqPhyxeK5Copw/\n"
          ]
        }
      ]
    },
    {
      "cell_type": "code",
      "source": [
        "!tensorboard dev list"
      ],
      "metadata": {
        "colab": {
          "base_uri": "https://localhost:8080/"
        },
        "id": "LUddl55kaXPB",
        "outputId": "79883ab1-23aa-4deb-d590-9de790fda961"
      },
      "execution_count": null,
      "outputs": [
        {
          "output_type": "stream",
          "name": "stdout",
          "text": [
            "2023-06-27 05:53:05.634620: W tensorflow/compiler/tf2tensorrt/utils/py_utils.cc:38] TF-TRT Warning: Could not find TensorRT\n",
            "https://tensorboard.dev/experiment/N2DtNT0pRuqPhyxeK5Copw/\n",
            "\tName                 EffNetb0 vs ResNet50V2\n",
            "\tDescription          Comparing two different TF Hub feature extraction model architectures\n",
            "\tId                   N2DtNT0pRuqPhyxeK5Copw\n",
            "\tCreated              2023-06-27 05:52:31 (36 seconds ago)\n",
            "\tUpdated              2023-06-27 05:52:34 (33 seconds ago)\n",
            "\tRuns                 4\n",
            "\tTags                 5\n",
            "\tScalars              60\n",
            "\tTensor bytes         0\n",
            "\tBinary object bytes  3155276\n",
            "Total: 1 experiment(s)\n"
          ]
        }
      ]
    },
    {
      "cell_type": "code",
      "source": [],
      "metadata": {
        "id": "Q-pyfFyqaZZg"
      },
      "execution_count": null,
      "outputs": []
    }
  ]
}