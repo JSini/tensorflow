{
  "cells": [
    {
      "cell_type": "markdown",
      "metadata": {
        "id": "view-in-github",
        "colab_type": "text"
      },
      "source": [
        "<a href=\"https://colab.research.google.com/github/JSini/tensorflow/blob/main/tensorflow_site/tutorials/customization/custom_layers.ipynb\" target=\"_parent\"><img src=\"https://colab.research.google.com/assets/colab-badge.svg\" alt=\"Open In Colab\"/></a>"
      ]
    },
    {
      "cell_type": "markdown",
      "metadata": {
        "id": "tDnwEv8FtJm7"
      },
      "source": [
        "##### Copyright 2018 The TensorFlow Authors."
      ]
    },
    {
      "cell_type": "code",
      "execution_count": null,
      "metadata": {
        "cellView": "form",
        "id": "JlknJBWQtKkI"
      },
      "outputs": [],
      "source": [
        "#@title Licensed under the Apache License, Version 2.0 (the \"License\");\n",
        "# you may not use this file except in compliance with the License.\n",
        "# You may obtain a copy of the License at\n",
        "#\n",
        "# https://www.apache.org/licenses/LICENSE-2.0\n",
        "#\n",
        "# Unless required by applicable law or agreed to in writing, software\n",
        "# distributed under the License is distributed on an \"AS IS\" BASIS,\n",
        "# WITHOUT WARRANTIES OR CONDITIONS OF ANY KIND, either express or implied.\n",
        "# See the License for the specific language governing permissions and\n",
        "# limitations under the License."
      ]
    },
    {
      "cell_type": "markdown",
      "metadata": {
        "id": "60RdWsg1tETW"
      },
      "source": [
        "# Custom layers"
      ]
    },
    {
      "cell_type": "markdown",
      "metadata": {
        "id": "UEu3q4jmpKVT"
      },
      "source": [
        "We recommend using `tf.keras` as a high-level API for building neural networks. That said, most TensorFlow APIs are usable with eager execution.\n"
      ]
    },
    {
      "cell_type": "code",
      "execution_count": 1,
      "metadata": {
        "id": "Py0m-N6VgQFJ"
      },
      "outputs": [],
      "source": [
        "import tensorflow as tf"
      ]
    },
    {
      "cell_type": "code",
      "execution_count": 3,
      "metadata": {
        "id": "TluWFcB_2nP5",
        "colab": {
          "base_uri": "https://localhost:8080/"
        },
        "outputId": "8c153780-593c-40e3-c305-331b03c4ece3"
      },
      "outputs": [
        {
          "output_type": "stream",
          "name": "stdout",
          "text": [
            "[]\n"
          ]
        }
      ],
      "source": [
        "print(tf.config.list_physical_devices('GPU'))"
      ]
    },
    {
      "cell_type": "code",
      "source": [
        "tf.config.list_physical_devices('GPU')"
      ],
      "metadata": {
        "colab": {
          "base_uri": "https://localhost:8080/"
        },
        "id": "rxKpEx1a_mwI",
        "outputId": "dc7ba872-a316-4256-90d4-5b87518a5e19"
      },
      "execution_count": 2,
      "outputs": [
        {
          "output_type": "execute_result",
          "data": {
            "text/plain": [
              "[]"
            ]
          },
          "metadata": {},
          "execution_count": 2
        }
      ]
    },
    {
      "cell_type": "markdown",
      "metadata": {
        "id": "zSFfVVjkrrsI"
      },
      "source": [
        "## Layers: common sets of useful operations\n",
        "\n",
        "Most of the time when writing code for machine learning models you want to operate at a higher level of abstraction than individual operations and manipulation of individual variables.\n",
        "\n",
        "Many machine learning models are expressible as the composition and stacking of relatively simple layers, and TensorFlow provides both a set of many common layers as well as easy ways for you to write your own application-specific layers either from scratch or as the composition of existing layers.\n",
        "\n",
        "TensorFlow includes the full [Keras](https://keras.io) API in the tf.keras package, and the Keras layers are very useful when building your own models.\n"
      ]
    },
    {
      "cell_type": "code",
      "execution_count": 9,
      "metadata": {
        "id": "8PyXlPl-4TzQ"
      },
      "outputs": [],
      "source": [
        "# In the tf.keras.layers package, layers are objects. To construct a layer,\n",
        "# simply construct the object. Most layers take as a first argument the number\n",
        "# of output dimensions / channels.\n",
        "layer = tf.keras.layers.Dense(100)\n",
        "# The number of input dimensions is often unnecessary, as it can be inferred\n",
        "# the first time the layer is used, but it can be provided if you want to\n",
        "# specify it manually, which is useful in some complex models.\n",
        "layer = tf.keras.layers.Dense(10, input_shape=(None, 5))"
      ]
    },
    {
      "cell_type": "code",
      "source": [
        "dir(tf.keras.layers)"
      ],
      "metadata": {
        "colab": {
          "base_uri": "https://localhost:8080/"
        },
        "id": "1ftAVa6P_8XX",
        "outputId": "362b1f71-bafa-43ce-d67e-7b916d2f7299"
      },
      "execution_count": 4,
      "outputs": [
        {
          "output_type": "execute_result",
          "data": {
            "text/plain": [
              "['AbstractRNNCell',\n",
              " 'Activation',\n",
              " 'ActivityRegularization',\n",
              " 'Add',\n",
              " 'AdditiveAttention',\n",
              " 'AlphaDropout',\n",
              " 'Attention',\n",
              " 'Average',\n",
              " 'AveragePooling1D',\n",
              " 'AveragePooling2D',\n",
              " 'AveragePooling3D',\n",
              " 'AvgPool1D',\n",
              " 'AvgPool2D',\n",
              " 'AvgPool3D',\n",
              " 'BatchNormalization',\n",
              " 'Bidirectional',\n",
              " 'CategoryEncoding',\n",
              " 'CenterCrop',\n",
              " 'Concatenate',\n",
              " 'Conv1D',\n",
              " 'Conv1DTranspose',\n",
              " 'Conv2D',\n",
              " 'Conv2DTranspose',\n",
              " 'Conv3D',\n",
              " 'Conv3DTranspose',\n",
              " 'ConvLSTM1D',\n",
              " 'ConvLSTM2D',\n",
              " 'ConvLSTM3D',\n",
              " 'Convolution1D',\n",
              " 'Convolution1DTranspose',\n",
              " 'Convolution2D',\n",
              " 'Convolution2DTranspose',\n",
              " 'Convolution3D',\n",
              " 'Convolution3DTranspose',\n",
              " 'Cropping1D',\n",
              " 'Cropping2D',\n",
              " 'Cropping3D',\n",
              " 'Dense',\n",
              " 'DenseFeatures',\n",
              " 'DepthwiseConv1D',\n",
              " 'DepthwiseConv2D',\n",
              " 'Discretization',\n",
              " 'Dot',\n",
              " 'Dropout',\n",
              " 'ELU',\n",
              " 'EinsumDense',\n",
              " 'Embedding',\n",
              " 'Flatten',\n",
              " 'GRU',\n",
              " 'GRUCell',\n",
              " 'GaussianDropout',\n",
              " 'GaussianNoise',\n",
              " 'GlobalAveragePooling1D',\n",
              " 'GlobalAveragePooling2D',\n",
              " 'GlobalAveragePooling3D',\n",
              " 'GlobalAvgPool1D',\n",
              " 'GlobalAvgPool2D',\n",
              " 'GlobalAvgPool3D',\n",
              " 'GlobalMaxPool1D',\n",
              " 'GlobalMaxPool2D',\n",
              " 'GlobalMaxPool3D',\n",
              " 'GlobalMaxPooling1D',\n",
              " 'GlobalMaxPooling2D',\n",
              " 'GlobalMaxPooling3D',\n",
              " 'GroupNormalization',\n",
              " 'HashedCrossing',\n",
              " 'Hashing',\n",
              " 'Identity',\n",
              " 'Input',\n",
              " 'InputLayer',\n",
              " 'InputSpec',\n",
              " 'IntegerLookup',\n",
              " 'LSTM',\n",
              " 'LSTMCell',\n",
              " 'Lambda',\n",
              " 'Layer',\n",
              " 'LayerNormalization',\n",
              " 'LeakyReLU',\n",
              " 'LocallyConnected1D',\n",
              " 'LocallyConnected2D',\n",
              " 'Masking',\n",
              " 'MaxPool1D',\n",
              " 'MaxPool2D',\n",
              " 'MaxPool3D',\n",
              " 'MaxPooling1D',\n",
              " 'MaxPooling2D',\n",
              " 'MaxPooling3D',\n",
              " 'Maximum',\n",
              " 'Minimum',\n",
              " 'MultiHeadAttention',\n",
              " 'Multiply',\n",
              " 'Normalization',\n",
              " 'PReLU',\n",
              " 'Permute',\n",
              " 'RNN',\n",
              " 'RandomBrightness',\n",
              " 'RandomContrast',\n",
              " 'RandomCrop',\n",
              " 'RandomFlip',\n",
              " 'RandomHeight',\n",
              " 'RandomRotation',\n",
              " 'RandomTranslation',\n",
              " 'RandomWidth',\n",
              " 'RandomZoom',\n",
              " 'ReLU',\n",
              " 'RepeatVector',\n",
              " 'Rescaling',\n",
              " 'Reshape',\n",
              " 'Resizing',\n",
              " 'SeparableConv1D',\n",
              " 'SeparableConv2D',\n",
              " 'SeparableConvolution1D',\n",
              " 'SeparableConvolution2D',\n",
              " 'SimpleRNN',\n",
              " 'SimpleRNNCell',\n",
              " 'Softmax',\n",
              " 'SpatialDropout1D',\n",
              " 'SpatialDropout2D',\n",
              " 'SpatialDropout3D',\n",
              " 'SpectralNormalization',\n",
              " 'StackedRNNCells',\n",
              " 'StringLookup',\n",
              " 'Subtract',\n",
              " 'TextVectorization',\n",
              " 'ThresholdedReLU',\n",
              " 'TimeDistributed',\n",
              " 'UnitNormalization',\n",
              " 'UpSampling1D',\n",
              " 'UpSampling2D',\n",
              " 'UpSampling3D',\n",
              " 'Wrapper',\n",
              " 'ZeroPadding1D',\n",
              " 'ZeroPadding2D',\n",
              " 'ZeroPadding3D',\n",
              " '__builtins__',\n",
              " '__cached__',\n",
              " '__doc__',\n",
              " '__file__',\n",
              " '__loader__',\n",
              " '__name__',\n",
              " '__package__',\n",
              " '__path__',\n",
              " '__spec__',\n",
              " 'add',\n",
              " 'average',\n",
              " 'concatenate',\n",
              " 'deserialize',\n",
              " 'dot',\n",
              " 'experimental',\n",
              " 'maximum',\n",
              " 'minimum',\n",
              " 'multiply',\n",
              " 'serialize',\n",
              " 'subtract']"
            ]
          },
          "metadata": {},
          "execution_count": 4
        }
      ]
    },
    {
      "cell_type": "code",
      "source": [
        "dir(tf.keras.layers.Dense)"
      ],
      "metadata": {
        "colab": {
          "base_uri": "https://localhost:8080/"
        },
        "id": "IkxZbSVAAfTI",
        "outputId": "9e7cabf3-8272-4227-f747-6fbb3969863c"
      },
      "execution_count": 5,
      "outputs": [
        {
          "output_type": "execute_result",
          "data": {
            "text/plain": [
              "['_TF_MODULE_IGNORED_PROPERTIES',\n",
              " '__call__',\n",
              " '__class__',\n",
              " '__delattr__',\n",
              " '__dict__',\n",
              " '__dir__',\n",
              " '__doc__',\n",
              " '__eq__',\n",
              " '__format__',\n",
              " '__ge__',\n",
              " '__getattribute__',\n",
              " '__getstate__',\n",
              " '__gt__',\n",
              " '__hash__',\n",
              " '__init__',\n",
              " '__init_subclass__',\n",
              " '__le__',\n",
              " '__lt__',\n",
              " '__module__',\n",
              " '__ne__',\n",
              " '__new__',\n",
              " '__reduce__',\n",
              " '__reduce_ex__',\n",
              " '__repr__',\n",
              " '__setattr__',\n",
              " '__setstate__',\n",
              " '__sizeof__',\n",
              " '__str__',\n",
              " '__subclasshook__',\n",
              " '__weakref__',\n",
              " '_add_trackable',\n",
              " '_add_trackable_child',\n",
              " '_add_variable_with_custom_getter',\n",
              " '_autographed_call',\n",
              " '_cast_single_input',\n",
              " '_checkpoint_dependencies',\n",
              " '_clear_losses',\n",
              " '_compute_dtype',\n",
              " '_copy_trackable_to_cpu',\n",
              " '_dedup_weights',\n",
              " '_deferred_dependencies',\n",
              " '_delete_tracking',\n",
              " '_deserialization_dependencies',\n",
              " '_deserialize_from_proto',\n",
              " '_dtype',\n",
              " '_eager_losses',\n",
              " '_expects_mask_arg',\n",
              " '_expects_training_arg',\n",
              " '_export_to_saved_model_graph',\n",
              " '_flatten',\n",
              " '_flatten_layers',\n",
              " '_flatten_modules',\n",
              " '_functional_construction_call',\n",
              " '_gather_children_attribute',\n",
              " '_gather_saveables_for_checkpoint',\n",
              " '_get_cell_name',\n",
              " '_get_existing_metric',\n",
              " '_get_input_masks',\n",
              " '_get_node_attribute_at_index',\n",
              " '_get_save_spec',\n",
              " '_get_trainable_state',\n",
              " '_get_unnested_name_scope',\n",
              " '_handle_activity_regularization',\n",
              " '_handle_deferred_dependencies',\n",
              " '_handle_weight_regularization',\n",
              " '_inbound_nodes',\n",
              " '_infer_output_signature',\n",
              " '_init_call_fn_args',\n",
              " '_init_set_name',\n",
              " '_instrument_layer_creation',\n",
              " '_is_layer',\n",
              " '_keras_api_names',\n",
              " '_keras_api_names_v1',\n",
              " '_keras_tensor_symbolic_call',\n",
              " '_lookup_dependency',\n",
              " '_maybe_build',\n",
              " '_maybe_cast_inputs',\n",
              " '_maybe_create_attribute',\n",
              " '_maybe_initialize_trackable',\n",
              " '_must_restore_from_config',\n",
              " '_name_based_attribute_restore',\n",
              " '_name_based_restores',\n",
              " '_name_scope',\n",
              " '_no_dependency',\n",
              " '_obj_reference_counts',\n",
              " '_object_identifier',\n",
              " '_outbound_nodes',\n",
              " '_preload_simple_restoration',\n",
              " '_restore_from_tensors',\n",
              " '_serialize_to_proto',\n",
              " '_serialize_to_tensors',\n",
              " '_set_connectivity_metadata',\n",
              " '_set_dtype_policy',\n",
              " '_set_mask_keras_history_checked',\n",
              " '_set_mask_metadata',\n",
              " '_set_save_spec',\n",
              " '_set_trainable_state',\n",
              " '_set_training_mode',\n",
              " '_setattr_tracking',\n",
              " '_should_cast_single_input',\n",
              " '_tf_api_names',\n",
              " '_tf_api_names_v1',\n",
              " '_track_trackable',\n",
              " '_track_variable',\n",
              " '_track_variables',\n",
              " '_trackable_children',\n",
              " '_trackable_saved_model_saver',\n",
              " '_tracking_metadata',\n",
              " '_unconditional_checkpoint_dependencies',\n",
              " '_unconditional_dependency_names',\n",
              " '_update_trackables',\n",
              " '_update_uid',\n",
              " '_use_input_spec_as_call_signature',\n",
              " 'activity_regularizer',\n",
              " 'add_loss',\n",
              " 'add_metric',\n",
              " 'add_update',\n",
              " 'add_variable',\n",
              " 'add_weight',\n",
              " 'build',\n",
              " 'build_from_config',\n",
              " 'call',\n",
              " 'compute_dtype',\n",
              " 'compute_mask',\n",
              " 'compute_output_shape',\n",
              " 'compute_output_signature',\n",
              " 'count_params',\n",
              " 'dtype',\n",
              " 'dtype_policy',\n",
              " 'dynamic',\n",
              " 'finalize_state',\n",
              " 'from_config',\n",
              " 'get_build_config',\n",
              " 'get_config',\n",
              " 'get_input_at',\n",
              " 'get_input_mask_at',\n",
              " 'get_input_shape_at',\n",
              " 'get_output_at',\n",
              " 'get_output_mask_at',\n",
              " 'get_output_shape_at',\n",
              " 'get_weights',\n",
              " 'inbound_nodes',\n",
              " 'input',\n",
              " 'input_mask',\n",
              " 'input_shape',\n",
              " 'input_spec',\n",
              " 'load_own_variables',\n",
              " 'losses',\n",
              " 'metrics',\n",
              " 'name',\n",
              " 'name_scope',\n",
              " 'non_trainable_variables',\n",
              " 'non_trainable_weights',\n",
              " 'outbound_nodes',\n",
              " 'output',\n",
              " 'output_mask',\n",
              " 'output_shape',\n",
              " 'save_own_variables',\n",
              " 'set_weights',\n",
              " 'stateful',\n",
              " 'submodules',\n",
              " 'supports_masking',\n",
              " 'trainable',\n",
              " 'trainable_variables',\n",
              " 'trainable_weights',\n",
              " 'updates',\n",
              " 'variable_dtype',\n",
              " 'variables',\n",
              " 'weights',\n",
              " 'with_name_scope']"
            ]
          },
          "metadata": {},
          "execution_count": 5
        }
      ]
    },
    {
      "cell_type": "markdown",
      "metadata": {
        "id": "Fn69xxPO5Psr"
      },
      "source": [
        "The full list of pre-existing layers can be seen in [the documentation](https://www.tensorflow.org/api_docs/python/tf/keras/layers). It includes Dense (a fully-connected layer),\n",
        "Conv2D, LSTM, BatchNormalization, Dropout, and many others."
      ]
    },
    {
      "cell_type": "code",
      "execution_count": 39,
      "metadata": {
        "id": "E3XKNknP5Mhb"
      },
      "outputs": [],
      "source": [
        "# To use a layer, simply call it.\n",
        "\n",
        "layer1 = tf.keras.layers.Dense(100)\n",
        "layer2 = tf.keras.layers.Dense(10, input_shape=(None, 5))\n"
      ]
    },
    {
      "cell_type": "code",
      "source": [
        "# zero tensor with shape 10 * 5\n",
        "mytensor = tf.zeros([5, 2])\n",
        "mytensor"
      ],
      "metadata": {
        "colab": {
          "base_uri": "https://localhost:8080/"
        },
        "id": "JYnuBIr6BexX",
        "outputId": "0f78de2e-331f-4626-c723-085367a3f37e"
      },
      "execution_count": 41,
      "outputs": [
        {
          "output_type": "execute_result",
          "data": {
            "text/plain": [
              "<tf.Tensor: shape=(5, 2), dtype=float32, numpy=\n",
              "array([[0., 0.],\n",
              "       [0., 0.],\n",
              "       [0., 0.],\n",
              "       [0., 0.],\n",
              "       [0., 0.]], dtype=float32)>"
            ]
          },
          "metadata": {},
          "execution_count": 41
        }
      ]
    },
    {
      "cell_type": "code",
      "source": [
        "# pass the tensor to Dense layer1\n",
        "layer1(mytensor) # output shape 5 * 100"
      ],
      "metadata": {
        "colab": {
          "base_uri": "https://localhost:8080/"
        },
        "id": "BdEcTIlwBO2O",
        "outputId": "c21efb90-d1e5-4e5b-e027-c0ee5ad0ea07"
      },
      "execution_count": 42,
      "outputs": [
        {
          "output_type": "execute_result",
          "data": {
            "text/plain": [
              "<tf.Tensor: shape=(5, 100), dtype=float32, numpy=\n",
              "array([[0., 0., 0., 0., 0., 0., 0., 0., 0., 0., 0., 0., 0., 0., 0., 0.,\n",
              "        0., 0., 0., 0., 0., 0., 0., 0., 0., 0., 0., 0., 0., 0., 0., 0.,\n",
              "        0., 0., 0., 0., 0., 0., 0., 0., 0., 0., 0., 0., 0., 0., 0., 0.,\n",
              "        0., 0., 0., 0., 0., 0., 0., 0., 0., 0., 0., 0., 0., 0., 0., 0.,\n",
              "        0., 0., 0., 0., 0., 0., 0., 0., 0., 0., 0., 0., 0., 0., 0., 0.,\n",
              "        0., 0., 0., 0., 0., 0., 0., 0., 0., 0., 0., 0., 0., 0., 0., 0.,\n",
              "        0., 0., 0., 0.],\n",
              "       [0., 0., 0., 0., 0., 0., 0., 0., 0., 0., 0., 0., 0., 0., 0., 0.,\n",
              "        0., 0., 0., 0., 0., 0., 0., 0., 0., 0., 0., 0., 0., 0., 0., 0.,\n",
              "        0., 0., 0., 0., 0., 0., 0., 0., 0., 0., 0., 0., 0., 0., 0., 0.,\n",
              "        0., 0., 0., 0., 0., 0., 0., 0., 0., 0., 0., 0., 0., 0., 0., 0.,\n",
              "        0., 0., 0., 0., 0., 0., 0., 0., 0., 0., 0., 0., 0., 0., 0., 0.,\n",
              "        0., 0., 0., 0., 0., 0., 0., 0., 0., 0., 0., 0., 0., 0., 0., 0.,\n",
              "        0., 0., 0., 0.],\n",
              "       [0., 0., 0., 0., 0., 0., 0., 0., 0., 0., 0., 0., 0., 0., 0., 0.,\n",
              "        0., 0., 0., 0., 0., 0., 0., 0., 0., 0., 0., 0., 0., 0., 0., 0.,\n",
              "        0., 0., 0., 0., 0., 0., 0., 0., 0., 0., 0., 0., 0., 0., 0., 0.,\n",
              "        0., 0., 0., 0., 0., 0., 0., 0., 0., 0., 0., 0., 0., 0., 0., 0.,\n",
              "        0., 0., 0., 0., 0., 0., 0., 0., 0., 0., 0., 0., 0., 0., 0., 0.,\n",
              "        0., 0., 0., 0., 0., 0., 0., 0., 0., 0., 0., 0., 0., 0., 0., 0.,\n",
              "        0., 0., 0., 0.],\n",
              "       [0., 0., 0., 0., 0., 0., 0., 0., 0., 0., 0., 0., 0., 0., 0., 0.,\n",
              "        0., 0., 0., 0., 0., 0., 0., 0., 0., 0., 0., 0., 0., 0., 0., 0.,\n",
              "        0., 0., 0., 0., 0., 0., 0., 0., 0., 0., 0., 0., 0., 0., 0., 0.,\n",
              "        0., 0., 0., 0., 0., 0., 0., 0., 0., 0., 0., 0., 0., 0., 0., 0.,\n",
              "        0., 0., 0., 0., 0., 0., 0., 0., 0., 0., 0., 0., 0., 0., 0., 0.,\n",
              "        0., 0., 0., 0., 0., 0., 0., 0., 0., 0., 0., 0., 0., 0., 0., 0.,\n",
              "        0., 0., 0., 0.],\n",
              "       [0., 0., 0., 0., 0., 0., 0., 0., 0., 0., 0., 0., 0., 0., 0., 0.,\n",
              "        0., 0., 0., 0., 0., 0., 0., 0., 0., 0., 0., 0., 0., 0., 0., 0.,\n",
              "        0., 0., 0., 0., 0., 0., 0., 0., 0., 0., 0., 0., 0., 0., 0., 0.,\n",
              "        0., 0., 0., 0., 0., 0., 0., 0., 0., 0., 0., 0., 0., 0., 0., 0.,\n",
              "        0., 0., 0., 0., 0., 0., 0., 0., 0., 0., 0., 0., 0., 0., 0., 0.,\n",
              "        0., 0., 0., 0., 0., 0., 0., 0., 0., 0., 0., 0., 0., 0., 0., 0.,\n",
              "        0., 0., 0., 0.]], dtype=float32)>"
            ]
          },
          "metadata": {},
          "execution_count": 42
        }
      ]
    },
    {
      "cell_type": "code",
      "source": [
        "layer2(mytensor)"
      ],
      "metadata": {
        "colab": {
          "base_uri": "https://localhost:8080/"
        },
        "id": "FF5O8m_oBGMX",
        "outputId": "fc89e467-98d9-41f8-f06e-947dcd946539"
      },
      "execution_count": 43,
      "outputs": [
        {
          "output_type": "execute_result",
          "data": {
            "text/plain": [
              "<tf.Tensor: shape=(5, 10), dtype=float32, numpy=\n",
              "array([[0., 0., 0., 0., 0., 0., 0., 0., 0., 0.],\n",
              "       [0., 0., 0., 0., 0., 0., 0., 0., 0., 0.],\n",
              "       [0., 0., 0., 0., 0., 0., 0., 0., 0., 0.],\n",
              "       [0., 0., 0., 0., 0., 0., 0., 0., 0., 0.],\n",
              "       [0., 0., 0., 0., 0., 0., 0., 0., 0., 0.]], dtype=float32)>"
            ]
          },
          "metadata": {},
          "execution_count": 43
        }
      ]
    },
    {
      "cell_type": "code",
      "execution_count": 46,
      "metadata": {
        "id": "Wt_Nsv-L5t2s",
        "colab": {
          "base_uri": "https://localhost:8080/"
        },
        "outputId": "5a67130d-ddf0-403a-9b8e-dbeb6f7ca33b"
      },
      "outputs": [
        {
          "output_type": "execute_result",
          "data": {
            "text/plain": [
              "[<tf.Variable 'dense_15/kernel:0' shape=(2, 10) dtype=float32, numpy=\n",
              " array([[-0.4105919 ,  0.0844714 , -0.6300498 , -0.16832757,  0.43509036,\n",
              "          0.7042971 ,  0.06325787, -0.65221626, -0.21891594, -0.0437668 ],\n",
              "        [-0.08527792,  0.5757986 , -0.0520733 , -0.5361195 , -0.10854447,\n",
              "          0.0976814 , -0.5529081 , -0.38492918, -0.23914626, -0.21397397]],\n",
              "       dtype=float32)>,\n",
              " <tf.Variable 'dense_15/bias:0' shape=(10,) dtype=float32, numpy=array([0., 0., 0., 0., 0., 0., 0., 0., 0., 0.], dtype=float32)>]"
            ]
          },
          "metadata": {},
          "execution_count": 46
        }
      ],
      "source": [
        "# Layers have many useful methods. For example, you can inspect all variables\n",
        "# in a layer using `layer.variables` and trainable variables using\n",
        "# `layer.trainable_variables`. In this case a fully-connected layer\n",
        "# will have variables for weights and biases.\n",
        "layer2.variables"
      ]
    },
    {
      "cell_type": "code",
      "source": [
        "# ou can get the weights for the layer - with attribute 'weights'\n",
        "layer2.weights"
      ],
      "metadata": {
        "colab": {
          "base_uri": "https://localhost:8080/"
        },
        "id": "kQi4DsZvE5Wt",
        "outputId": "0b5e3f99-feb6-44e5-c7e3-f37e7b8d2ed6"
      },
      "execution_count": 49,
      "outputs": [
        {
          "output_type": "execute_result",
          "data": {
            "text/plain": [
              "[<tf.Variable 'dense_15/kernel:0' shape=(2, 10) dtype=float32, numpy=\n",
              " array([[-0.4105919 ,  0.0844714 , -0.6300498 , -0.16832757,  0.43509036,\n",
              "          0.7042971 ,  0.06325787, -0.65221626, -0.21891594, -0.0437668 ],\n",
              "        [-0.08527792,  0.5757986 , -0.0520733 , -0.5361195 , -0.10854447,\n",
              "          0.0976814 , -0.5529081 , -0.38492918, -0.23914626, -0.21397397]],\n",
              "       dtype=float32)>,\n",
              " <tf.Variable 'dense_15/bias:0' shape=(10,) dtype=float32, numpy=array([0., 0., 0., 0., 0., 0., 0., 0., 0., 0.], dtype=float32)>]"
            ]
          },
          "metadata": {},
          "execution_count": 49
        }
      ]
    },
    {
      "cell_type": "code",
      "source": [
        "layer2.get_weights()"
      ],
      "metadata": {
        "colab": {
          "base_uri": "https://localhost:8080/"
        },
        "id": "wP1LyWE4FJ5D",
        "outputId": "c8946dff-2650-4105-fcdd-cf89c15af32b"
      },
      "execution_count": 50,
      "outputs": [
        {
          "output_type": "execute_result",
          "data": {
            "text/plain": [
              "[array([[-0.4105919 ,  0.0844714 , -0.6300498 , -0.16832757,  0.43509036,\n",
              "          0.7042971 ,  0.06325787, -0.65221626, -0.21891594, -0.0437668 ],\n",
              "        [-0.08527792,  0.5757986 , -0.0520733 , -0.5361195 , -0.10854447,\n",
              "          0.0976814 , -0.5529081 , -0.38492918, -0.23914626, -0.21397397]],\n",
              "       dtype=float32),\n",
              " array([0., 0., 0., 0., 0., 0., 0., 0., 0., 0.], dtype=float32)]"
            ]
          },
          "metadata": {},
          "execution_count": 50
        }
      ]
    },
    {
      "cell_type": "code",
      "source": [
        "w, b = layer2.get_weights()\n",
        "print(w)\n",
        "print(b)"
      ],
      "metadata": {
        "colab": {
          "base_uri": "https://localhost:8080/"
        },
        "id": "g0UdrVSUFRZN",
        "outputId": "19eb6557-55a8-4827-9732-9f2006d07dd4"
      },
      "execution_count": 52,
      "outputs": [
        {
          "output_type": "stream",
          "name": "stdout",
          "text": [
            "[[-0.4105919   0.0844714  -0.6300498  -0.16832757  0.43509036  0.7042971\n",
            "   0.06325787 -0.65221626 -0.21891594 -0.0437668 ]\n",
            " [-0.08527792  0.5757986  -0.0520733  -0.5361195  -0.10854447  0.0976814\n",
            "  -0.5529081  -0.38492918 -0.23914626 -0.21397397]]\n",
            "[0. 0. 0. 0. 0. 0. 0. 0. 0. 0.]\n"
          ]
        }
      ]
    },
    {
      "cell_type": "code",
      "execution_count": 48,
      "metadata": {
        "id": "6ilvKjz8_4MQ",
        "colab": {
          "base_uri": "https://localhost:8080/"
        },
        "outputId": "8aaffbbb-e620-49db-fb40-7bb21f721ca3"
      },
      "outputs": [
        {
          "output_type": "execute_result",
          "data": {
            "text/plain": [
              "(<tf.Variable 'dense_15/kernel:0' shape=(2, 10) dtype=float32, numpy=\n",
              " array([[-0.4105919 ,  0.0844714 , -0.6300498 , -0.16832757,  0.43509036,\n",
              "          0.7042971 ,  0.06325787, -0.65221626, -0.21891594, -0.0437668 ],\n",
              "        [-0.08527792,  0.5757986 , -0.0520733 , -0.5361195 , -0.10854447,\n",
              "          0.0976814 , -0.5529081 , -0.38492918, -0.23914626, -0.21397397]],\n",
              "       dtype=float32)>,\n",
              " <tf.Variable 'dense_15/bias:0' shape=(10,) dtype=float32, numpy=array([0., 0., 0., 0., 0., 0., 0., 0., 0., 0.], dtype=float32)>)"
            ]
          },
          "metadata": {},
          "execution_count": 48
        }
      ],
      "source": [
        "# The variables are also accessible through nice accessors\n",
        "layer2.kernel, layer2.bias"
      ]
    },
    {
      "cell_type": "markdown",
      "metadata": {
        "id": "O0kDbE54-5VS"
      },
      "source": [
        "## Implementing custom layers\n",
        "The best way to implement your own layer is extending the tf.keras.Layer class and implementing:\n",
        "\n",
        "1. `__init__` , where you can do all input-independent initialization\n",
        "2. `build`, where you know the shapes of the input tensors and can do the rest of the initialization\n",
        "3. `call`, where you do the forward computation\n",
        "\n",
        "Note that you don't have to wait until `build` is called to create your variables, you can also create them in `__init__`. However, the advantage of creating them in `build` is that it enables late variable creation based on the shape of the inputs the layer will operate on. On the other hand, creating variables in `__init__` would mean that shapes required to create the variables will need to be explicitly specified."
      ]
    },
    {
      "cell_type": "markdown",
      "source": [
        "In many cases, you may not know in advance the size of your inputs, and you would like to lazily create weights when that value becomes known, some time after instantiating the layer.\n",
        "\n",
        "In the Keras API, we recommend creating layer weights in the build(self, inputs_shape) method of your layer. The __call__() method of your layer will automatically run build the first time it is called."
      ],
      "metadata": {
        "id": "Y6KZ8uZmT-_H"
      }
    },
    {
      "cell_type": "code",
      "execution_count": 61,
      "metadata": {
        "id": "5Byl3n1k5kIy"
      },
      "outputs": [],
      "source": [
        "class MyDenseLayer(tf.keras.layers.Layer):\n",
        "  def __init__(self, num_outputs):\n",
        "    super(MyDenseLayer, self).__init__()\n",
        "    self.num_outputs = num_outputs\n",
        "\n",
        "  def build(self, input_shape):\n",
        "    self.kernel = self.add_weight(\"kernel\",\n",
        "                                  shape=[int(input_shape[-1]),\n",
        "                                         self.num_outputs])\n",
        "\n",
        "  def call(self, inputs):\n",
        "    return tf.matmul(inputs, self.kernel)\n",
        "\n",
        "layer = MyDenseLayer(10)"
      ]
    },
    {
      "cell_type": "code",
      "execution_count": 62,
      "metadata": {
        "id": "vrmBsYGOnuGO"
      },
      "outputs": [],
      "source": [
        "_ = layer(tf.zeros([10, 5])) # Calling the layer `.builds` it."
      ]
    },
    {
      "cell_type": "code",
      "execution_count": 84,
      "metadata": {
        "id": "1bsLjiPfnvat",
        "colab": {
          "base_uri": "https://localhost:8080/"
        },
        "outputId": "20421f6a-0d94-4883-ad82-e3ba95fe66d2"
      },
      "outputs": [
        {
          "output_type": "stream",
          "name": "stdout",
          "text": [
            "['my_dense_layer_2/kernel:0']\n"
          ]
        }
      ],
      "source": [
        "print([var.name for var in layer.trainable_variables])"
      ]
    },
    {
      "cell_type": "code",
      "source": [
        "class MyDenseLayer(tf.keras.layers.Layer):\n",
        "  def __init__(self, units):\n",
        "    super().__init__()\n",
        "    self.units = units\n",
        "\n",
        "  def build(self, input_shape):\n",
        "    self.kernel = self.add_weight(\"kernel\", shape=[int(input_shape[-1]), self.units], initializer=\"glorot_uniform\")\n",
        "    self.bias = self.add_weight(\"bias\", shape=(self.units), initializer=\"zeros\")\n",
        "\n",
        "  def call(self, inputs):\n",
        "    return tf.matmul(inputs, self.kernel) + self.bias\n",
        "\n",
        "myLayer = MyDenseLayer(10)"
      ],
      "metadata": {
        "id": "ikFXl5ilEjyk"
      },
      "execution_count": 77,
      "outputs": []
    },
    {
      "cell_type": "code",
      "source": [
        "inputs = tf.ones([5,2])\n",
        "inputs"
      ],
      "metadata": {
        "colab": {
          "base_uri": "https://localhost:8080/"
        },
        "id": "kwucK_OGGR05",
        "outputId": "d824fcbd-66a9-414a-b83e-47efada4e156"
      },
      "execution_count": 78,
      "outputs": [
        {
          "output_type": "execute_result",
          "data": {
            "text/plain": [
              "<tf.Tensor: shape=(5, 2), dtype=float32, numpy=\n",
              "array([[1., 1.],\n",
              "       [1., 1.],\n",
              "       [1., 1.],\n",
              "       [1., 1.],\n",
              "       [1., 1.]], dtype=float32)>"
            ]
          },
          "metadata": {},
          "execution_count": 78
        }
      ]
    },
    {
      "cell_type": "code",
      "source": [
        "l = myLayer(inputs)"
      ],
      "metadata": {
        "id": "1L3pRz4HGZXJ"
      },
      "execution_count": 79,
      "outputs": []
    },
    {
      "cell_type": "code",
      "source": [
        "myLayer.get_weights()"
      ],
      "metadata": {
        "colab": {
          "base_uri": "https://localhost:8080/"
        },
        "id": "MJdKB1bgJm-A",
        "outputId": "41f57c52-23a7-4ad1-cd51-2c99dd887340"
      },
      "execution_count": 81,
      "outputs": [
        {
          "output_type": "execute_result",
          "data": {
            "text/plain": [
              "[array([[ 0.52415925,  0.26594865, -0.29365292,  0.04650432,  0.53987724,\n",
              "          0.45106465, -0.29136807, -0.34070146,  0.33632344,  0.5831441 ],\n",
              "        [ 0.18702579,  0.3417428 , -0.3943775 , -0.51890624,  0.46836406,\n",
              "         -0.55524474, -0.44287285, -0.33460552,  0.37632316, -0.14368892]],\n",
              "       dtype=float32),\n",
              " array([0., 0., 0., 0., 0., 0., 0., 0., 0., 0.], dtype=float32)]"
            ]
          },
          "metadata": {},
          "execution_count": 81
        }
      ]
    },
    {
      "cell_type": "code",
      "source": [
        "myLayer.kernel"
      ],
      "metadata": {
        "colab": {
          "base_uri": "https://localhost:8080/"
        },
        "id": "mnZuX1KLP7x7",
        "outputId": "394e5baa-04fa-4857-d07e-28c3309f7053"
      },
      "execution_count": 82,
      "outputs": [
        {
          "output_type": "execute_result",
          "data": {
            "text/plain": [
              "<tf.Variable 'my_dense_layer_5/kernel:0' shape=(2, 10) dtype=float32, numpy=\n",
              "array([[ 0.52415925,  0.26594865, -0.29365292,  0.04650432,  0.53987724,\n",
              "         0.45106465, -0.29136807, -0.34070146,  0.33632344,  0.5831441 ],\n",
              "       [ 0.18702579,  0.3417428 , -0.3943775 , -0.51890624,  0.46836406,\n",
              "        -0.55524474, -0.44287285, -0.33460552,  0.37632316, -0.14368892]],\n",
              "      dtype=float32)>"
            ]
          },
          "metadata": {},
          "execution_count": 82
        }
      ]
    },
    {
      "cell_type": "code",
      "source": [
        "myLayer.trainable_variables"
      ],
      "metadata": {
        "colab": {
          "base_uri": "https://localhost:8080/"
        },
        "id": "aCNVbYNTQApZ",
        "outputId": "118780f5-c238-4ad7-bab5-4f532640cbc5"
      },
      "execution_count": 83,
      "outputs": [
        {
          "output_type": "execute_result",
          "data": {
            "text/plain": [
              "[<tf.Variable 'my_dense_layer_5/kernel:0' shape=(2, 10) dtype=float32, numpy=\n",
              " array([[ 0.52415925,  0.26594865, -0.29365292,  0.04650432,  0.53987724,\n",
              "          0.45106465, -0.29136807, -0.34070146,  0.33632344,  0.5831441 ],\n",
              "        [ 0.18702579,  0.3417428 , -0.3943775 , -0.51890624,  0.46836406,\n",
              "         -0.55524474, -0.44287285, -0.33460552,  0.37632316, -0.14368892]],\n",
              "       dtype=float32)>,\n",
              " <tf.Variable 'my_dense_layer_5/bias:0' shape=(10,) dtype=float32, numpy=array([0., 0., 0., 0., 0., 0., 0., 0., 0., 0.], dtype=float32)>]"
            ]
          },
          "metadata": {},
          "execution_count": 83
        }
      ]
    },
    {
      "cell_type": "code",
      "source": [
        "# total parameters\n",
        "myLayer.count_params()"
      ],
      "metadata": {
        "colab": {
          "base_uri": "https://localhost:8080/"
        },
        "id": "y07FfKPjQIg6",
        "outputId": "f3d50c2e-c0b6-4a16-c3ce-9a814d9ba6b5"
      },
      "execution_count": 86,
      "outputs": [
        {
          "output_type": "execute_result",
          "data": {
            "text/plain": [
              "30"
            ]
          },
          "metadata": {},
          "execution_count": 86
        }
      ]
    },
    {
      "cell_type": "markdown",
      "metadata": {
        "id": "tk8E2vY0-z4Z"
      },
      "source": [
        "Overall code is easier to read and maintain if it uses standard layers whenever possible, as other readers will be familiar with the behavior of standard layers. If you want to use a layer which is not present in `tf.keras.layers`, consider filing a [github issue](http://github.com/tensorflow/tensorflow/issues/new) or, even better, sending us a pull request!"
      ]
    },
    {
      "cell_type": "markdown",
      "metadata": {
        "id": "Qhg4KlbKrs3G"
      },
      "source": [
        "## Models: Composing layers\n",
        "\n",
        "Many interesting layer-like things in machine learning models are implemented by composing existing layers. For example, each residual block in a resnet is a composition of convolutions, batch normalizations, and a shortcut. Layers can be nested inside other layers.\n",
        "\n",
        "Typically you inherit from `keras.Model` when you need the model methods like: `Model.fit`,`Model.evaluate`, and `Model.save` (see [Custom Keras layers and models](https://www.tensorflow.org/guide/keras/custom_layers_and_models) for details).\n",
        "\n",
        "One other feature provided by `keras.Model` (instead of `keras.layers.Layer`) is that in addition to tracking variables, a `keras.Model` also tracks its internal layers, making them easier to inspect.\n"
      ]
    },
    {
      "cell_type": "code",
      "source": [
        "# sublassing the Model class\n",
        "\n",
        "class MyModel(tf.keras.Model):\n",
        "\n",
        "    def __init__(self):\n",
        "        super().__init__()\n",
        "        self.dense1 = tf.keras.layers.Dense(8, activation='relu')\n",
        "        self.dense2 = tf.keras.layers.Dense(3, activation='softmax')\n",
        "\n",
        "\n",
        "    def call(self, inputs):\n",
        "        x = self.dense1(inputs)\n",
        "        output = self.dense2(x)\n",
        "\n",
        "        return output\n",
        "\n",
        "myModel = MyModel()"
      ],
      "metadata": {
        "id": "npIzKtUIRPTw"
      },
      "execution_count": 94,
      "outputs": []
    },
    {
      "cell_type": "code",
      "source": [
        "inputs = tf.zeros([1, 2, 3, 3])\n",
        "inputs"
      ],
      "metadata": {
        "colab": {
          "base_uri": "https://localhost:8080/"
        },
        "id": "1u9MAtotSa14",
        "outputId": "281bd54a-982f-4cf4-b7a5-7030f791d03a"
      },
      "execution_count": 95,
      "outputs": [
        {
          "output_type": "execute_result",
          "data": {
            "text/plain": [
              "<tf.Tensor: shape=(1, 2, 3, 3), dtype=float32, numpy=\n",
              "array([[[[0., 0., 0.],\n",
              "         [0., 0., 0.],\n",
              "         [0., 0., 0.]],\n",
              "\n",
              "        [[0., 0., 0.],\n",
              "         [0., 0., 0.],\n",
              "         [0., 0., 0.]]]], dtype=float32)>"
            ]
          },
          "metadata": {},
          "execution_count": 95
        }
      ]
    },
    {
      "cell_type": "code",
      "source": [
        "myModel(inputs)"
      ],
      "metadata": {
        "colab": {
          "base_uri": "https://localhost:8080/"
        },
        "id": "iMKzC-SESLPj",
        "outputId": "cf93df15-6d1f-43f5-d41d-9451c3e7b9c2"
      },
      "execution_count": 96,
      "outputs": [
        {
          "output_type": "execute_result",
          "data": {
            "text/plain": [
              "<tf.Tensor: shape=(1, 2, 3, 3), dtype=float32, numpy=\n",
              "array([[[[0.33333334, 0.33333334, 0.33333334],\n",
              "         [0.33333334, 0.33333334, 0.33333334],\n",
              "         [0.33333334, 0.33333334, 0.33333334]],\n",
              "\n",
              "        [[0.33333334, 0.33333334, 0.33333334],\n",
              "         [0.33333334, 0.33333334, 0.33333334],\n",
              "         [0.33333334, 0.33333334, 0.33333334]]]], dtype=float32)>"
            ]
          },
          "metadata": {},
          "execution_count": 96
        }
      ]
    },
    {
      "cell_type": "code",
      "source": [
        "# now you will be able to call summary() method\n",
        "myModel.summary()"
      ],
      "metadata": {
        "colab": {
          "base_uri": "https://localhost:8080/"
        },
        "id": "GEBVyPYkS4JO",
        "outputId": "b10b230b-6bb2-4a20-c65e-4b6509665ee1"
      },
      "execution_count": 97,
      "outputs": [
        {
          "output_type": "stream",
          "name": "stdout",
          "text": [
            "Model: \"my_model_2\"\n",
            "_________________________________________________________________\n",
            " Layer (type)                Output Shape              Param #   \n",
            "=================================================================\n",
            " dense_20 (Dense)            multiple                  32        \n",
            "                                                                 \n",
            " dense_21 (Dense)            multiple                  27        \n",
            "                                                                 \n",
            "=================================================================\n",
            "Total params: 59 (236.00 Byte)\n",
            "Trainable params: 59 (236.00 Byte)\n",
            "Non-trainable params: 0 (0.00 Byte)\n",
            "_________________________________________________________________\n"
          ]
        }
      ]
    },
    {
      "cell_type": "code",
      "source": [
        "myModel.layers"
      ],
      "metadata": {
        "colab": {
          "base_uri": "https://localhost:8080/"
        },
        "id": "E0M4YQ8zS1Kv",
        "outputId": "dd4e2871-57e8-42ad-c333-270f256c695a"
      },
      "execution_count": 98,
      "outputs": [
        {
          "output_type": "execute_result",
          "data": {
            "text/plain": [
              "[<keras.src.layers.core.dense.Dense at 0x7aed388c5810>,\n",
              " <keras.src.layers.core.dense.Dense at 0x7aed388c4070>]"
            ]
          },
          "metadata": {},
          "execution_count": 98
        }
      ]
    },
    {
      "cell_type": "code",
      "source": [
        "myModel.layers[0].output"
      ],
      "metadata": {
        "colab": {
          "base_uri": "https://localhost:8080/",
          "height": 305
        },
        "id": "ursDc5ScWylU",
        "outputId": "b534ec03-05c1-41c3-b88e-0bd1f5cc34a0"
      },
      "execution_count": 103,
      "outputs": [
        {
          "output_type": "error",
          "ename": "AttributeError",
          "evalue": "ignored",
          "traceback": [
            "\u001b[0;31m---------------------------------------------------------------------------\u001b[0m",
            "\u001b[0;31mAttributeError\u001b[0m                            Traceback (most recent call last)",
            "\u001b[0;32m<ipython-input-103-2a3d2ad7012b>\u001b[0m in \u001b[0;36m<cell line: 1>\u001b[0;34m()\u001b[0m\n\u001b[0;32m----> 1\u001b[0;31m \u001b[0mmyModel\u001b[0m\u001b[0;34m.\u001b[0m\u001b[0mlayers\u001b[0m\u001b[0;34m[\u001b[0m\u001b[0;36m0\u001b[0m\u001b[0;34m]\u001b[0m\u001b[0;34m.\u001b[0m\u001b[0moutput\u001b[0m\u001b[0;34m\u001b[0m\u001b[0;34m\u001b[0m\u001b[0m\n\u001b[0m",
            "\u001b[0;32m/usr/local/lib/python3.10/dist-packages/keras/src/engine/base_layer.py\u001b[0m in \u001b[0;36moutput\u001b[0;34m(self)\u001b[0m\n\u001b[1;32m   2093\u001b[0m         \"\"\"\n\u001b[1;32m   2094\u001b[0m         \u001b[0;32mif\u001b[0m \u001b[0;32mnot\u001b[0m \u001b[0mself\u001b[0m\u001b[0;34m.\u001b[0m\u001b[0m_inbound_nodes\u001b[0m\u001b[0;34m:\u001b[0m\u001b[0;34m\u001b[0m\u001b[0;34m\u001b[0m\u001b[0m\n\u001b[0;32m-> 2095\u001b[0;31m             raise AttributeError(\n\u001b[0m\u001b[1;32m   2096\u001b[0m                 \u001b[0;34m\"Layer \"\u001b[0m \u001b[0;34m+\u001b[0m \u001b[0mself\u001b[0m\u001b[0;34m.\u001b[0m\u001b[0mname\u001b[0m \u001b[0;34m+\u001b[0m \u001b[0;34m\" has no inbound nodes.\"\u001b[0m\u001b[0;34m\u001b[0m\u001b[0;34m\u001b[0m\u001b[0m\n\u001b[1;32m   2097\u001b[0m             )\n",
            "\u001b[0;31mAttributeError\u001b[0m: Layer dense_20 has no inbound nodes."
          ]
        }
      ]
    },
    {
      "cell_type": "markdown",
      "source": [
        "Note we never specified the inputs shape, our model cannot infer the shapes, hence the summary displays layer output shape as 'multiple'"
      ],
      "metadata": {
        "id": "28Cqmc7TW4-U"
      }
    },
    {
      "cell_type": "code",
      "source": [
        "# sublassing the Model class\n",
        "\n",
        "class MyModel(tf.keras.Model):\n",
        "\n",
        "    def __init__(self):\n",
        "        super().__init__()\n",
        "        self.dense1 = tf.keras.layers.Dense(8, activation='relu')\n",
        "        self.dense2 = tf.keras.layers.Dense(3, activation='softmax')\n",
        "\n",
        "\n",
        "    def call(self, inputs):\n",
        "        x = self.dense1(inputs)\n",
        "        output = self.dense2(x)\n",
        "\n",
        "        return output\n",
        "\n",
        "    def build_graph(self, input_shapes):\n",
        "        inputs = tf.keras.layers.Input(shape=(input_shapes[-1]))\n",
        "        return tf.keras.Model(inputs=inputs, outputs=self.call(inputs))\n",
        "\n",
        "myModel = MyModel()"
      ],
      "metadata": {
        "id": "-eCCdzlBXZxk"
      },
      "execution_count": 110,
      "outputs": []
    },
    {
      "cell_type": "code",
      "source": [
        "inputs = tf.zeros([1, 2, 3, 3])\n",
        "print(inputs.shape)\n",
        "print()\n",
        "# pass the input shape to the build_graph\n",
        "myModel.build_graph(inputs.shape).summary()"
      ],
      "metadata": {
        "colab": {
          "base_uri": "https://localhost:8080/"
        },
        "id": "Mr6KoExjYB-b",
        "outputId": "6b0c025b-b2db-4be6-de23-6118b4fc1f61"
      },
      "execution_count": 116,
      "outputs": [
        {
          "output_type": "stream",
          "name": "stdout",
          "text": [
            "(1, 2, 3, 3)\n",
            "\n",
            "Model: \"model_7\"\n",
            "_________________________________________________________________\n",
            " Layer (type)                Output Shape              Param #   \n",
            "=================================================================\n",
            " input_8 (InputLayer)        [(None, 3)]               0         \n",
            "                                                                 \n",
            " dense_26 (Dense)            (None, 8)                 32        \n",
            "                                                                 \n",
            " dense_27 (Dense)            (None, 3)                 27        \n",
            "                                                                 \n",
            "=================================================================\n",
            "Total params: 59 (236.00 Byte)\n",
            "Trainable params: 59 (236.00 Byte)\n",
            "Non-trainable params: 0 (0.00 Byte)\n",
            "_________________________________________________________________\n"
          ]
        }
      ]
    },
    {
      "cell_type": "code",
      "source": [
        "myModel.build_graph(inputs.shape).layers"
      ],
      "metadata": {
        "colab": {
          "base_uri": "https://localhost:8080/"
        },
        "id": "34WH2XAZYoqN",
        "outputId": "fbb1db0a-5aae-49e0-8c71-a7281bb5f9fd"
      },
      "execution_count": 112,
      "outputs": [
        {
          "output_type": "execute_result",
          "data": {
            "text/plain": [
              "[<keras.src.engine.input_layer.InputLayer at 0x7aed38aca440>,\n",
              " <keras.src.layers.core.dense.Dense at 0x7aed4a31dd80>,\n",
              " <keras.src.layers.core.dense.Dense at 0x7aed38acab00>]"
            ]
          },
          "metadata": {},
          "execution_count": 112
        }
      ]
    },
    {
      "cell_type": "code",
      "source": [
        "myModel.build_graph(inputs.shape).layers[1].output"
      ],
      "metadata": {
        "colab": {
          "base_uri": "https://localhost:8080/"
        },
        "id": "yob9W31xYrjC",
        "outputId": "b7eaafec-9208-4bf6-ec57-4285450ced0a"
      },
      "execution_count": 117,
      "outputs": [
        {
          "output_type": "execute_result",
          "data": {
            "text/plain": [
              "<KerasTensor: shape=(None, 8) dtype=float32 (created by layer 'dense_26')>"
            ]
          },
          "metadata": {},
          "execution_count": 117
        }
      ]
    },
    {
      "cell_type": "code",
      "source": [
        "myModel.build_graph(inputs.shape).layers[2].output"
      ],
      "metadata": {
        "colab": {
          "base_uri": "https://localhost:8080/"
        },
        "id": "RwouSDGgZDeF",
        "outputId": "426c472c-c228-4389-8745-7d3f118d9952"
      },
      "execution_count": 118,
      "outputs": [
        {
          "output_type": "execute_result",
          "data": {
            "text/plain": [
              "<KerasTensor: shape=(None, 3) dtype=float32 (created by layer 'dense_27')>"
            ]
          },
          "metadata": {},
          "execution_count": 118
        }
      ]
    },
    {
      "cell_type": "code",
      "source": [
        "myModel.build_graph(inputs.shape).weights"
      ],
      "metadata": {
        "colab": {
          "base_uri": "https://localhost:8080/"
        },
        "id": "2VCD9NtfZKYC",
        "outputId": "6a3a5530-855c-403f-fa10-289989383f83"
      },
      "execution_count": 120,
      "outputs": [
        {
          "output_type": "execute_result",
          "data": {
            "text/plain": [
              "[<tf.Variable 'dense_26/kernel:0' shape=(3, 8) dtype=float32, numpy=\n",
              " array([[-2.8674293e-01, -1.8390262e-01, -1.7522275e-02, -5.3554809e-01,\n",
              "         -6.8168235e-01,  4.0598392e-02,  6.9031900e-01, -2.6497811e-01],\n",
              "        [ 1.9411564e-01,  6.7757744e-01, -1.5296274e-01,  3.4116977e-01,\n",
              "          4.4171780e-01, -7.1118814e-01,  4.6456772e-01,  4.7056645e-01],\n",
              "        [ 6.8300962e-04,  4.7827858e-01, -7.1513575e-01, -2.0653486e-01,\n",
              "          2.2426456e-01, -6.9350195e-01, -2.6225746e-02, -1.0362953e-01]],\n",
              "       dtype=float32)>,\n",
              " <tf.Variable 'dense_26/bias:0' shape=(8,) dtype=float32, numpy=array([0., 0., 0., 0., 0., 0., 0., 0.], dtype=float32)>,\n",
              " <tf.Variable 'dense_27/kernel:0' shape=(8, 3) dtype=float32, numpy=\n",
              " array([[-0.07659066,  0.16837448,  0.44584113],\n",
              "        [-0.60261   ,  0.2903282 ,  0.13611948],\n",
              "        [-0.21196842,  0.3912341 , -0.27545   ],\n",
              "        [-0.70885116, -0.67849976, -0.3631094 ],\n",
              "        [-0.4631995 ,  0.36276025,  0.39669532],\n",
              "        [-0.068757  , -0.42505252,  0.25167394],\n",
              "        [-0.21049637,  0.34762388, -0.5292115 ],\n",
              "        [-0.36449942,  0.07665175,  0.58794254]], dtype=float32)>,\n",
              " <tf.Variable 'dense_27/bias:0' shape=(3,) dtype=float32, numpy=array([0., 0., 0.], dtype=float32)>]"
            ]
          },
          "metadata": {},
          "execution_count": 120
        }
      ]
    },
    {
      "cell_type": "markdown",
      "source": [
        "\n",
        "For example here is a ResNet block:"
      ],
      "metadata": {
        "id": "QAxTrGjBROI7"
      }
    },
    {
      "cell_type": "code",
      "execution_count": null,
      "metadata": {
        "id": "N30DTXiRASlb"
      },
      "outputs": [],
      "source": [
        "class ResnetIdentityBlock(tf.keras.Model):\n",
        "  def __init__(self, kernel_size, filters):\n",
        "    super(ResnetIdentityBlock, self).__init__(name='')\n",
        "    filters1, filters2, filters3 = filters\n",
        "\n",
        "    self.conv2a = tf.keras.layers.Conv2D(filters1, (1, 1))\n",
        "    self.bn2a = tf.keras.layers.BatchNormalization()\n",
        "\n",
        "    self.conv2b = tf.keras.layers.Conv2D(filters2, kernel_size, padding='same')\n",
        "    self.bn2b = tf.keras.layers.BatchNormalization()\n",
        "\n",
        "    self.conv2c = tf.keras.layers.Conv2D(filters3, (1, 1))\n",
        "    self.bn2c = tf.keras.layers.BatchNormalization()\n",
        "\n",
        "  def call(self, input_tensor, training=False):\n",
        "    x = self.conv2a(input_tensor)\n",
        "    x = self.bn2a(x, training=training)\n",
        "    x = tf.nn.relu(x)\n",
        "\n",
        "    x = self.conv2b(x)\n",
        "    x = self.bn2b(x, training=training)\n",
        "    x = tf.nn.relu(x)\n",
        "\n",
        "    x = self.conv2c(x)\n",
        "    x = self.bn2c(x, training=training)\n",
        "\n",
        "    x += input_tensor\n",
        "    return tf.nn.relu(x)\n",
        "\n",
        "\n",
        "block = ResnetIdentityBlock(1, [1, 2, 3])"
      ]
    },
    {
      "cell_type": "code",
      "execution_count": null,
      "metadata": {
        "id": "7D8ZR5mqtokj"
      },
      "outputs": [],
      "source": [
        "_ = block(tf.zeros([1, 2, 3, 3]))"
      ]
    },
    {
      "cell_type": "code",
      "execution_count": null,
      "metadata": {
        "id": "MJ8rzFpdoE_m"
      },
      "outputs": [],
      "source": [
        "block.layers"
      ]
    },
    {
      "cell_type": "code",
      "execution_count": null,
      "metadata": {
        "id": "dewldLuDvQRM"
      },
      "outputs": [],
      "source": [
        "len(block.variables)"
      ]
    },
    {
      "cell_type": "code",
      "execution_count": null,
      "metadata": {
        "id": "FrqIXeSetaYi"
      },
      "outputs": [],
      "source": [
        "block.summary()"
      ]
    },
    {
      "cell_type": "markdown",
      "metadata": {
        "id": "wYfucVw65PMj"
      },
      "source": [
        "Much of the time, however, models which compose many layers simply call one layer after the other. This can be done in very little code using `tf.keras.Sequential`:"
      ]
    },
    {
      "cell_type": "code",
      "execution_count": null,
      "metadata": {
        "id": "L9frk7Ur4uvJ"
      },
      "outputs": [],
      "source": [
        "my_seq = tf.keras.Sequential([tf.keras.layers.Conv2D(1, (1, 1),\n",
        "                                                    input_shape=(\n",
        "                                                        None, None, 3)),\n",
        "                             tf.keras.layers.BatchNormalization(),\n",
        "                             tf.keras.layers.Conv2D(2, 1,\n",
        "                                                    padding='same'),\n",
        "                             tf.keras.layers.BatchNormalization(),\n",
        "                             tf.keras.layers.Conv2D(3, (1, 1)),\n",
        "                             tf.keras.layers.BatchNormalization()])\n",
        "my_seq(tf.zeros([1, 2, 3, 3]))"
      ]
    },
    {
      "cell_type": "code",
      "execution_count": null,
      "metadata": {
        "id": "tVAsbFITuScB"
      },
      "outputs": [],
      "source": [
        "my_seq.summary()"
      ]
    },
    {
      "cell_type": "markdown",
      "metadata": {
        "id": "c5YwYcnuK-wc"
      },
      "source": [
        "# Next steps\n",
        "\n",
        "Now you can go back to the previous notebook and adapt the linear regression example to use layers and models to be better structured."
      ]
    }
  ],
  "metadata": {
    "colab": {
      "name": "custom_layers.ipynb",
      "provenance": [],
      "include_colab_link": true
    },
    "kernelspec": {
      "display_name": "Python 3",
      "name": "python3"
    }
  },
  "nbformat": 4,
  "nbformat_minor": 0
}