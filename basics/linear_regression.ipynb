{
  "nbformat": 4,
  "nbformat_minor": 0,
  "metadata": {
    "colab": {
      "provenance": [],
      "authorship_tag": "ABX9TyNLCrnasGqNRIuQmbqY+8DM"
    },
    "kernelspec": {
      "name": "python3",
      "display_name": "Python 3"
    },
    "language_info": {
      "name": "python"
    }
  },
  "cells": [
    {
      "cell_type": "markdown",
      "source": [
        "Importing libraries"
      ],
      "metadata": {
        "id": "N29n8i6LG9EL"
      }
    },
    {
      "cell_type": "code",
      "execution_count": 44,
      "metadata": {
        "id": "DrAZgc-_HsEn"
      },
      "outputs": [],
      "source": [
        "import os\n",
        "os.environ['TF_CPP_MIN_LOG_LEVEL']='2'\n",
        "\n",
        "import matplotlib.pyplot as plt\n",
        "import numpy as np\n",
        "import pandas as pd\n",
        "\n",
        "#to make numpy printouts easier to read\n",
        "np.set_printoptions(precision=3, suppress=True)"
      ]
    },
    {
      "cell_type": "code",
      "source": [
        "## importing tensorflow library\n",
        "\n",
        "import tensorflow as tf\n",
        "from tensorflow import keras\n",
        "from tensorflow.keras import layers\n",
        "from tensorflow.keras.layers.experimental import preprocessing\n"
      ],
      "metadata": {
        "id": "BaM32vINIYru"
      },
      "execution_count": 3,
      "outputs": []
    },
    {
      "cell_type": "markdown",
      "source": [
        "Data\n",
        "1. Title: Auto-Mpg Data - https://archive.ics.uci.edu/ml/datasets/Auto+MPG\n",
        "\n",
        "2. Sources:\n",
        "   (a) Origin:  This dataset was taken from the StatLib library which is\n",
        "                maintained at Carnegie Mellon University. The dataset was \n",
        "                used in the 1983 American Statistical Association Exposition.\n",
        "   (c) Date: July 7, 1993\n",
        "\n",
        "3. Past Usage:\n",
        "    -  See 2b (above)\n",
        "    -  Quinlan,R. (1993). Combining Instance-Based and Model-Based Learning.\n",
        "       In Proceedings on the Tenth International Conference of Machine \n",
        "       Learning, 236-243, University of Massachusetts, Amherst. Morgan\n",
        "       Kaufmann.\n",
        "\n",
        "4. Relevant Information:\n",
        "\n",
        "   This dataset is a slightly modified version of the dataset provided in\n",
        "   the StatLib library.  In line with the use by Ross Quinlan (1993) in\n",
        "   predicting the attribute \"mpg\", 8 of the original instances were removed \n",
        "   because they had unknown values for the \"mpg\" attribute.  The original \n",
        "   dataset is available in the file \"auto-mpg.data-original\".\n",
        "\n",
        "   \"The data concerns city-cycle fuel consumption in miles per gallon,\n",
        "    to be predicted in terms of 3 multivalued discrete and 5 continuous\n",
        "    attributes.\" (Quinlan, 1993)\n",
        "\n",
        "5. Number of Instances: 398\n",
        "\n",
        "6. Number of Attributes: 9 including the class attribute\n",
        "\n",
        "7. Attribute Information:\n",
        "\n",
        "    1. mpg:           continuous\n",
        "    2. cylinders:     multi-valued discrete\n",
        "    3. displacement:  continuous\n",
        "    4. horsepower:    continuous\n",
        "    5. weight:        continuous\n",
        "    6. acceleration:  continuous\n",
        "    7. model year:    multi-valued discrete\n",
        "    8. origin:        multi-valued discrete\n",
        "    9. car name:      string (unique for each instance)\n",
        "\n",
        "8. Missing Attribute Values:  horsepower has 6 missing values\n"
      ],
      "metadata": {
        "id": "BaxTi9_gI1a1"
      }
    },
    {
      "cell_type": "code",
      "source": [
        "## https://archive.ics.uci.edu/ml/datasets/Auto+MPG\n",
        "\n",
        "url = 'https://archive.ics.uci.edu/ml/machine-learning-databases/auto-mpg/auto-mpg.data'\n",
        "column_names = ['MPG', 'Cylinders', 'Displacement', 'HorsePower', 'Weight', 'Acceleration', 'ModelYear', 'Origin']\n",
        "\n",
        "dataset = pd.read_csv(url, names=column_names, na_values='?', comment='\\t', sep=' ', skipinitialspace=True)"
      ],
      "metadata": {
        "id": "kWNqRv0sIzt-"
      },
      "execution_count": 31,
      "outputs": []
    },
    {
      "cell_type": "code",
      "source": [
        "dataset.head()"
      ],
      "metadata": {
        "colab": {
          "base_uri": "https://localhost:8080/",
          "height": 206
        },
        "id": "wONLompxUkmF",
        "outputId": "8e284746-e8dc-46ee-d491-cd22125828e0"
      },
      "execution_count": 8,
      "outputs": [
        {
          "output_type": "execute_result",
          "data": {
            "text/plain": [
              "    MPG  Cylinders  Displacement  HorsePower  Weight  Acceleration  ModelYear  \\\n",
              "0  18.0          8         307.0       130.0  3504.0          12.0         70   \n",
              "1  15.0          8         350.0       165.0  3693.0          11.5         70   \n",
              "2  18.0          8         318.0       150.0  3436.0          11.0         70   \n",
              "3  16.0          8         304.0       150.0  3433.0          12.0         70   \n",
              "4  17.0          8         302.0       140.0  3449.0          10.5         70   \n",
              "\n",
              "   Origin  \n",
              "0       1  \n",
              "1       1  \n",
              "2       1  \n",
              "3       1  \n",
              "4       1  "
            ],
            "text/html": [
              "\n",
              "  <div id=\"df-016dc27f-900e-459f-8d10-5cad50144ef2\">\n",
              "    <div class=\"colab-df-container\">\n",
              "      <div>\n",
              "<style scoped>\n",
              "    .dataframe tbody tr th:only-of-type {\n",
              "        vertical-align: middle;\n",
              "    }\n",
              "\n",
              "    .dataframe tbody tr th {\n",
              "        vertical-align: top;\n",
              "    }\n",
              "\n",
              "    .dataframe thead th {\n",
              "        text-align: right;\n",
              "    }\n",
              "</style>\n",
              "<table border=\"1\" class=\"dataframe\">\n",
              "  <thead>\n",
              "    <tr style=\"text-align: right;\">\n",
              "      <th></th>\n",
              "      <th>MPG</th>\n",
              "      <th>Cylinders</th>\n",
              "      <th>Displacement</th>\n",
              "      <th>HorsePower</th>\n",
              "      <th>Weight</th>\n",
              "      <th>Acceleration</th>\n",
              "      <th>ModelYear</th>\n",
              "      <th>Origin</th>\n",
              "    </tr>\n",
              "  </thead>\n",
              "  <tbody>\n",
              "    <tr>\n",
              "      <th>0</th>\n",
              "      <td>18.0</td>\n",
              "      <td>8</td>\n",
              "      <td>307.0</td>\n",
              "      <td>130.0</td>\n",
              "      <td>3504.0</td>\n",
              "      <td>12.0</td>\n",
              "      <td>70</td>\n",
              "      <td>1</td>\n",
              "    </tr>\n",
              "    <tr>\n",
              "      <th>1</th>\n",
              "      <td>15.0</td>\n",
              "      <td>8</td>\n",
              "      <td>350.0</td>\n",
              "      <td>165.0</td>\n",
              "      <td>3693.0</td>\n",
              "      <td>11.5</td>\n",
              "      <td>70</td>\n",
              "      <td>1</td>\n",
              "    </tr>\n",
              "    <tr>\n",
              "      <th>2</th>\n",
              "      <td>18.0</td>\n",
              "      <td>8</td>\n",
              "      <td>318.0</td>\n",
              "      <td>150.0</td>\n",
              "      <td>3436.0</td>\n",
              "      <td>11.0</td>\n",
              "      <td>70</td>\n",
              "      <td>1</td>\n",
              "    </tr>\n",
              "    <tr>\n",
              "      <th>3</th>\n",
              "      <td>16.0</td>\n",
              "      <td>8</td>\n",
              "      <td>304.0</td>\n",
              "      <td>150.0</td>\n",
              "      <td>3433.0</td>\n",
              "      <td>12.0</td>\n",
              "      <td>70</td>\n",
              "      <td>1</td>\n",
              "    </tr>\n",
              "    <tr>\n",
              "      <th>4</th>\n",
              "      <td>17.0</td>\n",
              "      <td>8</td>\n",
              "      <td>302.0</td>\n",
              "      <td>140.0</td>\n",
              "      <td>3449.0</td>\n",
              "      <td>10.5</td>\n",
              "      <td>70</td>\n",
              "      <td>1</td>\n",
              "    </tr>\n",
              "  </tbody>\n",
              "</table>\n",
              "</div>\n",
              "      <button class=\"colab-df-convert\" onclick=\"convertToInteractive('df-016dc27f-900e-459f-8d10-5cad50144ef2')\"\n",
              "              title=\"Convert this dataframe to an interactive table.\"\n",
              "              style=\"display:none;\">\n",
              "        \n",
              "  <svg xmlns=\"http://www.w3.org/2000/svg\" height=\"24px\"viewBox=\"0 0 24 24\"\n",
              "       width=\"24px\">\n",
              "    <path d=\"M0 0h24v24H0V0z\" fill=\"none\"/>\n",
              "    <path d=\"M18.56 5.44l.94 2.06.94-2.06 2.06-.94-2.06-.94-.94-2.06-.94 2.06-2.06.94zm-11 1L8.5 8.5l.94-2.06 2.06-.94-2.06-.94L8.5 2.5l-.94 2.06-2.06.94zm10 10l.94 2.06.94-2.06 2.06-.94-2.06-.94-.94-2.06-.94 2.06-2.06.94z\"/><path d=\"M17.41 7.96l-1.37-1.37c-.4-.4-.92-.59-1.43-.59-.52 0-1.04.2-1.43.59L10.3 9.45l-7.72 7.72c-.78.78-.78 2.05 0 2.83L4 21.41c.39.39.9.59 1.41.59.51 0 1.02-.2 1.41-.59l7.78-7.78 2.81-2.81c.8-.78.8-2.07 0-2.86zM5.41 20L4 18.59l7.72-7.72 1.47 1.35L5.41 20z\"/>\n",
              "  </svg>\n",
              "      </button>\n",
              "      \n",
              "  <style>\n",
              "    .colab-df-container {\n",
              "      display:flex;\n",
              "      flex-wrap:wrap;\n",
              "      gap: 12px;\n",
              "    }\n",
              "\n",
              "    .colab-df-convert {\n",
              "      background-color: #E8F0FE;\n",
              "      border: none;\n",
              "      border-radius: 50%;\n",
              "      cursor: pointer;\n",
              "      display: none;\n",
              "      fill: #1967D2;\n",
              "      height: 32px;\n",
              "      padding: 0 0 0 0;\n",
              "      width: 32px;\n",
              "    }\n",
              "\n",
              "    .colab-df-convert:hover {\n",
              "      background-color: #E2EBFA;\n",
              "      box-shadow: 0px 1px 2px rgba(60, 64, 67, 0.3), 0px 1px 3px 1px rgba(60, 64, 67, 0.15);\n",
              "      fill: #174EA6;\n",
              "    }\n",
              "\n",
              "    [theme=dark] .colab-df-convert {\n",
              "      background-color: #3B4455;\n",
              "      fill: #D2E3FC;\n",
              "    }\n",
              "\n",
              "    [theme=dark] .colab-df-convert:hover {\n",
              "      background-color: #434B5C;\n",
              "      box-shadow: 0px 1px 3px 1px rgba(0, 0, 0, 0.15);\n",
              "      filter: drop-shadow(0px 1px 2px rgba(0, 0, 0, 0.3));\n",
              "      fill: #FFFFFF;\n",
              "    }\n",
              "  </style>\n",
              "\n",
              "      <script>\n",
              "        const buttonEl =\n",
              "          document.querySelector('#df-016dc27f-900e-459f-8d10-5cad50144ef2 button.colab-df-convert');\n",
              "        buttonEl.style.display =\n",
              "          google.colab.kernel.accessAllowed ? 'block' : 'none';\n",
              "\n",
              "        async function convertToInteractive(key) {\n",
              "          const element = document.querySelector('#df-016dc27f-900e-459f-8d10-5cad50144ef2');\n",
              "          const dataTable =\n",
              "            await google.colab.kernel.invokeFunction('convertToInteractive',\n",
              "                                                     [key], {});\n",
              "          if (!dataTable) return;\n",
              "\n",
              "          const docLinkHtml = 'Like what you see? Visit the ' +\n",
              "            '<a target=\"_blank\" href=https://colab.research.google.com/notebooks/data_table.ipynb>data table notebook</a>'\n",
              "            + ' to learn more about interactive tables.';\n",
              "          element.innerHTML = '';\n",
              "          dataTable['output_type'] = 'display_data';\n",
              "          await google.colab.output.renderOutput(dataTable, element);\n",
              "          const docLink = document.createElement('div');\n",
              "          docLink.innerHTML = docLinkHtml;\n",
              "          element.appendChild(docLink);\n",
              "        }\n",
              "      </script>\n",
              "    </div>\n",
              "  </div>\n",
              "  "
            ]
          },
          "metadata": {},
          "execution_count": 8
        }
      ]
    },
    {
      "cell_type": "markdown",
      "source": [
        "Data Preprocessing"
      ],
      "metadata": {
        "id": "DubE1FpzHAto"
      }
    },
    {
      "cell_type": "code",
      "source": [
        "dataset.isna().sum()"
      ],
      "metadata": {
        "colab": {
          "base_uri": "https://localhost:8080/"
        },
        "id": "SAcxerhrUmRt",
        "outputId": "dd93760f-8071-48f3-bd20-dc2c25110bad"
      },
      "execution_count": 14,
      "outputs": [
        {
          "output_type": "execute_result",
          "data": {
            "text/plain": [
              "MPG             0\n",
              "Cylinders       0\n",
              "Displacement    0\n",
              "HorsePower      6\n",
              "Weight          0\n",
              "Acceleration    0\n",
              "ModelYear       0\n",
              "Origin          0\n",
              "dtype: int64"
            ]
          },
          "metadata": {},
          "execution_count": 14
        }
      ]
    },
    {
      "cell_type": "code",
      "source": [
        "dataset[dataset.HorsePower.isna()]"
      ],
      "metadata": {
        "colab": {
          "base_uri": "https://localhost:8080/",
          "height": 237
        },
        "id": "Ke17JBkwVsf-",
        "outputId": "6b086db5-7b1e-488a-a8ba-3ab278bf1af3"
      },
      "execution_count": 20,
      "outputs": [
        {
          "output_type": "execute_result",
          "data": {
            "text/plain": [
              "      MPG  Cylinders  Displacement  HorsePower  Weight  Acceleration  \\\n",
              "32   25.0          4          98.0         NaN  2046.0          19.0   \n",
              "126  21.0          6         200.0         NaN  2875.0          17.0   \n",
              "330  40.9          4          85.0         NaN  1835.0          17.3   \n",
              "336  23.6          4         140.0         NaN  2905.0          14.3   \n",
              "354  34.5          4         100.0         NaN  2320.0          15.8   \n",
              "374  23.0          4         151.0         NaN  3035.0          20.5   \n",
              "\n",
              "     ModelYear  Origin  \n",
              "32          71       1  \n",
              "126         74       1  \n",
              "330         80       2  \n",
              "336         80       1  \n",
              "354         81       2  \n",
              "374         82       1  "
            ],
            "text/html": [
              "\n",
              "  <div id=\"df-2e3ff130-0051-457e-88ee-eeba424027b3\">\n",
              "    <div class=\"colab-df-container\">\n",
              "      <div>\n",
              "<style scoped>\n",
              "    .dataframe tbody tr th:only-of-type {\n",
              "        vertical-align: middle;\n",
              "    }\n",
              "\n",
              "    .dataframe tbody tr th {\n",
              "        vertical-align: top;\n",
              "    }\n",
              "\n",
              "    .dataframe thead th {\n",
              "        text-align: right;\n",
              "    }\n",
              "</style>\n",
              "<table border=\"1\" class=\"dataframe\">\n",
              "  <thead>\n",
              "    <tr style=\"text-align: right;\">\n",
              "      <th></th>\n",
              "      <th>MPG</th>\n",
              "      <th>Cylinders</th>\n",
              "      <th>Displacement</th>\n",
              "      <th>HorsePower</th>\n",
              "      <th>Weight</th>\n",
              "      <th>Acceleration</th>\n",
              "      <th>ModelYear</th>\n",
              "      <th>Origin</th>\n",
              "    </tr>\n",
              "  </thead>\n",
              "  <tbody>\n",
              "    <tr>\n",
              "      <th>32</th>\n",
              "      <td>25.0</td>\n",
              "      <td>4</td>\n",
              "      <td>98.0</td>\n",
              "      <td>NaN</td>\n",
              "      <td>2046.0</td>\n",
              "      <td>19.0</td>\n",
              "      <td>71</td>\n",
              "      <td>1</td>\n",
              "    </tr>\n",
              "    <tr>\n",
              "      <th>126</th>\n",
              "      <td>21.0</td>\n",
              "      <td>6</td>\n",
              "      <td>200.0</td>\n",
              "      <td>NaN</td>\n",
              "      <td>2875.0</td>\n",
              "      <td>17.0</td>\n",
              "      <td>74</td>\n",
              "      <td>1</td>\n",
              "    </tr>\n",
              "    <tr>\n",
              "      <th>330</th>\n",
              "      <td>40.9</td>\n",
              "      <td>4</td>\n",
              "      <td>85.0</td>\n",
              "      <td>NaN</td>\n",
              "      <td>1835.0</td>\n",
              "      <td>17.3</td>\n",
              "      <td>80</td>\n",
              "      <td>2</td>\n",
              "    </tr>\n",
              "    <tr>\n",
              "      <th>336</th>\n",
              "      <td>23.6</td>\n",
              "      <td>4</td>\n",
              "      <td>140.0</td>\n",
              "      <td>NaN</td>\n",
              "      <td>2905.0</td>\n",
              "      <td>14.3</td>\n",
              "      <td>80</td>\n",
              "      <td>1</td>\n",
              "    </tr>\n",
              "    <tr>\n",
              "      <th>354</th>\n",
              "      <td>34.5</td>\n",
              "      <td>4</td>\n",
              "      <td>100.0</td>\n",
              "      <td>NaN</td>\n",
              "      <td>2320.0</td>\n",
              "      <td>15.8</td>\n",
              "      <td>81</td>\n",
              "      <td>2</td>\n",
              "    </tr>\n",
              "    <tr>\n",
              "      <th>374</th>\n",
              "      <td>23.0</td>\n",
              "      <td>4</td>\n",
              "      <td>151.0</td>\n",
              "      <td>NaN</td>\n",
              "      <td>3035.0</td>\n",
              "      <td>20.5</td>\n",
              "      <td>82</td>\n",
              "      <td>1</td>\n",
              "    </tr>\n",
              "  </tbody>\n",
              "</table>\n",
              "</div>\n",
              "      <button class=\"colab-df-convert\" onclick=\"convertToInteractive('df-2e3ff130-0051-457e-88ee-eeba424027b3')\"\n",
              "              title=\"Convert this dataframe to an interactive table.\"\n",
              "              style=\"display:none;\">\n",
              "        \n",
              "  <svg xmlns=\"http://www.w3.org/2000/svg\" height=\"24px\"viewBox=\"0 0 24 24\"\n",
              "       width=\"24px\">\n",
              "    <path d=\"M0 0h24v24H0V0z\" fill=\"none\"/>\n",
              "    <path d=\"M18.56 5.44l.94 2.06.94-2.06 2.06-.94-2.06-.94-.94-2.06-.94 2.06-2.06.94zm-11 1L8.5 8.5l.94-2.06 2.06-.94-2.06-.94L8.5 2.5l-.94 2.06-2.06.94zm10 10l.94 2.06.94-2.06 2.06-.94-2.06-.94-.94-2.06-.94 2.06-2.06.94z\"/><path d=\"M17.41 7.96l-1.37-1.37c-.4-.4-.92-.59-1.43-.59-.52 0-1.04.2-1.43.59L10.3 9.45l-7.72 7.72c-.78.78-.78 2.05 0 2.83L4 21.41c.39.39.9.59 1.41.59.51 0 1.02-.2 1.41-.59l7.78-7.78 2.81-2.81c.8-.78.8-2.07 0-2.86zM5.41 20L4 18.59l7.72-7.72 1.47 1.35L5.41 20z\"/>\n",
              "  </svg>\n",
              "      </button>\n",
              "      \n",
              "  <style>\n",
              "    .colab-df-container {\n",
              "      display:flex;\n",
              "      flex-wrap:wrap;\n",
              "      gap: 12px;\n",
              "    }\n",
              "\n",
              "    .colab-df-convert {\n",
              "      background-color: #E8F0FE;\n",
              "      border: none;\n",
              "      border-radius: 50%;\n",
              "      cursor: pointer;\n",
              "      display: none;\n",
              "      fill: #1967D2;\n",
              "      height: 32px;\n",
              "      padding: 0 0 0 0;\n",
              "      width: 32px;\n",
              "    }\n",
              "\n",
              "    .colab-df-convert:hover {\n",
              "      background-color: #E2EBFA;\n",
              "      box-shadow: 0px 1px 2px rgba(60, 64, 67, 0.3), 0px 1px 3px 1px rgba(60, 64, 67, 0.15);\n",
              "      fill: #174EA6;\n",
              "    }\n",
              "\n",
              "    [theme=dark] .colab-df-convert {\n",
              "      background-color: #3B4455;\n",
              "      fill: #D2E3FC;\n",
              "    }\n",
              "\n",
              "    [theme=dark] .colab-df-convert:hover {\n",
              "      background-color: #434B5C;\n",
              "      box-shadow: 0px 1px 3px 1px rgba(0, 0, 0, 0.15);\n",
              "      filter: drop-shadow(0px 1px 2px rgba(0, 0, 0, 0.3));\n",
              "      fill: #FFFFFF;\n",
              "    }\n",
              "  </style>\n",
              "\n",
              "      <script>\n",
              "        const buttonEl =\n",
              "          document.querySelector('#df-2e3ff130-0051-457e-88ee-eeba424027b3 button.colab-df-convert');\n",
              "        buttonEl.style.display =\n",
              "          google.colab.kernel.accessAllowed ? 'block' : 'none';\n",
              "\n",
              "        async function convertToInteractive(key) {\n",
              "          const element = document.querySelector('#df-2e3ff130-0051-457e-88ee-eeba424027b3');\n",
              "          const dataTable =\n",
              "            await google.colab.kernel.invokeFunction('convertToInteractive',\n",
              "                                                     [key], {});\n",
              "          if (!dataTable) return;\n",
              "\n",
              "          const docLinkHtml = 'Like what you see? Visit the ' +\n",
              "            '<a target=\"_blank\" href=https://colab.research.google.com/notebooks/data_table.ipynb>data table notebook</a>'\n",
              "            + ' to learn more about interactive tables.';\n",
              "          element.innerHTML = '';\n",
              "          dataTable['output_type'] = 'display_data';\n",
              "          await google.colab.output.renderOutput(dataTable, element);\n",
              "          const docLink = document.createElement('div');\n",
              "          docLink.innerHTML = docLinkHtml;\n",
              "          element.appendChild(docLink);\n",
              "        }\n",
              "      </script>\n",
              "    </div>\n",
              "  </div>\n",
              "  "
            ]
          },
          "metadata": {},
          "execution_count": 20
        }
      ]
    },
    {
      "cell_type": "code",
      "source": [
        "dataset = dataset.dropna()\n",
        "dataset.isna().sum()"
      ],
      "metadata": {
        "colab": {
          "base_uri": "https://localhost:8080/"
        },
        "id": "LHTErpOVWp1A",
        "outputId": "9650bb67-153b-4505-e2c0-7d9579ba3769"
      },
      "execution_count": 32,
      "outputs": [
        {
          "output_type": "execute_result",
          "data": {
            "text/plain": [
              "MPG             0\n",
              "Cylinders       0\n",
              "Displacement    0\n",
              "HorsePower      0\n",
              "Weight          0\n",
              "Acceleration    0\n",
              "ModelYear       0\n",
              "Origin          0\n",
              "dtype: int64"
            ]
          },
          "metadata": {},
          "execution_count": 32
        }
      ]
    },
    {
      "cell_type": "code",
      "source": [
        "dataset.info()"
      ],
      "metadata": {
        "colab": {
          "base_uri": "https://localhost:8080/"
        },
        "id": "KvWWZNxnXd_X",
        "outputId": "0342dbad-3484-4fad-e4e5-64b681391c7c"
      },
      "execution_count": 22,
      "outputs": [
        {
          "output_type": "stream",
          "name": "stdout",
          "text": [
            "<class 'pandas.core.frame.DataFrame'>\n",
            "Int64Index: 392 entries, 0 to 397\n",
            "Data columns (total 8 columns):\n",
            " #   Column        Non-Null Count  Dtype  \n",
            "---  ------        --------------  -----  \n",
            " 0   MPG           392 non-null    float64\n",
            " 1   Cylinders     392 non-null    int64  \n",
            " 2   Displacement  392 non-null    float64\n",
            " 3   HorsePower    392 non-null    float64\n",
            " 4   Weight        392 non-null    float64\n",
            " 5   Acceleration  392 non-null    float64\n",
            " 6   ModelYear     392 non-null    int64  \n",
            " 7   Origin        392 non-null    int64  \n",
            "dtypes: float64(5), int64(3)\n",
            "memory usage: 27.6 KB\n"
          ]
        }
      ]
    },
    {
      "cell_type": "code",
      "source": [
        "#converting Origin column to one-hot encoding\n",
        "type(pd.get_dummies(dataset.Origin, prefix='Origin'))"
      ],
      "metadata": {
        "colab": {
          "base_uri": "https://localhost:8080/"
        },
        "id": "pxF01KwUXiz1",
        "outputId": "ebbca7b4-5307-4e34-a2ab-616f1c4f21ad"
      },
      "execution_count": 26,
      "outputs": [
        {
          "output_type": "execute_result",
          "data": {
            "text/plain": [
              "pandas.core.frame.DataFrame"
            ]
          },
          "metadata": {},
          "execution_count": 26
        }
      ]
    },
    {
      "cell_type": "code",
      "source": [
        "dataset = pd.concat([dataset, pd.get_dummies(dataset.Origin, prefix='Origin')], axis=1)\n",
        "dataset.drop('Origin', axis=1, inplace=True)"
      ],
      "metadata": {
        "id": "xoB1REPWYTgV"
      },
      "execution_count": 33,
      "outputs": []
    },
    {
      "cell_type": "code",
      "source": [
        "dataset.tail()"
      ],
      "metadata": {
        "colab": {
          "base_uri": "https://localhost:8080/",
          "height": 206
        },
        "id": "0XNnsyYnZs3b",
        "outputId": "290fddde-e62a-4e0c-e1f8-abe5f684c2fb"
      },
      "execution_count": 35,
      "outputs": [
        {
          "output_type": "execute_result",
          "data": {
            "text/plain": [
              "      MPG  Cylinders  Displacement  HorsePower  Weight  Acceleration  \\\n",
              "393  27.0          4         140.0        86.0  2790.0          15.6   \n",
              "394  44.0          4          97.0        52.0  2130.0          24.6   \n",
              "395  32.0          4         135.0        84.0  2295.0          11.6   \n",
              "396  28.0          4         120.0        79.0  2625.0          18.6   \n",
              "397  31.0          4         119.0        82.0  2720.0          19.4   \n",
              "\n",
              "     ModelYear  Origin_1  Origin_2  Origin_3  \n",
              "393         82         1         0         0  \n",
              "394         82         0         1         0  \n",
              "395         82         1         0         0  \n",
              "396         82         1         0         0  \n",
              "397         82         1         0         0  "
            ],
            "text/html": [
              "\n",
              "  <div id=\"df-85cbbe7d-9f0c-4865-9da1-3a58a096b439\">\n",
              "    <div class=\"colab-df-container\">\n",
              "      <div>\n",
              "<style scoped>\n",
              "    .dataframe tbody tr th:only-of-type {\n",
              "        vertical-align: middle;\n",
              "    }\n",
              "\n",
              "    .dataframe tbody tr th {\n",
              "        vertical-align: top;\n",
              "    }\n",
              "\n",
              "    .dataframe thead th {\n",
              "        text-align: right;\n",
              "    }\n",
              "</style>\n",
              "<table border=\"1\" class=\"dataframe\">\n",
              "  <thead>\n",
              "    <tr style=\"text-align: right;\">\n",
              "      <th></th>\n",
              "      <th>MPG</th>\n",
              "      <th>Cylinders</th>\n",
              "      <th>Displacement</th>\n",
              "      <th>HorsePower</th>\n",
              "      <th>Weight</th>\n",
              "      <th>Acceleration</th>\n",
              "      <th>ModelYear</th>\n",
              "      <th>Origin_1</th>\n",
              "      <th>Origin_2</th>\n",
              "      <th>Origin_3</th>\n",
              "    </tr>\n",
              "  </thead>\n",
              "  <tbody>\n",
              "    <tr>\n",
              "      <th>393</th>\n",
              "      <td>27.0</td>\n",
              "      <td>4</td>\n",
              "      <td>140.0</td>\n",
              "      <td>86.0</td>\n",
              "      <td>2790.0</td>\n",
              "      <td>15.6</td>\n",
              "      <td>82</td>\n",
              "      <td>1</td>\n",
              "      <td>0</td>\n",
              "      <td>0</td>\n",
              "    </tr>\n",
              "    <tr>\n",
              "      <th>394</th>\n",
              "      <td>44.0</td>\n",
              "      <td>4</td>\n",
              "      <td>97.0</td>\n",
              "      <td>52.0</td>\n",
              "      <td>2130.0</td>\n",
              "      <td>24.6</td>\n",
              "      <td>82</td>\n",
              "      <td>0</td>\n",
              "      <td>1</td>\n",
              "      <td>0</td>\n",
              "    </tr>\n",
              "    <tr>\n",
              "      <th>395</th>\n",
              "      <td>32.0</td>\n",
              "      <td>4</td>\n",
              "      <td>135.0</td>\n",
              "      <td>84.0</td>\n",
              "      <td>2295.0</td>\n",
              "      <td>11.6</td>\n",
              "      <td>82</td>\n",
              "      <td>1</td>\n",
              "      <td>0</td>\n",
              "      <td>0</td>\n",
              "    </tr>\n",
              "    <tr>\n",
              "      <th>396</th>\n",
              "      <td>28.0</td>\n",
              "      <td>4</td>\n",
              "      <td>120.0</td>\n",
              "      <td>79.0</td>\n",
              "      <td>2625.0</td>\n",
              "      <td>18.6</td>\n",
              "      <td>82</td>\n",
              "      <td>1</td>\n",
              "      <td>0</td>\n",
              "      <td>0</td>\n",
              "    </tr>\n",
              "    <tr>\n",
              "      <th>397</th>\n",
              "      <td>31.0</td>\n",
              "      <td>4</td>\n",
              "      <td>119.0</td>\n",
              "      <td>82.0</td>\n",
              "      <td>2720.0</td>\n",
              "      <td>19.4</td>\n",
              "      <td>82</td>\n",
              "      <td>1</td>\n",
              "      <td>0</td>\n",
              "      <td>0</td>\n",
              "    </tr>\n",
              "  </tbody>\n",
              "</table>\n",
              "</div>\n",
              "      <button class=\"colab-df-convert\" onclick=\"convertToInteractive('df-85cbbe7d-9f0c-4865-9da1-3a58a096b439')\"\n",
              "              title=\"Convert this dataframe to an interactive table.\"\n",
              "              style=\"display:none;\">\n",
              "        \n",
              "  <svg xmlns=\"http://www.w3.org/2000/svg\" height=\"24px\"viewBox=\"0 0 24 24\"\n",
              "       width=\"24px\">\n",
              "    <path d=\"M0 0h24v24H0V0z\" fill=\"none\"/>\n",
              "    <path d=\"M18.56 5.44l.94 2.06.94-2.06 2.06-.94-2.06-.94-.94-2.06-.94 2.06-2.06.94zm-11 1L8.5 8.5l.94-2.06 2.06-.94-2.06-.94L8.5 2.5l-.94 2.06-2.06.94zm10 10l.94 2.06.94-2.06 2.06-.94-2.06-.94-.94-2.06-.94 2.06-2.06.94z\"/><path d=\"M17.41 7.96l-1.37-1.37c-.4-.4-.92-.59-1.43-.59-.52 0-1.04.2-1.43.59L10.3 9.45l-7.72 7.72c-.78.78-.78 2.05 0 2.83L4 21.41c.39.39.9.59 1.41.59.51 0 1.02-.2 1.41-.59l7.78-7.78 2.81-2.81c.8-.78.8-2.07 0-2.86zM5.41 20L4 18.59l7.72-7.72 1.47 1.35L5.41 20z\"/>\n",
              "  </svg>\n",
              "      </button>\n",
              "      \n",
              "  <style>\n",
              "    .colab-df-container {\n",
              "      display:flex;\n",
              "      flex-wrap:wrap;\n",
              "      gap: 12px;\n",
              "    }\n",
              "\n",
              "    .colab-df-convert {\n",
              "      background-color: #E8F0FE;\n",
              "      border: none;\n",
              "      border-radius: 50%;\n",
              "      cursor: pointer;\n",
              "      display: none;\n",
              "      fill: #1967D2;\n",
              "      height: 32px;\n",
              "      padding: 0 0 0 0;\n",
              "      width: 32px;\n",
              "    }\n",
              "\n",
              "    .colab-df-convert:hover {\n",
              "      background-color: #E2EBFA;\n",
              "      box-shadow: 0px 1px 2px rgba(60, 64, 67, 0.3), 0px 1px 3px 1px rgba(60, 64, 67, 0.15);\n",
              "      fill: #174EA6;\n",
              "    }\n",
              "\n",
              "    [theme=dark] .colab-df-convert {\n",
              "      background-color: #3B4455;\n",
              "      fill: #D2E3FC;\n",
              "    }\n",
              "\n",
              "    [theme=dark] .colab-df-convert:hover {\n",
              "      background-color: #434B5C;\n",
              "      box-shadow: 0px 1px 3px 1px rgba(0, 0, 0, 0.15);\n",
              "      filter: drop-shadow(0px 1px 2px rgba(0, 0, 0, 0.3));\n",
              "      fill: #FFFFFF;\n",
              "    }\n",
              "  </style>\n",
              "\n",
              "      <script>\n",
              "        const buttonEl =\n",
              "          document.querySelector('#df-85cbbe7d-9f0c-4865-9da1-3a58a096b439 button.colab-df-convert');\n",
              "        buttonEl.style.display =\n",
              "          google.colab.kernel.accessAllowed ? 'block' : 'none';\n",
              "\n",
              "        async function convertToInteractive(key) {\n",
              "          const element = document.querySelector('#df-85cbbe7d-9f0c-4865-9da1-3a58a096b439');\n",
              "          const dataTable =\n",
              "            await google.colab.kernel.invokeFunction('convertToInteractive',\n",
              "                                                     [key], {});\n",
              "          if (!dataTable) return;\n",
              "\n",
              "          const docLinkHtml = 'Like what you see? Visit the ' +\n",
              "            '<a target=\"_blank\" href=https://colab.research.google.com/notebooks/data_table.ipynb>data table notebook</a>'\n",
              "            + ' to learn more about interactive tables.';\n",
              "          element.innerHTML = '';\n",
              "          dataTable['output_type'] = 'display_data';\n",
              "          await google.colab.output.renderOutput(dataTable, element);\n",
              "          const docLink = document.createElement('div');\n",
              "          docLink.innerHTML = docLinkHtml;\n",
              "          element.appendChild(docLink);\n",
              "        }\n",
              "      </script>\n",
              "    </div>\n",
              "  </div>\n",
              "  "
            ]
          },
          "metadata": {},
          "execution_count": 35
        }
      ]
    },
    {
      "cell_type": "code",
      "source": [
        "##Spliting dataset\n",
        "\n",
        "train_dataset = dataset.sample(frac=0.8, random_state=0)\n",
        "test_dataset = dataset.drop(train_dataset.index\n",
        "                            )"
      ],
      "metadata": {
        "id": "2dIFe4RKZ6yt"
      },
      "execution_count": 37,
      "outputs": []
    },
    {
      "cell_type": "code",
      "source": [
        "print(dataset.shape, train_dataset.shape, test_dataset.shape)"
      ],
      "metadata": {
        "colab": {
          "base_uri": "https://localhost:8080/"
        },
        "id": "bl3jPQw-al_j",
        "outputId": "47b62008-57ca-4ede-a50e-4e33ed636417"
      },
      "execution_count": 38,
      "outputs": [
        {
          "output_type": "stream",
          "name": "stdout",
          "text": [
            "(392, 10) (314, 10) (78, 10)\n"
          ]
        }
      ]
    },
    {
      "cell_type": "code",
      "source": [
        "#data basic stats\n",
        "train_dataset.describe().transpose()"
      ],
      "metadata": {
        "colab": {
          "base_uri": "https://localhost:8080/",
          "height": 363
        },
        "id": "QU6cjJ7mayAL",
        "outputId": "a1d9b402-61b3-480b-adf0-a9834b817a4b"
      },
      "execution_count": 41,
      "outputs": [
        {
          "output_type": "execute_result",
          "data": {
            "text/plain": [
              "              count         mean         std     min      25%     50%  \\\n",
              "MPG           314.0    23.310510    7.728652    10.0    17.00    22.0   \n",
              "Cylinders     314.0     5.477707    1.699788     3.0     4.00     4.0   \n",
              "Displacement  314.0   195.318471  104.331589    68.0   105.50   151.0   \n",
              "HorsePower    314.0   104.869427   38.096214    46.0    76.25    94.5   \n",
              "Weight        314.0  2990.251592  843.898596  1649.0  2256.50  2822.5   \n",
              "Acceleration  314.0    15.559236    2.789230     8.0    13.80    15.5   \n",
              "ModelYear     314.0    75.898089    3.675642    70.0    73.00    76.0   \n",
              "Origin_1      314.0     0.624204    0.485101     0.0     0.00     1.0   \n",
              "Origin_2      314.0     0.178344    0.383413     0.0     0.00     0.0   \n",
              "Origin_3      314.0     0.197452    0.398712     0.0     0.00     0.0   \n",
              "\n",
              "                  75%     max  \n",
              "MPG             28.95    46.6  \n",
              "Cylinders        8.00     8.0  \n",
              "Displacement   265.75   455.0  \n",
              "HorsePower     128.00   225.0  \n",
              "Weight        3608.00  5140.0  \n",
              "Acceleration    17.20    24.8  \n",
              "ModelYear       79.00    82.0  \n",
              "Origin_1         1.00     1.0  \n",
              "Origin_2         0.00     1.0  \n",
              "Origin_3         0.00     1.0  "
            ],
            "text/html": [
              "\n",
              "  <div id=\"df-d20cd59f-43a9-4790-8555-af422e8ad8ea\">\n",
              "    <div class=\"colab-df-container\">\n",
              "      <div>\n",
              "<style scoped>\n",
              "    .dataframe tbody tr th:only-of-type {\n",
              "        vertical-align: middle;\n",
              "    }\n",
              "\n",
              "    .dataframe tbody tr th {\n",
              "        vertical-align: top;\n",
              "    }\n",
              "\n",
              "    .dataframe thead th {\n",
              "        text-align: right;\n",
              "    }\n",
              "</style>\n",
              "<table border=\"1\" class=\"dataframe\">\n",
              "  <thead>\n",
              "    <tr style=\"text-align: right;\">\n",
              "      <th></th>\n",
              "      <th>count</th>\n",
              "      <th>mean</th>\n",
              "      <th>std</th>\n",
              "      <th>min</th>\n",
              "      <th>25%</th>\n",
              "      <th>50%</th>\n",
              "      <th>75%</th>\n",
              "      <th>max</th>\n",
              "    </tr>\n",
              "  </thead>\n",
              "  <tbody>\n",
              "    <tr>\n",
              "      <th>MPG</th>\n",
              "      <td>314.0</td>\n",
              "      <td>23.310510</td>\n",
              "      <td>7.728652</td>\n",
              "      <td>10.0</td>\n",
              "      <td>17.00</td>\n",
              "      <td>22.0</td>\n",
              "      <td>28.95</td>\n",
              "      <td>46.6</td>\n",
              "    </tr>\n",
              "    <tr>\n",
              "      <th>Cylinders</th>\n",
              "      <td>314.0</td>\n",
              "      <td>5.477707</td>\n",
              "      <td>1.699788</td>\n",
              "      <td>3.0</td>\n",
              "      <td>4.00</td>\n",
              "      <td>4.0</td>\n",
              "      <td>8.00</td>\n",
              "      <td>8.0</td>\n",
              "    </tr>\n",
              "    <tr>\n",
              "      <th>Displacement</th>\n",
              "      <td>314.0</td>\n",
              "      <td>195.318471</td>\n",
              "      <td>104.331589</td>\n",
              "      <td>68.0</td>\n",
              "      <td>105.50</td>\n",
              "      <td>151.0</td>\n",
              "      <td>265.75</td>\n",
              "      <td>455.0</td>\n",
              "    </tr>\n",
              "    <tr>\n",
              "      <th>HorsePower</th>\n",
              "      <td>314.0</td>\n",
              "      <td>104.869427</td>\n",
              "      <td>38.096214</td>\n",
              "      <td>46.0</td>\n",
              "      <td>76.25</td>\n",
              "      <td>94.5</td>\n",
              "      <td>128.00</td>\n",
              "      <td>225.0</td>\n",
              "    </tr>\n",
              "    <tr>\n",
              "      <th>Weight</th>\n",
              "      <td>314.0</td>\n",
              "      <td>2990.251592</td>\n",
              "      <td>843.898596</td>\n",
              "      <td>1649.0</td>\n",
              "      <td>2256.50</td>\n",
              "      <td>2822.5</td>\n",
              "      <td>3608.00</td>\n",
              "      <td>5140.0</td>\n",
              "    </tr>\n",
              "    <tr>\n",
              "      <th>Acceleration</th>\n",
              "      <td>314.0</td>\n",
              "      <td>15.559236</td>\n",
              "      <td>2.789230</td>\n",
              "      <td>8.0</td>\n",
              "      <td>13.80</td>\n",
              "      <td>15.5</td>\n",
              "      <td>17.20</td>\n",
              "      <td>24.8</td>\n",
              "    </tr>\n",
              "    <tr>\n",
              "      <th>ModelYear</th>\n",
              "      <td>314.0</td>\n",
              "      <td>75.898089</td>\n",
              "      <td>3.675642</td>\n",
              "      <td>70.0</td>\n",
              "      <td>73.00</td>\n",
              "      <td>76.0</td>\n",
              "      <td>79.00</td>\n",
              "      <td>82.0</td>\n",
              "    </tr>\n",
              "    <tr>\n",
              "      <th>Origin_1</th>\n",
              "      <td>314.0</td>\n",
              "      <td>0.624204</td>\n",
              "      <td>0.485101</td>\n",
              "      <td>0.0</td>\n",
              "      <td>0.00</td>\n",
              "      <td>1.0</td>\n",
              "      <td>1.00</td>\n",
              "      <td>1.0</td>\n",
              "    </tr>\n",
              "    <tr>\n",
              "      <th>Origin_2</th>\n",
              "      <td>314.0</td>\n",
              "      <td>0.178344</td>\n",
              "      <td>0.383413</td>\n",
              "      <td>0.0</td>\n",
              "      <td>0.00</td>\n",
              "      <td>0.0</td>\n",
              "      <td>0.00</td>\n",
              "      <td>1.0</td>\n",
              "    </tr>\n",
              "    <tr>\n",
              "      <th>Origin_3</th>\n",
              "      <td>314.0</td>\n",
              "      <td>0.197452</td>\n",
              "      <td>0.398712</td>\n",
              "      <td>0.0</td>\n",
              "      <td>0.00</td>\n",
              "      <td>0.0</td>\n",
              "      <td>0.00</td>\n",
              "      <td>1.0</td>\n",
              "    </tr>\n",
              "  </tbody>\n",
              "</table>\n",
              "</div>\n",
              "      <button class=\"colab-df-convert\" onclick=\"convertToInteractive('df-d20cd59f-43a9-4790-8555-af422e8ad8ea')\"\n",
              "              title=\"Convert this dataframe to an interactive table.\"\n",
              "              style=\"display:none;\">\n",
              "        \n",
              "  <svg xmlns=\"http://www.w3.org/2000/svg\" height=\"24px\"viewBox=\"0 0 24 24\"\n",
              "       width=\"24px\">\n",
              "    <path d=\"M0 0h24v24H0V0z\" fill=\"none\"/>\n",
              "    <path d=\"M18.56 5.44l.94 2.06.94-2.06 2.06-.94-2.06-.94-.94-2.06-.94 2.06-2.06.94zm-11 1L8.5 8.5l.94-2.06 2.06-.94-2.06-.94L8.5 2.5l-.94 2.06-2.06.94zm10 10l.94 2.06.94-2.06 2.06-.94-2.06-.94-.94-2.06-.94 2.06-2.06.94z\"/><path d=\"M17.41 7.96l-1.37-1.37c-.4-.4-.92-.59-1.43-.59-.52 0-1.04.2-1.43.59L10.3 9.45l-7.72 7.72c-.78.78-.78 2.05 0 2.83L4 21.41c.39.39.9.59 1.41.59.51 0 1.02-.2 1.41-.59l7.78-7.78 2.81-2.81c.8-.78.8-2.07 0-2.86zM5.41 20L4 18.59l7.72-7.72 1.47 1.35L5.41 20z\"/>\n",
              "  </svg>\n",
              "      </button>\n",
              "      \n",
              "  <style>\n",
              "    .colab-df-container {\n",
              "      display:flex;\n",
              "      flex-wrap:wrap;\n",
              "      gap: 12px;\n",
              "    }\n",
              "\n",
              "    .colab-df-convert {\n",
              "      background-color: #E8F0FE;\n",
              "      border: none;\n",
              "      border-radius: 50%;\n",
              "      cursor: pointer;\n",
              "      display: none;\n",
              "      fill: #1967D2;\n",
              "      height: 32px;\n",
              "      padding: 0 0 0 0;\n",
              "      width: 32px;\n",
              "    }\n",
              "\n",
              "    .colab-df-convert:hover {\n",
              "      background-color: #E2EBFA;\n",
              "      box-shadow: 0px 1px 2px rgba(60, 64, 67, 0.3), 0px 1px 3px 1px rgba(60, 64, 67, 0.15);\n",
              "      fill: #174EA6;\n",
              "    }\n",
              "\n",
              "    [theme=dark] .colab-df-convert {\n",
              "      background-color: #3B4455;\n",
              "      fill: #D2E3FC;\n",
              "    }\n",
              "\n",
              "    [theme=dark] .colab-df-convert:hover {\n",
              "      background-color: #434B5C;\n",
              "      box-shadow: 0px 1px 3px 1px rgba(0, 0, 0, 0.15);\n",
              "      filter: drop-shadow(0px 1px 2px rgba(0, 0, 0, 0.3));\n",
              "      fill: #FFFFFF;\n",
              "    }\n",
              "  </style>\n",
              "\n",
              "      <script>\n",
              "        const buttonEl =\n",
              "          document.querySelector('#df-d20cd59f-43a9-4790-8555-af422e8ad8ea button.colab-df-convert');\n",
              "        buttonEl.style.display =\n",
              "          google.colab.kernel.accessAllowed ? 'block' : 'none';\n",
              "\n",
              "        async function convertToInteractive(key) {\n",
              "          const element = document.querySelector('#df-d20cd59f-43a9-4790-8555-af422e8ad8ea');\n",
              "          const dataTable =\n",
              "            await google.colab.kernel.invokeFunction('convertToInteractive',\n",
              "                                                     [key], {});\n",
              "          if (!dataTable) return;\n",
              "\n",
              "          const docLinkHtml = 'Like what you see? Visit the ' +\n",
              "            '<a target=\"_blank\" href=https://colab.research.google.com/notebooks/data_table.ipynb>data table notebook</a>'\n",
              "            + ' to learn more about interactive tables.';\n",
              "          element.innerHTML = '';\n",
              "          dataTable['output_type'] = 'display_data';\n",
              "          await google.colab.output.renderOutput(dataTable, element);\n",
              "          const docLink = document.createElement('div');\n",
              "          docLink.innerHTML = docLinkHtml;\n",
              "          element.appendChild(docLink);\n",
              "        }\n",
              "      </script>\n",
              "    </div>\n",
              "  </div>\n",
              "  "
            ]
          },
          "metadata": {},
          "execution_count": 41
        }
      ]
    },
    {
      "cell_type": "code",
      "source": [
        "train_features = train_dataset.copy()\n",
        "test_features = test_dataset.copy()"
      ],
      "metadata": {
        "id": "KUctmTKna2-z"
      },
      "execution_count": 42,
      "outputs": []
    },
    {
      "cell_type": "code",
      "source": [
        "train_labels = train_features.pop('MPG')\n",
        "test_labels = test_features.pop('MPG')"
      ],
      "metadata": {
        "id": "wKwCVKPFeNaa"
      },
      "execution_count": 43,
      "outputs": []
    },
    {
      "cell_type": "code",
      "source": [
        "## defining a function to plot data for single features wise\n",
        "def plot(feature, x=None, y=None):\n",
        "  #plt.figure(figsize=(10,8))\n",
        "  plt.scatter(train_features[feature], train_labels, label='Data')\n",
        "  if x is not None and y is not None:\n",
        "    plt.plot(x, y, color='k', label='Predictions')\n",
        "\n",
        "  plt.xlabel(feature)\n",
        "  plt.ylabel('MPG')\n",
        "  plt.legend()\n"
      ],
      "metadata": {
        "id": "f0a2FhaAeZco"
      },
      "execution_count": 47,
      "outputs": []
    },
    {
      "cell_type": "code",
      "source": [
        "plot('HorsePower')"
      ],
      "metadata": {
        "colab": {
          "base_uri": "https://localhost:8080/",
          "height": 449
        },
        "id": "hG2lA0jffXsB",
        "outputId": "17491c71-658c-4979-b409-1fb4794e1d2a"
      },
      "execution_count": 48,
      "outputs": [
        {
          "output_type": "display_data",
          "data": {
            "text/plain": [
              "<Figure size 640x480 with 1 Axes>"
            ],
            "image/png": "[encoded data removed]"
          },
          "metadata": {}
        }
      ]
    },
    {
      "cell_type": "code",
      "source": [
        "plot('Weight')"
      ],
      "metadata": {
        "colab": {
          "base_uri": "https://localhost:8080/",
          "height": 449
        },
        "id": "-1KaTIn_fbE5",
        "outputId": "20576ed9-c5e9-4ba9-e02d-59c8efa3251d"
      },
      "execution_count": 49,
      "outputs": [
        {
          "output_type": "display_data",
          "data": {
            "text/plain": [
              "<Figure size 640x480 with 1 Axes>"
            ],
            "image/png": "[encoded data removed]"
          },
          "metadata": {}
        }
      ]
    },
    {
      "cell_type": "markdown",
      "source": [
        "Normalize Data"
      ],
      "metadata": {
        "id": "vls4IUNPfzgB"
      }
    },
    {
      "cell_type": "code",
      "source": [
        "train_dataset.describe().transpose()[['mean', 'std']]"
      ],
      "metadata": {
        "colab": {
          "base_uri": "https://localhost:8080/",
          "height": 363
        },
        "id": "hWdIDD8HfkUX",
        "outputId": "70ba1002-903c-4f4c-ba53-fa16cd93ed38"
      },
      "execution_count": 50,
      "outputs": [
        {
          "output_type": "execute_result",
          "data": {
            "text/plain": [
              "                     mean         std\n",
              "MPG             23.310510    7.728652\n",
              "Cylinders        5.477707    1.699788\n",
              "Displacement   195.318471  104.331589\n",
              "HorsePower     104.869427   38.096214\n",
              "Weight        2990.251592  843.898596\n",
              "Acceleration    15.559236    2.789230\n",
              "ModelYear       75.898089    3.675642\n",
              "Origin_1         0.624204    0.485101\n",
              "Origin_2         0.178344    0.383413\n",
              "Origin_3         0.197452    0.398712"
            ],
            "text/html": [
              "\n",
              "  <div id=\"df-f3b6f53d-1b19-4793-8a13-4ef0ec3c92aa\">\n",
              "    <div class=\"colab-df-container\">\n",
              "      <div>\n",
              "<style scoped>\n",
              "    .dataframe tbody tr th:only-of-type {\n",
              "        vertical-align: middle;\n",
              "    }\n",
              "\n",
              "    .dataframe tbody tr th {\n",
              "        vertical-align: top;\n",
              "    }\n",
              "\n",
              "    .dataframe thead th {\n",
              "        text-align: right;\n",
              "    }\n",
              "</style>\n",
              "<table border=\"1\" class=\"dataframe\">\n",
              "  <thead>\n",
              "    <tr style=\"text-align: right;\">\n",
              "      <th></th>\n",
              "      <th>mean</th>\n",
              "      <th>std</th>\n",
              "    </tr>\n",
              "  </thead>\n",
              "  <tbody>\n",
              "    <tr>\n",
              "      <th>MPG</th>\n",
              "      <td>23.310510</td>\n",
              "      <td>7.728652</td>\n",
              "    </tr>\n",
              "    <tr>\n",
              "      <th>Cylinders</th>\n",
              "      <td>5.477707</td>\n",
              "      <td>1.699788</td>\n",
              "    </tr>\n",
              "    <tr>\n",
              "      <th>Displacement</th>\n",
              "      <td>195.318471</td>\n",
              "      <td>104.331589</td>\n",
              "    </tr>\n",
              "    <tr>\n",
              "      <th>HorsePower</th>\n",
              "      <td>104.869427</td>\n",
              "      <td>38.096214</td>\n",
              "    </tr>\n",
              "    <tr>\n",
              "      <th>Weight</th>\n",
              "      <td>2990.251592</td>\n",
              "      <td>843.898596</td>\n",
              "    </tr>\n",
              "    <tr>\n",
              "      <th>Acceleration</th>\n",
              "      <td>15.559236</td>\n",
              "      <td>2.789230</td>\n",
              "    </tr>\n",
              "    <tr>\n",
              "      <th>ModelYear</th>\n",
              "      <td>75.898089</td>\n",
              "      <td>3.675642</td>\n",
              "    </tr>\n",
              "    <tr>\n",
              "      <th>Origin_1</th>\n",
              "      <td>0.624204</td>\n",
              "      <td>0.485101</td>\n",
              "    </tr>\n",
              "    <tr>\n",
              "      <th>Origin_2</th>\n",
              "      <td>0.178344</td>\n",
              "      <td>0.383413</td>\n",
              "    </tr>\n",
              "    <tr>\n",
              "      <th>Origin_3</th>\n",
              "      <td>0.197452</td>\n",
              "      <td>0.398712</td>\n",
              "    </tr>\n",
              "  </tbody>\n",
              "</table>\n",
              "</div>\n",
              "      <button class=\"colab-df-convert\" onclick=\"convertToInteractive('df-f3b6f53d-1b19-4793-8a13-4ef0ec3c92aa')\"\n",
              "              title=\"Convert this dataframe to an interactive table.\"\n",
              "              style=\"display:none;\">\n",
              "        \n",
              "  <svg xmlns=\"http://www.w3.org/2000/svg\" height=\"24px\"viewBox=\"0 0 24 24\"\n",
              "       width=\"24px\">\n",
              "    <path d=\"M0 0h24v24H0V0z\" fill=\"none\"/>\n",
              "    <path d=\"M18.56 5.44l.94 2.06.94-2.06 2.06-.94-2.06-.94-.94-2.06-.94 2.06-2.06.94zm-11 1L8.5 8.5l.94-2.06 2.06-.94-2.06-.94L8.5 2.5l-.94 2.06-2.06.94zm10 10l.94 2.06.94-2.06 2.06-.94-2.06-.94-.94-2.06-.94 2.06-2.06.94z\"/><path d=\"M17.41 7.96l-1.37-1.37c-.4-.4-.92-.59-1.43-.59-.52 0-1.04.2-1.43.59L10.3 9.45l-7.72 7.72c-.78.78-.78 2.05 0 2.83L4 21.41c.39.39.9.59 1.41.59.51 0 1.02-.2 1.41-.59l7.78-7.78 2.81-2.81c.8-.78.8-2.07 0-2.86zM5.41 20L4 18.59l7.72-7.72 1.47 1.35L5.41 20z\"/>\n",
              "  </svg>\n",
              "      </button>\n",
              "      \n",
              "  <style>\n",
              "    .colab-df-container {\n",
              "      display:flex;\n",
              "      flex-wrap:wrap;\n",
              "      gap: 12px;\n",
              "    }\n",
              "\n",
              "    .colab-df-convert {\n",
              "      background-color: #E8F0FE;\n",
              "      border: none;\n",
              "      border-radius: 50%;\n",
              "      cursor: pointer;\n",
              "      display: none;\n",
              "      fill: #1967D2;\n",
              "      height: 32px;\n",
              "      padding: 0 0 0 0;\n",
              "      width: 32px;\n",
              "    }\n",
              "\n",
              "    .colab-df-convert:hover {\n",
              "      background-color: #E2EBFA;\n",
              "      box-shadow: 0px 1px 2px rgba(60, 64, 67, 0.3), 0px 1px 3px 1px rgba(60, 64, 67, 0.15);\n",
              "      fill: #174EA6;\n",
              "    }\n",
              "\n",
              "    [theme=dark] .colab-df-convert {\n",
              "      background-color: #3B4455;\n",
              "      fill: #D2E3FC;\n",
              "    }\n",
              "\n",
              "    [theme=dark] .colab-df-convert:hover {\n",
              "      background-color: #434B5C;\n",
              "      box-shadow: 0px 1px 3px 1px rgba(0, 0, 0, 0.15);\n",
              "      filter: drop-shadow(0px 1px 2px rgba(0, 0, 0, 0.3));\n",
              "      fill: #FFFFFF;\n",
              "    }\n",
              "  </style>\n",
              "\n",
              "      <script>\n",
              "        const buttonEl =\n",
              "          document.querySelector('#df-f3b6f53d-1b19-4793-8a13-4ef0ec3c92aa button.colab-df-convert');\n",
              "        buttonEl.style.display =\n",
              "          google.colab.kernel.accessAllowed ? 'block' : 'none';\n",
              "\n",
              "        async function convertToInteractive(key) {\n",
              "          const element = document.querySelector('#df-f3b6f53d-1b19-4793-8a13-4ef0ec3c92aa');\n",
              "          const dataTable =\n",
              "            await google.colab.kernel.invokeFunction('convertToInteractive',\n",
              "                                                     [key], {});\n",
              "          if (!dataTable) return;\n",
              "\n",
              "          const docLinkHtml = 'Like what you see? Visit the ' +\n",
              "            '<a target=\"_blank\" href=https://colab.research.google.com/notebooks/data_table.ipynb>data table notebook</a>'\n",
              "            + ' to learn more about interactive tables.';\n",
              "          element.innerHTML = '';\n",
              "          dataTable['output_type'] = 'display_data';\n",
              "          await google.colab.output.renderOutput(dataTable, element);\n",
              "          const docLink = document.createElement('div');\n",
              "          docLink.innerHTML = docLinkHtml;\n",
              "          element.appendChild(docLink);\n",
              "        }\n",
              "      </script>\n",
              "    </div>\n",
              "  </div>\n",
              "  "
            ]
          },
          "metadata": {},
          "execution_count": 50
        }
      ]
    },
    {
      "cell_type": "markdown",
      "source": [
        "Normalizing data"
      ],
      "metadata": {
        "id": "X0Dxy4j9HMAv"
      }
    },
    {
      "cell_type": "code",
      "source": [
        "#normalizing data using tensorflow\n",
        "normalizer = preprocessing.Normalization()\n",
        "normalizer.adapt(np.array(train_features))"
      ],
      "metadata": {
        "id": "a53r2lJjf_gA"
      },
      "execution_count": 51,
      "outputs": []
    },
    {
      "cell_type": "code",
      "source": [
        "normalizer.mean.numpy()"
      ],
      "metadata": {
        "colab": {
          "base_uri": "https://localhost:8080/"
        },
        "id": "IRvc_hL4zixR",
        "outputId": "45d26851-aa27-4214-99b8-c1a8b5be0f3b"
      },
      "execution_count": 52,
      "outputs": [
        {
          "output_type": "execute_result",
          "data": {
            "text/plain": [
              "array([[   5.478,  195.318,  104.869, 2990.252,   15.559,   75.898,\n",
              "           0.624,    0.178,    0.197]], dtype=float32)"
            ]
          },
          "metadata": {},
          "execution_count": 52
        }
      ]
    },
    {
      "cell_type": "code",
      "source": [
        "#normalization : input - mean / stddev\n",
        "\n",
        "first = np.array(train_features[:1])\n",
        "print(first)\n",
        "print(normalizer(first).numpy())"
      ],
      "metadata": {
        "colab": {
          "base_uri": "https://localhost:8080/"
        },
        "id": "bsoEzn7gzliC",
        "outputId": "f25b6ad5-43a7-4f4b-9f52-41549e7fce32"
      },
      "execution_count": 57,
      "outputs": [
        {
          "output_type": "stream",
          "name": "stdout",
          "text": [
            "[[   4.    90.    75.  2125.    14.5   74.     1.     0.     0. ]]\n",
            "[[-0.871 -1.011 -0.785 -1.027 -0.38  -0.517  0.776 -0.466 -0.496]]\n"
          ]
        }
      ]
    },
    {
      "cell_type": "code",
      "source": [
        "from numpy.lib import tri\n",
        "## we will work here first with single feature for prediction to under the 2d data scenario\n",
        "# Regression\n",
        " # 1. Normalize the input horsepower\n",
        " # 2. Apply a linear transformation (y = m*x+b) to produce 1 output using layers.Dense\n",
        "\n",
        "\n",
        "\n",
        "feature='HorsePower'\n",
        "single_feature = train_features[feature]\n",
        "print(single_feature.shape, train_features.shape)\n",
        "\n",
        "\n",
        "#normalizing single_feature\n",
        "single_feature_normalizer = preprocessing.Normalization(input_shape=[1,], axis=None)\n",
        "\n",
        "##Note without input shape and axis info specified for Normalization, the normalizer would throw error in model building\n",
        "## https://github.com/keras-team/keras/issues/15348\n",
        "##add \"input_shape=[1,], axis=None\" in the Normalization function\n",
        "##Ex:single_feature_normalizer = layers.Normalization(input_shape=[1,], axis=None)\n"
      ],
      "metadata": {
        "colab": {
          "base_uri": "https://localhost:8080/"
        },
        "id": "vcDGkktG41a3",
        "outputId": "2ce88ca2-148c-4154-914e-1eac60e2c0cd"
      },
      "execution_count": 106,
      "outputs": [
        {
          "output_type": "stream",
          "name": "stdout",
          "text": [
            "(314,) (314, 9)\n"
          ]
        }
      ]
    },
    {
      "cell_type": "code",
      "source": [
        "np.array(single_feature)"
      ],
      "metadata": {
        "colab": {
          "base_uri": "https://localhost:8080/"
        },
        "id": "WWCMO0hz-WxC",
        "outputId": "692b2a11-f675-4435-e2d3-565bc279a123"
      },
      "execution_count": 101,
      "outputs": [
        {
          "output_type": "execute_result",
          "data": {
            "text/plain": [
              "array([ 75.,  88., 160.,  63.,  67.,  90.,  60.,  67.,  95.,  88.,  60.,\n",
              "       180.,  88., 150., 155.,  75., 115., 150.,  90.,  90., 129., 110.,\n",
              "        90., 110.,  76., 165.,  92.,  88., 100., 150., 122.,  74.,  76.,\n",
              "        67., 110.,  90.,  65., 150., 150., 220., 165.,  67.,  75., 140.,\n",
              "        78., 149.,  84., 150., 145., 100.,  75., 170., 200.,  72.,  78.,\n",
              "        76.,  88., 105.,  53.,  86.,  95.,  75.,  71., 198.,  69., 105.,\n",
              "       215.,  88.,  87.,  65.,  60.,  68., 129., 145.,  95., 153.,  70.,\n",
              "       145.,  68.,  70., 100.,  70.,  81.,  95., 225.,  90.,  97., 100.,\n",
              "        65., 110.,  89., 150., 110.,  95.,  85.,  97.,  60.,  88.,  52.,\n",
              "        70., 198.,  71.,  90.,  72.,  63., 115.,  90., 135.,  52., 150.,\n",
              "       170.,  58.,  96., 125.,  92.,  95.,  90.,  95.,  82., 110.,  78.,\n",
              "        67., 208., 105., 130., 150.,  46.,  90.,  64.,  75.,  85.,  72.,\n",
              "        95.,  90., 145.,  88., 167., 120., 190.,  78.,  49.,  86., 150.,\n",
              "        70., 107.,  80., 150., 105., 100., 145.,  80., 133., 105., 105.,\n",
              "        68., 100., 110., 100., 150., 110.,  81., 130., 112.,  80., 116.,\n",
              "        72., 100.,  75., 105.,  90., 140., 140.,  70.,  85.,  53.,  88.,\n",
              "       110.,  75.,  76.,  62.,  62., 210., 150.,  92., 150.,  78.,  92.,\n",
              "       150., 150., 110.,  97.,  95., 103., 110.,  88., 120., 139.,  90.,\n",
              "       165., 110., 100.,  65., 215.,  85.,  83.,  97.,  67., 150.,  88.,\n",
              "       115.,  86.,  75.,  63., 150., 225., 100., 150.,  67., 132., 110.,\n",
              "       170.,  95.,  88., 100.,  84.,  91.,  78., 152., 108.,  90.,  90.,\n",
              "        67., 148.,  72.,  97., 140., 112.,  94.,  65., 102.,  84.,  83.,\n",
              "        67.,  84., 140., 105.,  95., 165.,  83., 155.,  90., 140.,  60.,\n",
              "       170.,  85.,  69.,  46.,  98.,  70., 150.,  70., 100.,  87.,  83.,\n",
              "        77.,  68.,  96.,  92.,  65.,  92., 110., 160.,  71., 145.,  97.,\n",
              "       100.,  88.,  54., 180.,  85.,  70., 120.,  90.,  65.,  48., 180.,\n",
              "       130., 175., 125.,  75., 120., 113., 175., 130.,  71.,  88., 100.,\n",
              "        67., 115., 105., 225.,  85., 175.,  65.,  96., 190., 115.,  86.,\n",
              "        88.,  85., 180.,  93.,  61.,  86.])"
            ]
          },
          "metadata": {},
          "execution_count": 101
        }
      ]
    },
    {
      "cell_type": "code",
      "source": [
        "#### def adapt(data, batch_size=None, steps=None)\n",
        "##data: The data to train on. It can be passed either as a  tf.data.Dataset, or as a numpy array.\n",
        "\n",
        "single_feature_normalizer.adapt(np.array(single_feature)) "
      ],
      "metadata": {
        "id": "W5dmpta65v2d"
      },
      "execution_count": 107,
      "outputs": []
    },
    {
      "cell_type": "code",
      "source": [
        "single_feature_normalizer"
      ],
      "metadata": {
        "colab": {
          "base_uri": "https://localhost:8080/"
        },
        "id": "TItG-ttX98t7",
        "outputId": "15de651b-e15e-4d30-b327-f719f4cfb316"
      },
      "execution_count": 105,
      "outputs": [
        {
          "output_type": "execute_result",
          "data": {
            "text/plain": [
              "<keras.layers.preprocessing.normalization.Normalization at 0x7fe919786740>"
            ]
          },
          "metadata": {},
          "execution_count": 105
        }
      ]
    },
    {
      "cell_type": "markdown",
      "source": [
        "Building Single Feature Model"
      ],
      "metadata": {
        "id": "MUQ_9wFQHQC3"
      }
    },
    {
      "cell_type": "code",
      "source": [
        "##building model\n",
        "\n",
        "single_feat_model = keras.models.Sequential([\n",
        "    single_feature_normalizer,\n",
        "    layers.Dense(units=1)\n",
        "])"
      ],
      "metadata": {
        "id": "-FJ0-h-Q52Xm"
      },
      "execution_count": 108,
      "outputs": []
    },
    {
      "cell_type": "code",
      "source": [
        "single_feat_model.summary()"
      ],
      "metadata": {
        "colab": {
          "base_uri": "https://localhost:8080/"
        },
        "id": "NVcpDJlb-BXD",
        "outputId": "f37779ec-1700-45cd-ae6e-adaa303e4800"
      },
      "execution_count": 109,
      "outputs": [
        {
          "output_type": "stream",
          "name": "stdout",
          "text": [
            "Model: \"sequential_7\"\n",
            "_________________________________________________________________\n",
            " Layer (type)                Output Shape              Param #   \n",
            "=================================================================\n",
            " normalization_11 (Normaliza  (None, 1)                3         \n",
            " tion)                                                           \n",
            "                                                                 \n",
            " dense_7 (Dense)             (None, 1)                 2         \n",
            "                                                                 \n",
            "=================================================================\n",
            "Total params: 5\n",
            "Trainable params: 2\n",
            "Non-trainable params: 3\n",
            "_________________________________________________________________\n"
          ]
        }
      ]
    },
    {
      "cell_type": "code",
      "source": [
        "##loss and optimizer\n",
        "\n",
        "loss = keras.losses.MeanAbsoluteError()\n",
        "opt = keras.optimizers.Adam(learning_rate=0.1) ##with default lr the model wasn't performing well\n",
        "\n",
        "single_feat_model.compile(loss=loss, optimizer=opt)"
      ],
      "metadata": {
        "id": "afxtI-X5-BkR"
      },
      "execution_count": 113,
      "outputs": []
    },
    {
      "cell_type": "code",
      "source": [
        "##Model training\n",
        "\n",
        "history=single_feat_model.fit(\n",
        "    train_features[feature], train_labels,\n",
        "    epochs=50,\n",
        "    verbose=1,\n",
        "    validation_split=0.2\n",
        "\n",
        ")"
      ],
      "metadata": {
        "colab": {
          "base_uri": "https://localhost:8080/"
        },
        "id": "__iIQfLwA8cT",
        "outputId": "d56f2477-3ade-44aa-a8b1-d10038c629c5"
      },
      "execution_count": 114,
      "outputs": [
        {
          "output_type": "stream",
          "name": "stdout",
          "text": [
            "Epoch 1/50\n",
            "8/8 [==============================] - 0s 20ms/step - loss: 22.4878 - val_loss: 22.5365\n",
            "Epoch 2/50\n",
            "8/8 [==============================] - 0s 9ms/step - loss: 21.6607 - val_loss: 21.7365\n",
            "Epoch 3/50\n",
            "8/8 [==============================] - 0s 5ms/step - loss: 20.8635 - val_loss: 20.9361\n",
            "Epoch 4/50\n",
            "8/8 [==============================] - 0s 5ms/step - loss: 20.0630 - val_loss: 20.1361\n",
            "Epoch 5/50\n",
            "8/8 [==============================] - 0s 5ms/step - loss: 19.2658 - val_loss: 19.3364\n",
            "Epoch 6/50\n",
            "8/8 [==============================] - 0s 5ms/step - loss: 18.4611 - val_loss: 18.5363\n",
            "Epoch 7/50\n",
            "8/8 [==============================] - 0s 5ms/step - loss: 17.6618 - val_loss: 17.7363\n",
            "Epoch 8/50\n",
            "8/8 [==============================] - 0s 5ms/step - loss: 16.8621 - val_loss: 16.9364\n",
            "Epoch 9/50\n",
            "8/8 [==============================] - 0s 5ms/step - loss: 16.0611 - val_loss: 16.1363\n",
            "Epoch 10/50\n",
            "8/8 [==============================] - 0s 9ms/step - loss: 15.2615 - val_loss: 15.3362\n",
            "Epoch 11/50\n",
            "8/8 [==============================] - 0s 7ms/step - loss: 14.4678 - val_loss: 14.5358\n",
            "Epoch 12/50\n",
            "8/8 [==============================] - 0s 6ms/step - loss: 13.6669 - val_loss: 13.7380\n",
            "Epoch 13/50\n",
            "8/8 [==============================] - 0s 5ms/step - loss: 12.8802 - val_loss: 12.9551\n",
            "Epoch 14/50\n",
            "8/8 [==============================] - 0s 5ms/step - loss: 12.0988 - val_loss: 12.1785\n",
            "Epoch 15/50\n",
            "8/8 [==============================] - 0s 6ms/step - loss: 11.3298 - val_loss: 11.3992\n",
            "Epoch 16/50\n",
            "8/8 [==============================] - 0s 5ms/step - loss: 10.5445 - val_loss: 10.6226\n",
            "Epoch 17/50\n",
            "8/8 [==============================] - 0s 5ms/step - loss: 9.7753 - val_loss: 9.8469\n",
            "Epoch 18/50\n",
            "8/8 [==============================] - 0s 5ms/step - loss: 9.0133 - val_loss: 9.0950\n",
            "Epoch 19/50\n",
            "8/8 [==============================] - 0s 6ms/step - loss: 8.2884 - val_loss: 8.3631\n",
            "Epoch 20/50\n",
            "8/8 [==============================] - 0s 5ms/step - loss: 7.6093 - val_loss: 7.6359\n",
            "Epoch 21/50\n",
            "8/8 [==============================] - 0s 8ms/step - loss: 6.9437 - val_loss: 6.9538\n",
            "Epoch 22/50\n",
            "8/8 [==============================] - 0s 5ms/step - loss: 6.3497 - val_loss: 6.3091\n",
            "Epoch 23/50\n",
            "8/8 [==============================] - 0s 5ms/step - loss: 5.7733 - val_loss: 5.8115\n",
            "Epoch 24/50\n",
            "8/8 [==============================] - 0s 7ms/step - loss: 5.2888 - val_loss: 5.4372\n",
            "Epoch 25/50\n",
            "8/8 [==============================] - 0s 5ms/step - loss: 4.9188 - val_loss: 5.1395\n",
            "Epoch 26/50\n",
            "8/8 [==============================] - 0s 5ms/step - loss: 4.6511 - val_loss: 4.9470\n",
            "Epoch 27/50\n",
            "8/8 [==============================] - 0s 5ms/step - loss: 4.4119 - val_loss: 4.7561\n",
            "Epoch 28/50\n",
            "8/8 [==============================] - 0s 8ms/step - loss: 4.2278 - val_loss: 4.6090\n",
            "Epoch 29/50\n",
            "8/8 [==============================] - 0s 5ms/step - loss: 4.0851 - val_loss: 4.5083\n",
            "Epoch 30/50\n",
            "8/8 [==============================] - 0s 8ms/step - loss: 3.9999 - val_loss: 4.4373\n",
            "Epoch 31/50\n",
            "8/8 [==============================] - 0s 8ms/step - loss: 3.9314 - val_loss: 4.3962\n",
            "Epoch 32/50\n",
            "8/8 [==============================] - 0s 6ms/step - loss: 3.8854 - val_loss: 4.3162\n",
            "Epoch 33/50\n",
            "8/8 [==============================] - 0s 6ms/step - loss: 3.8509 - val_loss: 4.2643\n",
            "Epoch 34/50\n",
            "8/8 [==============================] - 0s 5ms/step - loss: 3.8395 - val_loss: 4.2248\n",
            "Epoch 35/50\n",
            "8/8 [==============================] - 0s 5ms/step - loss: 3.8277 - val_loss: 4.2420\n",
            "Epoch 36/50\n",
            "8/8 [==============================] - 0s 5ms/step - loss: 3.8219 - val_loss: 4.2357\n",
            "Epoch 37/50\n",
            "8/8 [==============================] - 0s 5ms/step - loss: 3.8123 - val_loss: 4.2021\n",
            "Epoch 38/50\n",
            "8/8 [==============================] - 0s 5ms/step - loss: 3.8133 - val_loss: 4.1717\n",
            "Epoch 39/50\n",
            "8/8 [==============================] - 0s 6ms/step - loss: 3.8082 - val_loss: 4.1913\n",
            "Epoch 40/50\n",
            "8/8 [==============================] - 0s 5ms/step - loss: 3.8055 - val_loss: 4.2041\n",
            "Epoch 41/50\n",
            "8/8 [==============================] - 0s 5ms/step - loss: 3.8033 - val_loss: 4.2051\n",
            "Epoch 42/50\n",
            "8/8 [==============================] - 0s 5ms/step - loss: 3.8025 - val_loss: 4.1929\n",
            "Epoch 43/50\n",
            "8/8 [==============================] - 0s 5ms/step - loss: 3.8045 - val_loss: 4.1813\n",
            "Epoch 44/50\n",
            "8/8 [==============================] - 0s 7ms/step - loss: 3.8046 - val_loss: 4.2018\n",
            "Epoch 45/50\n",
            "8/8 [==============================] - 0s 5ms/step - loss: 3.8035 - val_loss: 4.2018\n",
            "Epoch 46/50\n",
            "8/8 [==============================] - 0s 5ms/step - loss: 3.8020 - val_loss: 4.1905\n",
            "Epoch 47/50\n",
            "8/8 [==============================] - 0s 8ms/step - loss: 3.8027 - val_loss: 4.1863\n",
            "Epoch 48/50\n",
            "8/8 [==============================] - 0s 5ms/step - loss: 3.8036 - val_loss: 4.1885\n",
            "Epoch 49/50\n",
            "8/8 [==============================] - 0s 8ms/step - loss: 3.8047 - val_loss: 4.1898\n",
            "Epoch 50/50\n",
            "8/8 [==============================] - 0s 8ms/step - loss: 3.8034 - val_loss: 4.2013\n"
          ]
        }
      ]
    },
    {
      "cell_type": "code",
      "source": [
        "def plot_loss(history):\n",
        "  plt.plot(history.history['loss'], label='loss')\n",
        "  plt.plot(history.history['val_loss'], label='val_loss')\n",
        "  plt.xlabel('Epochs')\n",
        "  plt.ylabel('Loss(MPG)')\n",
        "  plt.legend()\n",
        "  plt.grid(True)\n",
        "\n",
        "plot_loss(history)"
      ],
      "metadata": {
        "colab": {
          "base_uri": "https://localhost:8080/",
          "height": 449
        },
        "id": "QbT91cX7BsXh",
        "outputId": "79c1df7b-8659-4728-e1ac-3cf0dde41e2e"
      },
      "execution_count": 115,
      "outputs": [
        {
          "output_type": "display_data",
          "data": {
            "text/plain": [
              "<Figure size 640x480 with 1 Axes>"
            ],
            "image/png": "[encoded data removed]"
          },
          "metadata": {}
        }
      ]
    },
    {
      "cell_type": "markdown",
      "source": [
        "Single Feature Model Evaluation"
      ],
      "metadata": {
        "id": "ZHk0UkezCRSJ"
      }
    },
    {
      "cell_type": "code",
      "source": [
        "single_feat_model.evaluate(\n",
        "    test_features[feature], test_labels\n",
        ")"
      ],
      "metadata": {
        "colab": {
          "base_uri": "https://localhost:8080/"
        },
        "id": "eSfpxOqzCL9Z",
        "outputId": "0448f981-13ad-4e67-c6d6-ca7c3f12e48b"
      },
      "execution_count": 116,
      "outputs": [
        {
          "output_type": "stream",
          "name": "stdout",
          "text": [
            "3/3 [==============================] - 0s 4ms/step - loss: 3.6429\n"
          ]
        },
        {
          "output_type": "execute_result",
          "data": {
            "text/plain": [
              "3.6429004669189453"
            ]
          },
          "metadata": {},
          "execution_count": 116
        }
      ]
    },
    {
      "cell_type": "code",
      "source": [
        "range_min = np.min(test_features[feature]) - 10\n",
        "range_max = np.max(test_features[feature]) + 10\n",
        "print(range_min, range_max)\n",
        "\n",
        "x = tf.linspace(range_min, range_max, 200)\n",
        "y = single_feat_model.predict(x)\n",
        "\n",
        "plot(feature, x, y)"
      ],
      "metadata": {
        "colab": {
          "base_uri": "https://localhost:8080/",
          "height": 484
        },
        "id": "joXmMPYRCcC5",
        "outputId": "0aa42bb2-fcac-45a3-fe0e-1d18d10e6270"
      },
      "execution_count": 119,
      "outputs": [
        {
          "output_type": "stream",
          "name": "stdout",
          "text": [
            "38.0 240.0\n",
            "7/7 [==============================] - 0s 3ms/step\n"
          ]
        },
        {
          "output_type": "display_data",
          "data": {
            "text/plain": [
              "<Figure size 640x480 with 1 Axes>"
            ],
            "image/png": "[encoded data removed]"
          },
          "metadata": {}
        }
      ]
    },
    {
      "cell_type": "markdown",
      "source": [
        "Building a Deep Neural Network"
      ],
      "metadata": {
        "id": "O7_b_DauDajp"
      }
    },
    {
      "cell_type": "code",
      "source": [
        "dnn_model = keras.models.Sequential([\n",
        "    single_feature_normalizer,\n",
        "    layers.Dense(64, activation='relu'),\n",
        "    layers.Dense(32, activation='relu'),\n",
        "    layers.Dense(1),\n",
        "])"
      ],
      "metadata": {
        "id": "IaCx2mqxCsnU"
      },
      "execution_count": 120,
      "outputs": []
    },
    {
      "cell_type": "code",
      "source": [
        "dnn_model.compile(loss=loss, optimizer=tf.keras.optimizers.Adam())\n",
        "dnn_model.summary()"
      ],
      "metadata": {
        "colab": {
          "base_uri": "https://localhost:8080/"
        },
        "id": "onXqzkZKD4Jo",
        "outputId": "fa49086c-5e8f-4a26-c52d-f2f23ff9f197"
      },
      "execution_count": 121,
      "outputs": [
        {
          "output_type": "stream",
          "name": "stdout",
          "text": [
            "Model: \"sequential_8\"\n",
            "_________________________________________________________________\n",
            " Layer (type)                Output Shape              Param #   \n",
            "=================================================================\n",
            " normalization_11 (Normaliza  (None, 1)                3         \n",
            " tion)                                                           \n",
            "                                                                 \n",
            " dense_8 (Dense)             (None, 64)                128       \n",
            "                                                                 \n",
            " dense_9 (Dense)             (None, 32)                2080      \n",
            "                                                                 \n",
            " dense_10 (Dense)            (None, 1)                 33        \n",
            "                                                                 \n",
            "=================================================================\n",
            "Total params: 2,244\n",
            "Trainable params: 2,241\n",
            "Non-trainable params: 3\n",
            "_________________________________________________________________\n"
          ]
        }
      ]
    },
    {
      "cell_type": "code",
      "source": [
        "dnn_model.fit(\n",
        "    train_features[feature], train_labels,\n",
        "    epochs=50,\n",
        "    verbose=1,\n",
        "    validation_split=0.2\n",
        "\n",
        ")"
      ],
      "metadata": {
        "colab": {
          "base_uri": "https://localhost:8080/"
        },
        "id": "hmbZh1X2EDo4",
        "outputId": "af0fe3d7-1b8f-4cc1-bf00-7b501b1df6d5"
      },
      "execution_count": 122,
      "outputs": [
        {
          "output_type": "stream",
          "name": "stdout",
          "text": [
            "Epoch 1/50\n",
            "8/8 [==============================] - 1s 22ms/step - loss: 23.1870 - val_loss: 23.5742\n",
            "Epoch 2/50\n",
            "8/8 [==============================] - 0s 9ms/step - loss: 22.9492 - val_loss: 23.3093\n",
            "Epoch 3/50\n",
            "8/8 [==============================] - 0s 9ms/step - loss: 22.7067 - val_loss: 23.0633\n",
            "Epoch 4/50\n",
            "8/8 [==============================] - 0s 6ms/step - loss: 22.4708 - val_loss: 22.7971\n",
            "Epoch 5/50\n",
            "8/8 [==============================] - 0s 6ms/step - loss: 22.2021 - val_loss: 22.4899\n",
            "Epoch 6/50\n",
            "8/8 [==============================] - 0s 5ms/step - loss: 21.8817 - val_loss: 22.1150\n",
            "Epoch 7/50\n",
            "8/8 [==============================] - 0s 6ms/step - loss: 21.4871 - val_loss: 21.6425\n",
            "Epoch 8/50\n",
            "8/8 [==============================] - 0s 6ms/step - loss: 20.9798 - val_loss: 21.0619\n",
            "Epoch 9/50\n",
            "8/8 [==============================] - 0s 6ms/step - loss: 20.3781 - val_loss: 20.3469\n",
            "Epoch 10/50\n",
            "8/8 [==============================] - 0s 6ms/step - loss: 19.6310 - val_loss: 19.4950\n",
            "Epoch 11/50\n",
            "8/8 [==============================] - 0s 6ms/step - loss: 18.7523 - val_loss: 18.5549\n",
            "Epoch 12/50\n",
            "8/8 [==============================] - 0s 6ms/step - loss: 17.8183 - val_loss: 17.5033\n",
            "Epoch 13/50\n",
            "8/8 [==============================] - 0s 9ms/step - loss: 16.8265 - val_loss: 16.4303\n",
            "Epoch 14/50\n",
            "8/8 [==============================] - 0s 6ms/step - loss: 15.6373 - val_loss: 15.3186\n",
            "Epoch 15/50\n",
            "8/8 [==============================] - 0s 8ms/step - loss: 14.3793 - val_loss: 14.0885\n",
            "Epoch 16/50\n",
            "8/8 [==============================] - 0s 6ms/step - loss: 12.9197 - val_loss: 12.7449\n",
            "Epoch 17/50\n",
            "8/8 [==============================] - 0s 8ms/step - loss: 11.4035 - val_loss: 11.1553\n",
            "Epoch 18/50\n",
            "8/8 [==============================] - 0s 8ms/step - loss: 9.6501 - val_loss: 9.3283\n",
            "Epoch 19/50\n",
            "8/8 [==============================] - 0s 7ms/step - loss: 7.7929 - val_loss: 7.4973\n",
            "Epoch 20/50\n",
            "8/8 [==============================] - 0s 7ms/step - loss: 5.9015 - val_loss: 5.8584\n",
            "Epoch 21/50\n",
            "8/8 [==============================] - 0s 6ms/step - loss: 4.4735 - val_loss: 5.0147\n",
            "Epoch 22/50\n",
            "8/8 [==============================] - 0s 8ms/step - loss: 3.9355 - val_loss: 4.7860\n",
            "Epoch 23/50\n",
            "8/8 [==============================] - 0s 9ms/step - loss: 3.8179 - val_loss: 4.6590\n",
            "Epoch 24/50\n",
            "8/8 [==============================] - 0s 6ms/step - loss: 3.7443 - val_loss: 4.5453\n",
            "Epoch 25/50\n",
            "8/8 [==============================] - 0s 6ms/step - loss: 3.7010 - val_loss: 4.4815\n",
            "Epoch 26/50\n",
            "8/8 [==============================] - 0s 6ms/step - loss: 3.6774 - val_loss: 4.4484\n",
            "Epoch 27/50\n",
            "8/8 [==============================] - 0s 6ms/step - loss: 3.6582 - val_loss: 4.4221\n",
            "Epoch 28/50\n",
            "8/8 [==============================] - 0s 5ms/step - loss: 3.6366 - val_loss: 4.3904\n",
            "Epoch 29/50\n",
            "8/8 [==============================] - 0s 6ms/step - loss: 3.6108 - val_loss: 4.3648\n",
            "Epoch 30/50\n",
            "8/8 [==============================] - 0s 8ms/step - loss: 3.5985 - val_loss: 4.3370\n",
            "Epoch 31/50\n",
            "8/8 [==============================] - 0s 10ms/step - loss: 3.5781 - val_loss: 4.3094\n",
            "Epoch 32/50\n",
            "8/8 [==============================] - 0s 6ms/step - loss: 3.5639 - val_loss: 4.2755\n",
            "Epoch 33/50\n",
            "8/8 [==============================] - 0s 8ms/step - loss: 3.5594 - val_loss: 4.2536\n",
            "Epoch 34/50\n",
            "8/8 [==============================] - 0s 8ms/step - loss: 3.5503 - val_loss: 4.2321\n",
            "Epoch 35/50\n",
            "8/8 [==============================] - 0s 8ms/step - loss: 3.5299 - val_loss: 4.2071\n",
            "Epoch 36/50\n",
            "8/8 [==============================] - 0s 8ms/step - loss: 3.5169 - val_loss: 4.1939\n",
            "Epoch 37/50\n",
            "8/8 [==============================] - 0s 9ms/step - loss: 3.5169 - val_loss: 4.1651\n",
            "Epoch 38/50\n",
            "8/8 [==============================] - 0s 9ms/step - loss: 3.4979 - val_loss: 4.1596\n",
            "Epoch 39/50\n",
            "8/8 [==============================] - 0s 6ms/step - loss: 3.4920 - val_loss: 4.1370\n",
            "Epoch 40/50\n",
            "8/8 [==============================] - 0s 8ms/step - loss: 3.4789 - val_loss: 4.1067\n",
            "Epoch 41/50\n",
            "8/8 [==============================] - 0s 8ms/step - loss: 3.4742 - val_loss: 4.0884\n",
            "Epoch 42/50\n",
            "8/8 [==============================] - 0s 5ms/step - loss: 3.4614 - val_loss: 4.0849\n",
            "Epoch 43/50\n",
            "8/8 [==============================] - 0s 6ms/step - loss: 3.4475 - val_loss: 4.0675\n",
            "Epoch 44/50\n",
            "8/8 [==============================] - 0s 6ms/step - loss: 3.4416 - val_loss: 4.0509\n",
            "Epoch 45/50\n",
            "8/8 [==============================] - 0s 8ms/step - loss: 3.4312 - val_loss: 4.0370\n",
            "Epoch 46/50\n",
            "8/8 [==============================] - 0s 6ms/step - loss: 3.4225 - val_loss: 4.0271\n",
            "Epoch 47/50\n",
            "8/8 [==============================] - 0s 8ms/step - loss: 3.4169 - val_loss: 4.0182\n",
            "Epoch 48/50\n",
            "8/8 [==============================] - 0s 6ms/step - loss: 3.4086 - val_loss: 3.9985\n",
            "Epoch 49/50\n",
            "8/8 [==============================] - 0s 8ms/step - loss: 3.4017 - val_loss: 3.9943\n",
            "Epoch 50/50\n",
            "8/8 [==============================] - 0s 6ms/step - loss: 3.3923 - val_loss: 3.9796\n"
          ]
        },
        {
          "output_type": "execute_result",
          "data": {
            "text/plain": [
              "<keras.callbacks.History at 0x7fe916e57010>"
            ]
          },
          "metadata": {},
          "execution_count": 122
        }
      ]
    },
    {
      "cell_type": "code",
      "source": [
        "dnn_model.evaluate(test_features[feature], test_labels)"
      ],
      "metadata": {
        "colab": {
          "base_uri": "https://localhost:8080/"
        },
        "id": "XcuiUaOgEbBI",
        "outputId": "46f3eb95-24fa-4570-8e37-bab3c85660f4"
      },
      "execution_count": 123,
      "outputs": [
        {
          "output_type": "stream",
          "name": "stdout",
          "text": [
            "3/3 [==============================] - 0s 6ms/step - loss: 3.0331\n"
          ]
        },
        {
          "output_type": "execute_result",
          "data": {
            "text/plain": [
              "3.033137083053589"
            ]
          },
          "metadata": {},
          "execution_count": 123
        }
      ]
    },
    {
      "cell_type": "code",
      "source": [
        "x= tf.linspace(range_min, range_max, 200)\n",
        "y= dnn_model.predict(x)\n",
        "plot(feature, x, y)"
      ],
      "metadata": {
        "colab": {
          "base_uri": "https://localhost:8080/",
          "height": 466
        },
        "id": "ERLIfHwUEg3q",
        "outputId": "56521a0d-f9f5-4169-e214-9c6974686ac7"
      },
      "execution_count": 124,
      "outputs": [
        {
          "output_type": "stream",
          "name": "stdout",
          "text": [
            "7/7 [==============================] - 0s 2ms/step\n"
          ]
        },
        {
          "output_type": "display_data",
          "data": {
            "text/plain": [
              "<Figure size 640x480 with 1 Axes>"
            ],
            "image/png": "[encoded data removed]"
          },
          "metadata": {}
        }
      ]
    },
    {
      "cell_type": "markdown",
      "source": [
        "Note, we see hear non linear plot, relu adds non-linearity to the model"
      ],
      "metadata": {
        "id": "fwV9rkuGEwZv"
      }
    },
    {
      "cell_type": "markdown",
      "source": [
        "Build Model using all features"
      ],
      "metadata": {
        "id": "VFqak-adE45v"
      }
    },
    {
      "cell_type": "code",
      "source": [
        "dnn_model_all_feat = keras.models.Sequential([\n",
        "    normalizer,\n",
        "    layers.Dense(64, activation='relu'),\n",
        "    layers.Dense(64, activation='relu'),\n",
        "    layers.Dense(1)\n",
        "    \n",
        "])"
      ],
      "metadata": {
        "id": "zSywHn55Etu0"
      },
      "execution_count": 125,
      "outputs": []
    },
    {
      "cell_type": "code",
      "source": [
        "dnn_model_all_feat.compile(loss=loss, optimizer=tf.keras.optimizers.Adam())\n"
      ],
      "metadata": {
        "id": "t8fNvPsFFgEA"
      },
      "execution_count": 126,
      "outputs": []
    },
    {
      "cell_type": "code",
      "source": [
        "dnn_model_all_feat.fit(\n",
        "    train_features, train_labels,\n",
        "    epochs=50,\n",
        "    verbose=1,\n",
        "    validation_split=0.2\n",
        "    )"
      ],
      "metadata": {
        "colab": {
          "base_uri": "https://localhost:8080/"
        },
        "id": "KTySlfu0Foo_",
        "outputId": "7c686c51-1c2c-415d-ea04-f5157e1ea313"
      },
      "execution_count": 127,
      "outputs": [
        {
          "output_type": "stream",
          "name": "stdout",
          "text": [
            "Epoch 1/50\n",
            "8/8 [==============================] - 2s 59ms/step - loss: 22.6755 - val_loss: 22.7167\n",
            "Epoch 2/50\n",
            "8/8 [==============================] - 0s 16ms/step - loss: 21.8619 - val_loss: 21.8351\n",
            "Epoch 3/50\n",
            "8/8 [==============================] - 0s 15ms/step - loss: 20.9532 - val_loss: 20.7975\n",
            "Epoch 4/50\n",
            "8/8 [==============================] - 0s 12ms/step - loss: 19.8638 - val_loss: 19.4721\n",
            "Epoch 5/50\n",
            "8/8 [==============================] - 0s 13ms/step - loss: 18.4375 - val_loss: 17.7700\n",
            "Epoch 6/50\n",
            "8/8 [==============================] - 0s 13ms/step - loss: 16.6004 - val_loss: 15.5800\n",
            "Epoch 7/50\n",
            "8/8 [==============================] - 0s 14ms/step - loss: 14.4351 - val_loss: 13.2318\n",
            "Epoch 8/50\n",
            "8/8 [==============================] - 0s 16ms/step - loss: 12.0968 - val_loss: 10.9237\n",
            "Epoch 9/50\n",
            "8/8 [==============================] - 0s 11ms/step - loss: 9.6344 - val_loss: 8.2007\n",
            "Epoch 10/50\n",
            "8/8 [==============================] - 0s 23ms/step - loss: 7.0108 - val_loss: 5.5526\n",
            "Epoch 11/50\n",
            "8/8 [==============================] - 0s 20ms/step - loss: 5.2566 - val_loss: 4.7634\n",
            "Epoch 12/50\n",
            "8/8 [==============================] - 0s 13ms/step - loss: 4.7642 - val_loss: 4.1498\n",
            "Epoch 13/50\n",
            "8/8 [==============================] - 0s 16ms/step - loss: 3.9882 - val_loss: 3.5890\n",
            "Epoch 14/50\n",
            "8/8 [==============================] - 0s 11ms/step - loss: 3.4592 - val_loss: 3.3432\n",
            "Epoch 15/50\n",
            "8/8 [==============================] - 0s 13ms/step - loss: 3.1330 - val_loss: 3.1280\n",
            "Epoch 16/50\n",
            "8/8 [==============================] - 0s 21ms/step - loss: 2.9458 - val_loss: 2.9977\n",
            "Epoch 17/50\n",
            "8/8 [==============================] - 0s 23ms/step - loss: 2.8499 - val_loss: 2.8944\n",
            "Epoch 18/50\n",
            "8/8 [==============================] - 0s 5ms/step - loss: 2.7249 - val_loss: 2.7979\n",
            "Epoch 19/50\n",
            "8/8 [==============================] - 0s 5ms/step - loss: 2.6131 - val_loss: 2.6624\n",
            "Epoch 20/50\n",
            "8/8 [==============================] - 0s 6ms/step - loss: 2.5182 - val_loss: 2.5793\n",
            "Epoch 21/50\n",
            "8/8 [==============================] - 0s 8ms/step - loss: 2.4183 - val_loss: 2.5267\n",
            "Epoch 22/50\n",
            "8/8 [==============================] - 0s 8ms/step - loss: 2.3313 - val_loss: 2.4457\n",
            "Epoch 23/50\n",
            "8/8 [==============================] - 0s 8ms/step - loss: 2.2657 - val_loss: 2.3807\n",
            "Epoch 24/50\n",
            "8/8 [==============================] - 0s 8ms/step - loss: 2.1926 - val_loss: 2.3523\n",
            "Epoch 25/50\n",
            "8/8 [==============================] - 0s 7ms/step - loss: 2.1542 - val_loss: 2.3798\n",
            "Epoch 26/50\n",
            "8/8 [==============================] - 0s 6ms/step - loss: 2.1067 - val_loss: 2.2911\n",
            "Epoch 27/50\n",
            "8/8 [==============================] - 0s 8ms/step - loss: 2.0741 - val_loss: 2.3551\n",
            "Epoch 28/50\n",
            "8/8 [==============================] - 0s 8ms/step - loss: 2.0582 - val_loss: 2.3270\n",
            "Epoch 29/50\n",
            "8/8 [==============================] - 0s 9ms/step - loss: 2.0327 - val_loss: 2.3142\n",
            "Epoch 30/50\n",
            "8/8 [==============================] - 0s 8ms/step - loss: 2.0103 - val_loss: 2.2996\n",
            "Epoch 31/50\n",
            "8/8 [==============================] - 0s 8ms/step - loss: 1.9806 - val_loss: 2.2620\n",
            "Epoch 32/50\n",
            "8/8 [==============================] - 0s 6ms/step - loss: 1.9752 - val_loss: 2.2776\n",
            "Epoch 33/50\n",
            "8/8 [==============================] - 0s 5ms/step - loss: 1.9576 - val_loss: 2.2840\n",
            "Epoch 34/50\n",
            "8/8 [==============================] - 0s 8ms/step - loss: 1.9434 - val_loss: 2.2817\n",
            "Epoch 35/50\n",
            "8/8 [==============================] - 0s 8ms/step - loss: 1.9325 - val_loss: 2.2686\n",
            "Epoch 36/50\n",
            "8/8 [==============================] - 0s 8ms/step - loss: 1.9209 - val_loss: 2.2721\n",
            "Epoch 37/50\n",
            "8/8 [==============================] - 0s 8ms/step - loss: 1.9124 - val_loss: 2.2498\n",
            "Epoch 38/50\n",
            "8/8 [==============================] - 0s 8ms/step - loss: 1.8972 - val_loss: 2.2660\n",
            "Epoch 39/50\n",
            "8/8 [==============================] - 0s 5ms/step - loss: 1.8890 - val_loss: 2.2944\n",
            "Epoch 40/50\n",
            "8/8 [==============================] - 0s 7ms/step - loss: 1.8773 - val_loss: 2.2675\n",
            "Epoch 41/50\n",
            "8/8 [==============================] - 0s 6ms/step - loss: 1.8724 - val_loss: 2.2654\n",
            "Epoch 42/50\n",
            "8/8 [==============================] - 0s 6ms/step - loss: 1.8605 - val_loss: 2.2789\n",
            "Epoch 43/50\n",
            "8/8 [==============================] - 0s 6ms/step - loss: 1.8498 - val_loss: 2.2386\n",
            "Epoch 44/50\n",
            "8/8 [==============================] - 0s 8ms/step - loss: 1.8486 - val_loss: 2.2771\n",
            "Epoch 45/50\n",
            "8/8 [==============================] - 0s 6ms/step - loss: 1.8464 - val_loss: 2.2216\n",
            "Epoch 46/50\n",
            "8/8 [==============================] - 0s 8ms/step - loss: 1.8484 - val_loss: 2.3070\n",
            "Epoch 47/50\n",
            "8/8 [==============================] - 0s 10ms/step - loss: 1.8397 - val_loss: 2.1940\n",
            "Epoch 48/50\n",
            "8/8 [==============================] - 0s 5ms/step - loss: 1.8282 - val_loss: 2.2520\n",
            "Epoch 49/50\n",
            "8/8 [==============================] - 0s 7ms/step - loss: 1.8167 - val_loss: 2.2614\n",
            "Epoch 50/50\n",
            "8/8 [==============================] - 0s 8ms/step - loss: 1.8157 - val_loss: 2.2490\n"
          ]
        },
        {
          "output_type": "execute_result",
          "data": {
            "text/plain": [
              "<keras.callbacks.History at 0x7fe916e61bd0>"
            ]
          },
          "metadata": {},
          "execution_count": 127
        }
      ]
    },
    {
      "cell_type": "code",
      "source": [
        "dnn_model_all_feat.evaluate(test_features, test_labels)"
      ],
      "metadata": {
        "colab": {
          "base_uri": "https://localhost:8080/"
        },
        "id": "gFyIbnBqF4u3",
        "outputId": "132946dd-d608-47ec-caa3-411880b292f5"
      },
      "execution_count": 128,
      "outputs": [
        {
          "output_type": "stream",
          "name": "stdout",
          "text": [
            "3/3 [==============================] - 0s 5ms/step - loss: 1.7692\n"
          ]
        },
        {
          "output_type": "execute_result",
          "data": {
            "text/plain": [
              "1.7691949605941772"
            ]
          },
          "metadata": {},
          "execution_count": 128
        }
      ]
    },
    {
      "cell_type": "code",
      "source": [],
      "metadata": {
        "id": "cHsu0a2AGg-p"
      },
      "execution_count": null,
      "outputs": []
    }
  ]
}