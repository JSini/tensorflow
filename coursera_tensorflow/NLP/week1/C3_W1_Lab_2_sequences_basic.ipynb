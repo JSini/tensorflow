{
  "nbformat": 4,
  "nbformat_minor": 0,
  "metadata": {
    "colab": {
      "provenance": [],
      "authorship_tag": "ABX9TyMxazsv2NPavVcv+08pnATH"
    },
    "kernelspec": {
      "name": "python3",
      "display_name": "Python 3"
    },
    "language_info": {
      "name": "python"
    }
  },
  "cells": [
    {
      "cell_type": "markdown",
      "metadata": {
        "id": "1SmE2CODfmmL"
      },
      "source": [
        "# Ungraded Lab: Generating Sequences and Padding\n",
        "\n",
        "In this lab, you will look at converting your input sentences into a sequence of tokens. Similar to images in the previous course, you need to prepare text data with uniform size before feeding it to your model. You will see how to do these in the next sections."
      ]
    },
    {
      "cell_type": "markdown",
      "metadata": {
        "id": "JiFUJg-lmTm6"
      },
      "source": [
        "## Text to Sequences\n",
        "\n",
        "In the previous lab, you saw how to generate a `word_index` dictionary to generate tokens for each word in your corpus. You can then use the result to convert each of the input sentences into a sequence of tokens. That is done using the [`texts_to_sequences()`](https://www.tensorflow.org/api_docs/python/tf/keras/preprocessing/text/Tokenizer#texts_to_sequences) method as shown below."
      ]
    },
    {
      "cell_type": "code",
      "source": [
        "from tensorflow.keras.preprocessing.text import Tokenizer\n",
        "from tensorflow.keras.preprocessing.sequence import pad_sequences\n",
        "\n",
        "#define the sentences\n",
        "sentences = [\n",
        "    'i love my dog',\n",
        "    'I love my cat',\n",
        "    'you love my cat',\n",
        "    'Do you think my dog is amazing?'\n",
        "]\n",
        "\n",
        "#initialize the Tokenizer class\n",
        "tokenizer = Tokenizer(num_words=100, oov_token='<OOV>')\n",
        "\n",
        "#tokenize the input sentences\n",
        "tokenizer.fit_on_texts(sentences)\n",
        "\n",
        "# Get the word index dictionary\n",
        "word_index = tokenizer.word_index\n",
        "\n",
        "# Generate list of token sequences\n",
        "sequences = tokenizer.texts_to_sequences(sentences)\n",
        "\n",
        "#print the results\n",
        "print(f\"\\nword_index: {word_index}\")\n",
        "print(f\"\\nSequences: {sequences}\")"
      ],
      "metadata": {
        "colab": {
          "base_uri": "https://localhost:8080/"
        },
        "id": "L7NNUVqd4cPC",
        "outputId": "ed4c8ea4-1c02-4bb8-b26b-83643b67ef52"
      },
      "execution_count": null,
      "outputs": [
        {
          "output_type": "stream",
          "name": "stdout",
          "text": [
            "\n",
            "word_index: {'<OOV>': 1, 'my': 2, 'love': 3, 'i': 4, 'dog': 5, 'cat': 6, 'you': 7, 'do': 8, 'think': 9, 'is': 10, 'amazing': 11}\n",
            "\n",
            "Sequences: [[4, 3, 2, 5], [4, 3, 2, 6], [7, 3, 2, 6], [8, 7, 9, 2, 5, 10, 11]]\n"
          ]
        }
      ]
    },
    {
      "cell_type": "markdown",
      "metadata": {
        "id": "z56pEkF2p8c-"
      },
      "source": [
        "## Padding\n",
        "\n",
        "As mentioned in the lecture, you will usually need to pad the sequences into a uniform length because that is what your model expects. You can use the [pad_sequences](https://www.tensorflow.org/api_docs/python/tf/keras/preprocessing/sequence/pad_sequences) for that. By default, it will pad according to the length of the longest sequence. You can override this with the `maxlen` argument to define a specific length. Feel free to play with the [other arguments](https://www.tensorflow.org/api_docs/python/tf/keras/preprocessing/sequence/pad_sequences#args) shown in class and compare the result."
      ]
    },
    {
      "cell_type": "code",
      "source": [
        "# Pad the sequences to a uniform length\n",
        "padded = pad_sequences(sequences, maxlen=5, padding='post', truncating='post')\n",
        "\n",
        "# Print the result\n",
        "print(\"Print the padded sequences\\n\")\n",
        "print(padded)"
      ],
      "metadata": {
        "colab": {
          "base_uri": "https://localhost:8080/"
        },
        "id": "KZkQy7gEiPDV",
        "outputId": "4bcf9922-1482-43e8-f0f7-d5dbc98f1687"
      },
      "execution_count": null,
      "outputs": [
        {
          "output_type": "stream",
          "name": "stdout",
          "text": [
            "Print the padded sequences\n",
            "\n",
            "[[4 3 2 5 0]\n",
            " [4 3 2 6 0]\n",
            " [7 3 2 6 0]\n",
            " [8 7 9 2 5]]\n"
          ]
        }
      ]
    },
    {
      "cell_type": "code",
      "source": [
        "# Pad the sequences to a uniform length\n",
        "padded = pad_sequences(sequences, maxlen=10, padding='post', truncating='post')\n",
        "\n",
        "# Print the result\n",
        "print(\"Print the padded sequences\\n\")\n",
        "print(padded)"
      ],
      "metadata": {
        "colab": {
          "base_uri": "https://localhost:8080/"
        },
        "id": "qDMRy9QVi47o",
        "outputId": "ea368dca-9e6d-44b4-a89d-16e3f7d1f198"
      },
      "execution_count": null,
      "outputs": [
        {
          "output_type": "stream",
          "name": "stdout",
          "text": [
            "Print the padded sequences\n",
            "\n",
            "[[ 4  3  2  5  0  0  0  0  0  0]\n",
            " [ 4  3  2  6  0  0  0  0  0  0]\n",
            " [ 7  3  2  6  0  0  0  0  0  0]\n",
            " [ 8  7  9  2  5 10 11  0  0  0]]\n"
          ]
        }
      ]
    },
    {
      "cell_type": "markdown",
      "metadata": {
        "id": "btEb9jI0k7Ip"
      },
      "source": [
        "## Out-of-vocabulary tokens\n",
        "\n",
        "Notice that you defined an `oov_token` when the `Tokenizer` was initialized earlier. This will be used when you have input words that are not found in the `word_index` dictionary. For example, you may decide to collect more text after your initial training and decide to not re-generate the `word_index`. You will see this in action in the cell below. Notice that the token `1` is inserted for words that are not found in the dictionary."
      ]
    },
    {
      "cell_type": "code",
      "source": [
        "# Try with words that the tokenizer wasn't fit to\n",
        "test_data = [\n",
        "    'i really love my dog',\n",
        "    'my dog loves my manatee'\n",
        "]\n",
        "\n",
        "# Generate the sequences\n",
        "test_sequences = tokenizer.texts_to_sequences(test_data)\n",
        "\n",
        "# Print the word index dictionary\n",
        "print(\"Word Index = \" , word_index)\n",
        "\n",
        "print(f\"\\nTest sequences:\\n {test_sequences}\")\n",
        "\n",
        "#print the padded result\n",
        "padded = pad_sequences(test_sequences, maxlen=6, padding='post', truncating='post')\n",
        "print(f\"\\nPadded sequences:\\n {padded}\")"
      ],
      "metadata": {
        "colab": {
          "base_uri": "https://localhost:8080/"
        },
        "id": "bUOd6TNojWF8",
        "outputId": "e2db7e62-a0ef-4665-dc8e-0218d9fd38a4"
      },
      "execution_count": null,
      "outputs": [
        {
          "output_type": "stream",
          "name": "stdout",
          "text": [
            "Word Index =  {'<OOV>': 1, 'my': 2, 'love': 3, 'i': 4, 'dog': 5, 'cat': 6, 'you': 7, 'do': 8, 'think': 9, 'is': 10, 'amazing': 11}\n",
            "\n",
            "Test sequences:\n",
            " [[4, 1, 3, 2, 5], [2, 5, 1, 2, 1]]\n",
            "\n",
            "Padded sequences:\n",
            " [[4 1 3 2 5 0]\n",
            " [2 5 1 2 1 0]]\n"
          ]
        }
      ]
    },
    {
      "cell_type": "markdown",
      "metadata": {
        "id": "UBlQIPBqskAJ"
      },
      "source": [
        "This concludes another introduction to text data preprocessing. So far, you've just been using dummy data. In the next exercise, you will be applying the same concepts to a real-world and much larger dataset."
      ]
    }
  ]
}