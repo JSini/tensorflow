{
  "nbformat": 4,
  "nbformat_minor": 0,
  "metadata": {
    "colab": {
      "provenance": [],
      "mount_file_id": "1qy4yDagQyrJT_CI-L1AORTum0fi3_hji",
      "authorship_tag": "ABX9TyOq1FgmL6TeO1RUJ5QSefsq"
    },
    "kernelspec": {
      "name": "python3",
      "display_name": "Python 3"
    },
    "language_info": {
      "name": "python"
    }
  },
  "cells": [
    {
      "cell_type": "markdown",
      "source": [
        "This notebook aims to experiment loading of saved models. The saved models used here is from notebook 12_custom_models_and_training.ipynb, section - Saving/Loading Models with Custom Objects.\n"
      ],
      "metadata": {
        "id": "EewVdislG6tw"
      }
    },
    {
      "cell_type": "markdown",
      "source": [
        "### Importing libraries"
      ],
      "metadata": {
        "id": "vdeQKAkOGwZo"
      }
    },
    {
      "cell_type": "code",
      "execution_count": 3,
      "metadata": {
        "id": "VCj7AR9vqPsL"
      },
      "outputs": [],
      "source": [
        "import tensorflow as tf\n",
        "import numpy as np\n",
        "from sklearn.datasets import fetch_california_housing\n",
        "from sklearn.model_selection import train_test_split\n",
        "from sklearn.preprocessing import StandardScaler\n",
        "\n",
        "## to make the notebook output stable\n",
        "np.random.seed(42)\n",
        "tf.random.set_seed(42)"
      ]
    },
    {
      "cell_type": "markdown",
      "source": [
        "### Dataset for our experiment"
      ],
      "metadata": {
        "id": "1fVSKpX9G0Iq"
      }
    },
    {
      "cell_type": "code",
      "source": [
        "X, y = fetch_california_housing(return_X_y=True)"
      ],
      "metadata": {
        "id": "o1OnMpfPqnQa"
      },
      "execution_count": 2,
      "outputs": []
    },
    {
      "cell_type": "code",
      "source": [
        "X_train, X_test, y_train, y_test = train_test_split(X, y, random_state=42)\n",
        "X_train, X_valid, y_train, y_valid = train_test_split(X_train, y_train, random_state=42)"
      ],
      "metadata": {
        "id": "u6ORXyM8qrUB"
      },
      "execution_count": 4,
      "outputs": []
    },
    {
      "cell_type": "code",
      "source": [
        "scaler = StandardScaler()\n",
        "X_train_scaled = scaler.fit_transform(X_train)\n",
        "X_test_scaled = scaler.transform(X_test)\n",
        "X_valid_scaled = scaler.transform(X_valid)"
      ],
      "metadata": {
        "id": "39Ly0K9XrMdr"
      },
      "execution_count": 5,
      "outputs": []
    },
    {
      "cell_type": "markdown",
      "source": [
        "## Custom LOSS"
      ],
      "metadata": {
        "id": "_Jcp6GoAXYz2"
      }
    },
    {
      "cell_type": "markdown",
      "source": [
        "The three case dealt here are:\n",
        " - model that was compiled with a custom loss function (testing .keras and .h5 format)\n",
        " - model that was compile with a paremeterized custom loss function (testing .h5 format)\n",
        " - model that was compiled with custom loss subclasssed (testing .keras, .h5, savedModel format)"
      ],
      "metadata": {
        "id": "Jqd8nLkuXR1m"
      }
    },
    {
      "cell_type": "markdown",
      "source": [
        "#### Loading a saved model that used a custom loss function"
      ],
      "metadata": {
        "id": "j_5F1Bmvtyqi"
      }
    },
    {
      "cell_type": "markdown",
      "source": [
        "Test saved model `(.keras)` that used custom loss function"
      ],
      "metadata": {
        "id": "PvFV-2KpsQPj"
      }
    },
    {
      "cell_type": "code",
      "source": [
        "model_custom_loss_function_dot_keras = tf.keras.models.load_model('/content/my_model_custom_loss_huber.keras')\n",
        "model_custom_loss_function_dot_keras.evaluate(X_test_scaled, y_test)"
      ],
      "metadata": {
        "colab": {
          "base_uri": "https://localhost:8080/"
        },
        "id": "sObo6rCysLlK",
        "outputId": "1cf4496f-bfc4-4f35-b518-5c9d44cd0ce3"
      },
      "execution_count": 18,
      "outputs": [
        {
          "output_type": "stream",
          "name": "stdout",
          "text": [
            "162/162 [==============================] - 1s 3ms/step - loss: 0.1980 - mae: 0.4882 - mse: 0.4682\n"
          ]
        },
        {
          "output_type": "execute_result",
          "data": {
            "text/plain": [
              "[0.19795940816402435, 0.48822590708732605, 0.4682220220565796]"
            ]
          },
          "metadata": {},
          "execution_count": 18
        }
      ]
    },
    {
      "cell_type": "markdown",
      "source": [
        "Test saved model`(.h5)` that used custom loss function"
      ],
      "metadata": {
        "id": "BiLDdJA7reOE"
      }
    },
    {
      "cell_type": "code",
      "source": [
        "model_custom_loss_function = tf.keras.models.load_model('/content/my_model_custom_loss_huber.h5')"
      ],
      "metadata": {
        "id": "EMnbmajirbbj"
      },
      "execution_count": 19,
      "outputs": []
    },
    {
      "cell_type": "code",
      "source": [
        "model_custom_loss_function.evaluate(X_test_scaled, y_test)"
      ],
      "metadata": {
        "colab": {
          "base_uri": "https://localhost:8080/"
        },
        "id": "cIAqW9izsF1T",
        "outputId": "29e76875-0207-479b-da92-c1de0b9f82fe"
      },
      "execution_count": 20,
      "outputs": [
        {
          "output_type": "stream",
          "name": "stdout",
          "text": [
            "162/162 [==============================] - 1s 3ms/step - loss: 0.1980 - mae: 0.4882 - mse: 0.4682\n"
          ]
        },
        {
          "output_type": "execute_result",
          "data": {
            "text/plain": [
              "[0.19795940816402435, 0.48822590708732605, 0.4682220220565796]"
            ]
          },
          "metadata": {},
          "execution_count": 20
        }
      ]
    },
    {
      "cell_type": "markdown",
      "source": [
        "Test saved model (SavedModel format) that used custom loss function"
      ],
      "metadata": {
        "id": "LG6-M98vN0yh"
      }
    },
    {
      "cell_type": "code",
      "source": [
        "#load model and try evaluation\n",
        "model_saveModelformat = keras.models.load_model('/content/drive/MyDrive/ColabNotebooks/HML/my_model_custom_loss_huber')\n",
        "model_saveModelformat.evaluate(X_test_scaled, y_test)"
      ],
      "metadata": {
        "colab": {
          "base_uri": "https://localhost:8080/"
        },
        "id": "8jHV4u08bERJ",
        "outputId": "8405b568-6815-4357-fd2f-645a8dcfac23"
      },
      "execution_count": 33,
      "outputs": [
        {
          "output_type": "stream",
          "name": "stdout",
          "text": [
            "162/162 [==============================] - 1s 2ms/step - loss: 0.1980 - mae: 0.4882 - mse: 0.4682\n"
          ]
        },
        {
          "output_type": "execute_result",
          "data": {
            "text/plain": [
              "[0.19795940816402435, 0.48822590708732605, 0.4682220220565796]"
            ]
          },
          "metadata": {},
          "execution_count": 33
        }
      ]
    },
    {
      "cell_type": "markdown",
      "source": [
        "Loosk like we don't need to specify custom_object when loading model using a custom loss function"
      ],
      "metadata": {
        "id": "PwUEhVLbshpD"
      }
    },
    {
      "cell_type": "markdown",
      "source": [
        "Test saved model (.h5) that used parameterized custom loss function"
      ],
      "metadata": {
        "id": "BksoNHcBzwdi"
      }
    },
    {
      "cell_type": "code",
      "source": [
        "model_custom_loss_function_parameterized = tf.keras.models.load_model('/content/my_model_custom_loss_parameterized.h5')\n",
        "model_custom_loss_function_parameterized.evaluate(X_test_scaled, y_test)"
      ],
      "metadata": {
        "colab": {
          "base_uri": "https://localhost:8080/"
        },
        "id": "4fny1EzVEMUI",
        "outputId": "eaf9b44a-258b-4792-ba12-41354f07dbe5"
      },
      "execution_count": 23,
      "outputs": [
        {
          "output_type": "stream",
          "name": "stdout",
          "text": [
            "162/162 [==============================] - 0s 1ms/step - loss: 0.1916 - mae: 0.4829\n"
          ]
        },
        {
          "output_type": "execute_result",
          "data": {
            "text/plain": [
              "[0.19164715707302094, 0.4828616976737976]"
            ]
          },
          "metadata": {},
          "execution_count": 23
        }
      ]
    },
    {
      "cell_type": "markdown",
      "source": [
        "Lets try loading the model with custom function object specified. For this you need the custom function available in the session"
      ],
      "metadata": {
        "id": "E_5bIsDMswWj"
      }
    },
    {
      "cell_type": "code",
      "source": [
        "# define huber loss\n",
        "\n",
        "def huber_loss(y_true, y_pred):\n",
        "  error = y_true - y_pred\n",
        "  is_small_error = tf.abs(error) < 1\n",
        "  squared_loss = tf.square(error) / 2\n",
        "  linear_loss = tf.abs(error) - 0.5\n",
        "\n",
        "  return tf.where(is_small_error, squared_loss, linear_loss)"
      ],
      "metadata": {
        "id": "LIEnIK1rtarL"
      },
      "execution_count": 9,
      "outputs": []
    },
    {
      "cell_type": "code",
      "source": [
        "model_custom_loss_function_dot_keras_custom_object = tf.keras.models.load_model('/content/my_model_custom_loss_huber.keras',\n",
        "                                                                                custom_objects={'huber_loss': huber_loss})"
      ],
      "metadata": {
        "id": "Nea8P2FBseMq"
      },
      "execution_count": 21,
      "outputs": []
    },
    {
      "cell_type": "code",
      "source": [
        "model_custom_loss_function_dot_keras_custom_object.evaluate(X_test_scaled, y_test)"
      ],
      "metadata": {
        "colab": {
          "base_uri": "https://localhost:8080/"
        },
        "id": "tepdj1xrteQ0",
        "outputId": "b0cc72d6-6ac8-4540-a23a-e9df5135547c"
      },
      "execution_count": 22,
      "outputs": [
        {
          "output_type": "stream",
          "name": "stdout",
          "text": [
            "162/162 [==============================] - 0s 2ms/step - loss: 0.1980 - mae: 0.4882 - mse: 0.4682\n"
          ]
        },
        {
          "output_type": "execute_result",
          "data": {
            "text/plain": [
              "[0.19795940816402435, 0.48822590708732605, 0.4682220220565796]"
            ]
          },
          "metadata": {},
          "execution_count": 22
        }
      ]
    },
    {
      "cell_type": "markdown",
      "source": [
        "So that also works, but seems that we need to track of an additional step of having the custom function available for the model to load with custom objects"
      ],
      "metadata": {
        "id": "qvvS4PfXtgKS"
      }
    },
    {
      "cell_type": "markdown",
      "source": [
        "#### Loading a saved model that used a subclassed loss function"
      ],
      "metadata": {
        "id": "eYiFT4Azt7k7"
      }
    },
    {
      "cell_type": "markdown",
      "source": [
        "Test saved model `(.keras)` that used custom loss subclassed"
      ],
      "metadata": {
        "id": "itA-T3C-uHsd"
      }
    },
    {
      "cell_type": "code",
      "source": [
        "model_custom_loss_subclassed_dot_keras = tf.keras.models.load_model('/content/my_model_custom_loss_subclassed.keras')"
      ],
      "metadata": {
        "colab": {
          "base_uri": "https://localhost:8080/",
          "height": 347
        },
        "id": "n1iQwkAOubWT",
        "outputId": "3152ffac-ce67-4172-f5a5-dcfd8153372a"
      },
      "execution_count": 12,
      "outputs": [
        {
          "output_type": "error",
          "ename": "ValueError",
          "evalue": "ignored",
          "traceback": [
            "\u001b[0;31m---------------------------------------------------------------------------\u001b[0m",
            "\u001b[0;31mValueError\u001b[0m                                Traceback (most recent call last)",
            "\u001b[0;32m<ipython-input-12-6054f2982f65>\u001b[0m in \u001b[0;36m<cell line: 1>\u001b[0;34m()\u001b[0m\n\u001b[0;32m----> 1\u001b[0;31m \u001b[0mmodel_custom_loss_subclassed_dot_keras\u001b[0m \u001b[0;34m=\u001b[0m \u001b[0mtf\u001b[0m\u001b[0;34m.\u001b[0m\u001b[0mkeras\u001b[0m\u001b[0;34m.\u001b[0m\u001b[0mmodels\u001b[0m\u001b[0;34m.\u001b[0m\u001b[0mload_model\u001b[0m\u001b[0;34m(\u001b[0m\u001b[0;34m'/content/my_model_custom_loss_subclassed.keras'\u001b[0m\u001b[0;34m)\u001b[0m\u001b[0;34m\u001b[0m\u001b[0;34m\u001b[0m\u001b[0m\n\u001b[0m",
            "\u001b[0;32m/usr/local/lib/python3.10/dist-packages/keras/saving/saving_api.py\u001b[0m in \u001b[0;36mload_model\u001b[0;34m(filepath, custom_objects, compile, safe_mode, **kwargs)\u001b[0m\n\u001b[1;32m    210\u001b[0m \u001b[0;34m\u001b[0m\u001b[0m\n\u001b[1;32m    211\u001b[0m     \u001b[0;31m# Legacy case.\u001b[0m\u001b[0;34m\u001b[0m\u001b[0;34m\u001b[0m\u001b[0m\n\u001b[0;32m--> 212\u001b[0;31m     return legacy_sm_saving_lib.load_model(\n\u001b[0m\u001b[1;32m    213\u001b[0m         \u001b[0mfilepath\u001b[0m\u001b[0;34m,\u001b[0m \u001b[0mcustom_objects\u001b[0m\u001b[0;34m=\u001b[0m\u001b[0mcustom_objects\u001b[0m\u001b[0;34m,\u001b[0m \u001b[0mcompile\u001b[0m\u001b[0;34m=\u001b[0m\u001b[0mcompile\u001b[0m\u001b[0;34m,\u001b[0m \u001b[0;34m**\u001b[0m\u001b[0mkwargs\u001b[0m\u001b[0;34m\u001b[0m\u001b[0;34m\u001b[0m\u001b[0m\n\u001b[1;32m    214\u001b[0m     )\n",
            "\u001b[0;32m/usr/local/lib/python3.10/dist-packages/keras/utils/traceback_utils.py\u001b[0m in \u001b[0;36merror_handler\u001b[0;34m(*args, **kwargs)\u001b[0m\n\u001b[1;32m     68\u001b[0m             \u001b[0;31m# To get the full stack trace, call:\u001b[0m\u001b[0;34m\u001b[0m\u001b[0;34m\u001b[0m\u001b[0m\n\u001b[1;32m     69\u001b[0m             \u001b[0;31m# `tf.debugging.disable_traceback_filtering()`\u001b[0m\u001b[0;34m\u001b[0m\u001b[0;34m\u001b[0m\u001b[0m\n\u001b[0;32m---> 70\u001b[0;31m             \u001b[0;32mraise\u001b[0m \u001b[0me\u001b[0m\u001b[0;34m.\u001b[0m\u001b[0mwith_traceback\u001b[0m\u001b[0;34m(\u001b[0m\u001b[0mfiltered_tb\u001b[0m\u001b[0;34m)\u001b[0m \u001b[0;32mfrom\u001b[0m \u001b[0;32mNone\u001b[0m\u001b[0;34m\u001b[0m\u001b[0;34m\u001b[0m\u001b[0m\n\u001b[0m\u001b[1;32m     71\u001b[0m         \u001b[0;32mfinally\u001b[0m\u001b[0;34m:\u001b[0m\u001b[0;34m\u001b[0m\u001b[0;34m\u001b[0m\u001b[0m\n\u001b[1;32m     72\u001b[0m             \u001b[0;32mdel\u001b[0m \u001b[0mfiltered_tb\u001b[0m\u001b[0;34m\u001b[0m\u001b[0;34m\u001b[0m\u001b[0m\n",
            "\u001b[0;32m/usr/local/lib/python3.10/dist-packages/keras/saving/legacy/serialization.py\u001b[0m in \u001b[0;36mclass_and_config_for_serialized_keras_object\u001b[0;34m(config, module_objects, custom_objects, printable_module_name)\u001b[0m\n\u001b[1;32m    366\u001b[0m     )\n\u001b[1;32m    367\u001b[0m     \u001b[0;32mif\u001b[0m \u001b[0mcls\u001b[0m \u001b[0;32mis\u001b[0m \u001b[0;32mNone\u001b[0m\u001b[0;34m:\u001b[0m\u001b[0;34m\u001b[0m\u001b[0;34m\u001b[0m\u001b[0m\n\u001b[0;32m--> 368\u001b[0;31m         raise ValueError(\n\u001b[0m\u001b[1;32m    369\u001b[0m             \u001b[0;34mf\"Unknown {printable_module_name}: '{class_name}'. \"\u001b[0m\u001b[0;34m\u001b[0m\u001b[0;34m\u001b[0m\u001b[0m\n\u001b[1;32m    370\u001b[0m             \u001b[0;34m\"Please ensure you are using a `keras.utils.custom_object_scope` \"\u001b[0m\u001b[0;34m\u001b[0m\u001b[0;34m\u001b[0m\u001b[0m\n",
            "\u001b[0;31mValueError\u001b[0m: Unknown loss function: 'HuberLoss'. Please ensure you are using a `keras.utils.custom_object_scope` and that this object is included in the scope. See https://www.tensorflow.org/guide/keras/save_and_serialize#registering_the_custom_object for details."
          ]
        }
      ]
    },
    {
      "cell_type": "markdown",
      "source": [
        "It is must to load model with custom objects specified, the reason being `.keras/HDF5` formats uses object `configs` to save the model architecture"
      ],
      "metadata": {
        "id": "aSK0TGo0FEIx"
      }
    },
    {
      "cell_type": "code",
      "source": [
        "model_customloss_subclassed_dotkeras = tf.keras.models.load_model('my_model_custom_loss_subclassed.keras',\n",
        "                                                               custom_objects={'HuberLoss':HuberLoss})"
      ],
      "metadata": {
        "colab": {
          "base_uri": "https://localhost:8080/",
          "height": 184
        },
        "id": "b13MHvTTumgc",
        "outputId": "d2d2c856-af7d-468b-a60f-f6aba7bed4f3"
      },
      "execution_count": 13,
      "outputs": [
        {
          "output_type": "error",
          "ename": "NameError",
          "evalue": "ignored",
          "traceback": [
            "\u001b[0;31m---------------------------------------------------------------------------\u001b[0m",
            "\u001b[0;31mNameError\u001b[0m                                 Traceback (most recent call last)",
            "\u001b[0;32m<ipython-input-13-fe17ff22b26d>\u001b[0m in \u001b[0;36m<cell line: 1>\u001b[0;34m()\u001b[0m\n\u001b[1;32m      1\u001b[0m model_customloss_subclassed_dotkeras = tf.keras.models.load_model('my_model_custom_loss_subclassed.keras',\n\u001b[0;32m----> 2\u001b[0;31m                                                                custom_objects={'HuberLoss':HuberLoss})\n\u001b[0m",
            "\u001b[0;31mNameError\u001b[0m: name 'HuberLoss' is not defined"
          ]
        }
      ]
    },
    {
      "cell_type": "markdown",
      "source": [
        "subclassed code should be available"
      ],
      "metadata": {
        "id": "Zs_ey8zzFdUn"
      }
    },
    {
      "cell_type": "code",
      "source": [
        "from tensorflow import keras\n",
        "class HuberLoss(keras.losses.Loss):\n",
        "\n",
        "    def __init__(self, threshold=1.0, **kwargs):\n",
        "        self.threshold=threshold\n",
        "        super().__init__(**kwargs)\n",
        "    ##call(): Contains the logic for loss calculation using y_true, y_pred\n",
        "    def call(self, y_true, y_pred):\n",
        "        error = y_true - y_pred\n",
        "        is_small_error = error < self.threshold\n",
        "        squared_loss = tf.square(error) / 2\n",
        "        linear_loss = self.threshold * tf.abs(error) - self.threshold**2 / 2\n",
        "        return tf.where(is_small_error, squared_loss, linear_loss)\n",
        "    def get_config(self):\n",
        "        base_config = super().get_config()\n",
        "        return {**base_config, 'threshold':self.threshold}"
      ],
      "metadata": {
        "id": "W6z7ePiPzQir"
      },
      "execution_count": 15,
      "outputs": []
    },
    {
      "cell_type": "code",
      "source": [
        "model_customloss_subclassed_dotkeras = tf.keras.models.load_model('my_model_custom_loss_subclassed.keras',\n",
        "                                                               custom_objects={'HuberLoss':HuberLoss})"
      ],
      "metadata": {
        "id": "P0I1hhd_zWza"
      },
      "execution_count": 30,
      "outputs": []
    },
    {
      "cell_type": "code",
      "source": [
        "model_customloss_subclassed_dotkeras.evaluate(X_test_scaled, y_test)"
      ],
      "metadata": {
        "colab": {
          "base_uri": "https://localhost:8080/"
        },
        "id": "05PWG372zZEB",
        "outputId": "0afe127c-b51f-4e84-ca27-9bcccf9c7e3a"
      },
      "execution_count": 31,
      "outputs": [
        {
          "output_type": "stream",
          "name": "stdout",
          "text": [
            "162/162 [==============================] - 1s 2ms/step - loss: 0.2398 - mae: 0.5181\n"
          ]
        },
        {
          "output_type": "execute_result",
          "data": {
            "text/plain": [
              "[0.23983554542064667, 0.5180786848068237]"
            ]
          },
          "metadata": {},
          "execution_count": 31
        }
      ]
    },
    {
      "cell_type": "code",
      "source": [
        "model_customloss_subclassed_dotkeras.get_config() # model configuration"
      ],
      "metadata": {
        "colab": {
          "base_uri": "https://localhost:8080/"
        },
        "id": "1oXxdxvoFlkX",
        "outputId": "e5235608-f50c-4472-986b-169a08590880"
      },
      "execution_count": 24,
      "outputs": [
        {
          "output_type": "execute_result",
          "data": {
            "text/plain": [
              "{'name': 'sequential_1',\n",
              " 'layers': [{'class_name': 'InputLayer',\n",
              "   'config': {'batch_input_shape': (None, 8),\n",
              "    'dtype': 'float32',\n",
              "    'sparse': False,\n",
              "    'ragged': False,\n",
              "    'name': 'dense_2_input'}},\n",
              "  {'class_name': 'Dense',\n",
              "   'config': {'name': 'dense_2',\n",
              "    'trainable': True,\n",
              "    'dtype': 'float32',\n",
              "    'batch_input_shape': (None, 8),\n",
              "    'units': 32,\n",
              "    'activation': 'selu',\n",
              "    'use_bias': True,\n",
              "    'kernel_initializer': {'class_name': 'LecunNormal',\n",
              "     'config': {'seed': None}},\n",
              "    'bias_initializer': {'class_name': 'Zeros', 'config': {}},\n",
              "    'kernel_regularizer': None,\n",
              "    'bias_regularizer': None,\n",
              "    'activity_regularizer': None,\n",
              "    'kernel_constraint': None,\n",
              "    'bias_constraint': None}},\n",
              "  {'class_name': 'Dense',\n",
              "   'config': {'name': 'dense_3',\n",
              "    'trainable': True,\n",
              "    'dtype': 'float32',\n",
              "    'units': 1,\n",
              "    'activation': 'linear',\n",
              "    'use_bias': True,\n",
              "    'kernel_initializer': {'class_name': 'GlorotUniform',\n",
              "     'config': {'seed': None}},\n",
              "    'bias_initializer': {'class_name': 'Zeros', 'config': {}},\n",
              "    'kernel_regularizer': None,\n",
              "    'bias_regularizer': None,\n",
              "    'activity_regularizer': None,\n",
              "    'kernel_constraint': None,\n",
              "    'bias_constraint': None}}]}"
            ]
          },
          "metadata": {},
          "execution_count": 24
        }
      ]
    },
    {
      "cell_type": "markdown",
      "source": [
        "model compile configuration. Note the **loss object, its config**"
      ],
      "metadata": {
        "id": "U4ptblU9GHDX"
      }
    },
    {
      "cell_type": "code",
      "source": [
        "model_customloss_subclassed_dotkeras.get_compile_config()"
      ],
      "metadata": {
        "colab": {
          "base_uri": "https://localhost:8080/"
        },
        "id": "aQV7ItyzFnGH",
        "outputId": "40d2d7f8-f225-4312-9c31-eee9c5ee15a0"
      },
      "execution_count": 26,
      "outputs": [
        {
          "output_type": "execute_result",
          "data": {
            "text/plain": [
              "{'optimizer': {'module': 'keras.optimizers.experimental',\n",
              "  'class_name': 'Nadam',\n",
              "  'config': {'name': 'Nadam',\n",
              "   'weight_decay': None,\n",
              "   'clipnorm': None,\n",
              "   'global_clipnorm': None,\n",
              "   'clipvalue': None,\n",
              "   'use_ema': False,\n",
              "   'ema_momentum': 0.99,\n",
              "   'ema_overwrite_frequency': None,\n",
              "   'jit_compile': False,\n",
              "   'is_legacy_optimizer': False,\n",
              "   'learning_rate': 0.0010000000474974513,\n",
              "   'beta_1': 0.9,\n",
              "   'beta_2': 0.999,\n",
              "   'epsilon': 1e-07},\n",
              "  'registered_name': None},\n",
              " 'loss': {'module': '__main__',\n",
              "  'class_name': 'HuberLoss',\n",
              "  'config': {'reduction': 'auto', 'name': None, 'threshold': 2.0},\n",
              "  'registered_name': 'HuberLoss'},\n",
              " 'metrics': [[{'module': 'keras.metrics',\n",
              "    'class_name': 'MeanMetricWrapper',\n",
              "    'config': {'name': 'mae',\n",
              "     'dtype': 'float32',\n",
              "     'fn': {'module': 'keras.losses',\n",
              "      'class_name': 'function',\n",
              "      'config': 'mean_absolute_error',\n",
              "      'registered_name': 'mean_absolute_error'}},\n",
              "    'registered_name': None}]],\n",
              " 'loss_weights': None,\n",
              " 'weighted_metrics': None,\n",
              " 'run_eagerly': None,\n",
              " 'steps_per_execution': None,\n",
              " 'jit_compile': None}"
            ]
          },
          "metadata": {},
          "execution_count": 26
        }
      ]
    },
    {
      "cell_type": "code",
      "source": [
        "# get the threshold attribute\n",
        "model_customloss_subclassed_dotkeras.loss.threshold"
      ],
      "metadata": {
        "colab": {
          "base_uri": "https://localhost:8080/"
        },
        "id": "It90tb2bQB21",
        "outputId": "9b6bcfb6-ad3b-43fd-ca54-545bc7fe8fd9"
      },
      "execution_count": 43,
      "outputs": [
        {
          "output_type": "execute_result",
          "data": {
            "text/plain": [
              "2.0"
            ]
          },
          "metadata": {},
          "execution_count": 43
        }
      ]
    },
    {
      "cell_type": "markdown",
      "source": [
        ".h5"
      ],
      "metadata": {
        "id": "kkGK4VJHNjHf"
      }
    },
    {
      "cell_type": "code",
      "source": [
        "model_customloss_subclassed_h5 = tf.keras.models.load_model('/content/my_model_custom_loss_subclassed.h5',\n",
        "                                                               custom_objects={'HuberLoss':HuberLoss})"
      ],
      "metadata": {
        "id": "xGd-TcuQFvJH"
      },
      "execution_count": 28,
      "outputs": []
    },
    {
      "cell_type": "code",
      "source": [
        "model_customloss_subclassed_h5.evaluate(X_test_scaled, y_test)"
      ],
      "metadata": {
        "colab": {
          "base_uri": "https://localhost:8080/"
        },
        "id": "lXyQ9k3QJX7B",
        "outputId": "2ce27e64-4b1a-4e84-e8b4-cdb0a29d4f07"
      },
      "execution_count": 29,
      "outputs": [
        {
          "output_type": "stream",
          "name": "stdout",
          "text": [
            "162/162 [==============================] - 1s 3ms/step - loss: 0.2398 - mae: 0.5181\n"
          ]
        },
        {
          "output_type": "execute_result",
          "data": {
            "text/plain": [
              "[0.23983554542064667, 0.5180786848068237]"
            ]
          },
          "metadata": {},
          "execution_count": 29
        }
      ]
    },
    {
      "cell_type": "code",
      "source": [
        "model_customloss_subclassed_h5.loss.threshold"
      ],
      "metadata": {
        "colab": {
          "base_uri": "https://localhost:8080/"
        },
        "id": "x39x2ZyoP-6-",
        "outputId": "175bafa5-1f68-4b32-9e3f-c320a6a5e8d7"
      },
      "execution_count": 42,
      "outputs": [
        {
          "output_type": "execute_result",
          "data": {
            "text/plain": [
              "2.0"
            ]
          },
          "metadata": {},
          "execution_count": 42
        }
      ]
    },
    {
      "cell_type": "markdown",
      "source": [
        "SavedModel"
      ],
      "metadata": {
        "id": "o5nc0z6uNkkO"
      }
    },
    {
      "cell_type": "code",
      "source": [
        "model_customloss_subclassed_savedModel = keras.models.load_model('/content/drive/MyDrive/ColabNotebooks/HML/my_model_custom_loss_subclassed',\n",
        "                                                                 custom_objects={'HuberLoss':HuberLoss})"
      ],
      "metadata": {
        "id": "-wkxF8AGKiX4"
      },
      "execution_count": 34,
      "outputs": []
    },
    {
      "cell_type": "code",
      "source": [
        "model_customloss_subclassed_savedModel.evaluate(X_test_scaled, y_test)"
      ],
      "metadata": {
        "colab": {
          "base_uri": "https://localhost:8080/"
        },
        "id": "QnSQBEzUJ58f",
        "outputId": "4e655945-f6f5-4e98-fd12-c4257f98ae47"
      },
      "execution_count": 35,
      "outputs": [
        {
          "output_type": "stream",
          "name": "stdout",
          "text": [
            "162/162 [==============================] - 0s 1ms/step - loss: 0.2398 - mae: 0.5181\n"
          ]
        },
        {
          "output_type": "execute_result",
          "data": {
            "text/plain": [
              "[0.23983554542064667, 0.5180786848068237]"
            ]
          },
          "metadata": {},
          "execution_count": 35
        }
      ]
    },
    {
      "cell_type": "code",
      "source": [
        "model_customloss_subclassed_savedModel.fit(X_train_scaled, y_train,\n",
        "                                           epochs=2,\n",
        "                                           validation_data=(X_valid_scaled, y_valid))"
      ],
      "metadata": {
        "colab": {
          "base_uri": "https://localhost:8080/"
        },
        "id": "r_nYxoNFPkVW",
        "outputId": "816b9fe3-363a-4e65-ee6e-091184bef298"
      },
      "execution_count": 38,
      "outputs": [
        {
          "output_type": "stream",
          "name": "stdout",
          "text": [
            "Epoch 1/2\n",
            "363/363 [==============================] - 3s 2ms/step - loss: 0.2348 - mae: 0.5069 - val_loss: 0.2404 - val_mae: 0.4929\n",
            "Epoch 2/2\n",
            "363/363 [==============================] - 1s 3ms/step - loss: 0.2232 - mae: 0.4934 - val_loss: 0.2614 - val_mae: 0.4852\n"
          ]
        },
        {
          "output_type": "execute_result",
          "data": {
            "text/plain": [
              "<keras.callbacks.History at 0x7e56f025f070>"
            ]
          },
          "metadata": {},
          "execution_count": 38
        }
      ]
    },
    {
      "cell_type": "code",
      "source": [
        "model_customloss_subclassed_savedModel.loss.threshold"
      ],
      "metadata": {
        "colab": {
          "base_uri": "https://localhost:8080/"
        },
        "id": "ywQWPbfHPavu",
        "outputId": "65a24c6b-09b0-4b39-dcb7-3002a83dd6ac"
      },
      "execution_count": 41,
      "outputs": [
        {
          "output_type": "execute_result",
          "data": {
            "text/plain": [
              "2.0"
            ]
          },
          "metadata": {},
          "execution_count": 41
        }
      ]
    },
    {
      "cell_type": "markdown",
      "source": [
        "## Other Custom Functions (e.g., used in model layers)"
      ],
      "metadata": {
        "id": "m2BuMgFWXvxV"
      }
    },
    {
      "cell_type": "code",
      "source": [],
      "metadata": {
        "id": "9GHaQl2VPefG"
      },
      "execution_count": null,
      "outputs": []
    }
  ]
}