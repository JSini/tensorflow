{
  "nbformat": 4,
  "nbformat_minor": 0,
  "metadata": {
    "colab": {
      "provenance": [],
      "mount_file_id": "1qy4yDagQyrJT_CI-L1AORTum0fi3_hji",
      "authorship_tag": "ABX9TyN4qJ5h0sQmIxw6tbrKOqfw"
    },
    "kernelspec": {
      "name": "python3",
      "display_name": "Python 3"
    },
    "language_info": {
      "name": "python"
    }
  },
  "cells": [
    {
      "cell_type": "markdown",
      "source": [
        "This notebook aims to experiment loading of saved models. The saved models used here is from notebook 12_custom_models_and_training.ipynb\n"
      ],
      "metadata": {
        "id": "EewVdislG6tw"
      }
    },
    {
      "cell_type": "markdown",
      "source": [
        "### Importing libraries"
      ],
      "metadata": {
        "id": "vdeQKAkOGwZo"
      }
    },
    {
      "cell_type": "code",
      "execution_count": 51,
      "metadata": {
        "id": "VCj7AR9vqPsL"
      },
      "outputs": [],
      "source": [
        "import tensorflow as tf\n",
        "import numpy as np\n",
        "from sklearn.datasets import fetch_california_housing\n",
        "from sklearn.model_selection import train_test_split\n",
        "from sklearn.preprocessing import StandardScaler\n",
        "import matplotlib.pyplot as plt\n",
        "\n",
        "## to make the notebook output stable\n",
        "np.random.seed(42)\n",
        "tf.random.set_seed(42)"
      ]
    },
    {
      "cell_type": "markdown",
      "source": [
        "### Dataset for our experiment"
      ],
      "metadata": {
        "id": "1fVSKpX9G0Iq"
      }
    },
    {
      "cell_type": "code",
      "source": [
        "X, y = fetch_california_housing(return_X_y=True)"
      ],
      "metadata": {
        "id": "o1OnMpfPqnQa"
      },
      "execution_count": 2,
      "outputs": []
    },
    {
      "cell_type": "code",
      "source": [
        "X_train, X_test, y_train, y_test = train_test_split(X, y, random_state=42)\n",
        "X_train, X_valid, y_train, y_valid = train_test_split(X_train, y_train, random_state=42)"
      ],
      "metadata": {
        "id": "u6ORXyM8qrUB"
      },
      "execution_count": 4,
      "outputs": []
    },
    {
      "cell_type": "code",
      "source": [
        "scaler = StandardScaler()\n",
        "X_train_scaled = scaler.fit_transform(X_train)\n",
        "X_test_scaled = scaler.transform(X_test)\n",
        "X_valid_scaled = scaler.transform(X_valid)"
      ],
      "metadata": {
        "id": "39Ly0K9XrMdr"
      },
      "execution_count": 5,
      "outputs": []
    },
    {
      "cell_type": "markdown",
      "source": [
        "## Custom LOSS"
      ],
      "metadata": {
        "id": "_Jcp6GoAXYz2"
      }
    },
    {
      "cell_type": "markdown",
      "source": [
        "The three case dealt here are:\n",
        " - model that was compiled with a custom loss function (testing .keras and .h5 format)\n",
        " - model that was compile with a paremeterized custom loss function (testing .h5 format)\n",
        " - model that was compiled with custom loss subclasssed (testing .keras, .h5, savedModel format)"
      ],
      "metadata": {
        "id": "Jqd8nLkuXR1m"
      }
    },
    {
      "cell_type": "markdown",
      "source": [
        "####1. Loading a saved model that used a custom loss function"
      ],
      "metadata": {
        "id": "j_5F1Bmvtyqi"
      }
    },
    {
      "cell_type": "markdown",
      "source": [
        "Test saved model `(.keras)` that used custom loss function"
      ],
      "metadata": {
        "id": "PvFV-2KpsQPj"
      }
    },
    {
      "cell_type": "code",
      "source": [
        "model_custom_loss_function_dot_keras = tf.keras.models.load_model('/content/my_model_custom_loss_huber.keras')\n",
        "model_custom_loss_function_dot_keras.evaluate(X_test_scaled, y_test)"
      ],
      "metadata": {
        "colab": {
          "base_uri": "https://localhost:8080/"
        },
        "id": "sObo6rCysLlK",
        "outputId": "885a8a7b-b989-4860-c57d-88599950dcf1"
      },
      "execution_count": 44,
      "outputs": [
        {
          "output_type": "stream",
          "name": "stdout",
          "text": [
            "162/162 [==============================] - 0s 1ms/step - loss: 0.1980 - mae: 0.4882 - mse: 0.4682\n"
          ]
        },
        {
          "output_type": "execute_result",
          "data": {
            "text/plain": [
              "[0.19795940816402435, 0.48822590708732605, 0.4682220220565796]"
            ]
          },
          "metadata": {},
          "execution_count": 44
        }
      ]
    },
    {
      "cell_type": "markdown",
      "source": [
        "Test saved model`(.h5)` that used custom loss function"
      ],
      "metadata": {
        "id": "BiLDdJA7reOE"
      }
    },
    {
      "cell_type": "code",
      "source": [
        "model_custom_loss_function = tf.keras.models.load_model('/content/my_model_custom_loss_huber.h5')"
      ],
      "metadata": {
        "id": "EMnbmajirbbj"
      },
      "execution_count": 45,
      "outputs": []
    },
    {
      "cell_type": "code",
      "source": [
        "model_custom_loss_function.evaluate(X_test_scaled, y_test)"
      ],
      "metadata": {
        "colab": {
          "base_uri": "https://localhost:8080/"
        },
        "id": "cIAqW9izsF1T",
        "outputId": "1e105143-5aa5-4d0d-9133-132cc8881b1c"
      },
      "execution_count": 46,
      "outputs": [
        {
          "output_type": "stream",
          "name": "stdout",
          "text": [
            "162/162 [==============================] - 0s 1ms/step - loss: 0.1980 - mae: 0.4882 - mse: 0.4682\n"
          ]
        },
        {
          "output_type": "execute_result",
          "data": {
            "text/plain": [
              "[0.19795940816402435, 0.48822590708732605, 0.4682220220565796]"
            ]
          },
          "metadata": {},
          "execution_count": 46
        }
      ]
    },
    {
      "cell_type": "markdown",
      "source": [
        "Test saved model (SavedModel format) that used custom loss function"
      ],
      "metadata": {
        "id": "LG6-M98vN0yh"
      }
    },
    {
      "cell_type": "code",
      "source": [
        "#load model and try evaluation\n",
        "model_saveModelformat = keras.models.load_model('/content/drive/MyDrive/ColabNotebooks/HML/my_model_custom_loss_huber')\n",
        "model_saveModelformat.evaluate(X_test_scaled, y_test)"
      ],
      "metadata": {
        "colab": {
          "base_uri": "https://localhost:8080/"
        },
        "id": "8jHV4u08bERJ",
        "outputId": "ca8d1c0b-9c04-40ab-f04d-33f13b8073d6"
      },
      "execution_count": 47,
      "outputs": [
        {
          "output_type": "stream",
          "name": "stdout",
          "text": [
            "162/162 [==============================] - 0s 2ms/step - loss: 0.1980 - mae: 0.4882 - mse: 0.4682\n"
          ]
        },
        {
          "output_type": "execute_result",
          "data": {
            "text/plain": [
              "[0.19795940816402435, 0.48822590708732605, 0.4682220220565796]"
            ]
          },
          "metadata": {},
          "execution_count": 47
        }
      ]
    },
    {
      "cell_type": "markdown",
      "source": [
        "Look like we don't need to specify custom_object when loading model using a custom loss function"
      ],
      "metadata": {
        "id": "PwUEhVLbshpD"
      }
    },
    {
      "cell_type": "markdown",
      "source": [
        "#### 2. Loading a saved model (.h5) that used parameterized custom loss function"
      ],
      "metadata": {
        "id": "BksoNHcBzwdi"
      }
    },
    {
      "cell_type": "code",
      "source": [
        "model_custom_loss_function_parameterized = tf.keras.models.load_model('/content/my_model_custom_loss_parameterized.h5')\n",
        "model_custom_loss_function_parameterized.evaluate(X_test_scaled, y_test)"
      ],
      "metadata": {
        "colab": {
          "base_uri": "https://localhost:8080/"
        },
        "id": "4fny1EzVEMUI",
        "outputId": "8b4c3938-d6da-4e85-f24b-f3e4fcfefe23"
      },
      "execution_count": 48,
      "outputs": [
        {
          "output_type": "stream",
          "name": "stdout",
          "text": [
            "162/162 [==============================] - 1s 2ms/step - loss: 0.1916 - mae: 0.4829\n"
          ]
        },
        {
          "output_type": "execute_result",
          "data": {
            "text/plain": [
              "[0.19164715707302094, 0.4828616976737976]"
            ]
          },
          "metadata": {},
          "execution_count": 48
        }
      ]
    },
    {
      "cell_type": "code",
      "source": [
        "model_custom_loss_function_parameterized.get_compile_config()"
      ],
      "metadata": {
        "colab": {
          "base_uri": "https://localhost:8080/"
        },
        "id": "33_Z37U3pens",
        "outputId": "8d535bae-dfb6-4bcf-afb8-7b25b4c116dd"
      },
      "execution_count": 49,
      "outputs": [
        {
          "output_type": "execute_result",
          "data": {
            "text/plain": [
              "{'optimizer': {'module': 'keras.optimizers.experimental',\n",
              "  'class_name': 'Nadam',\n",
              "  'config': {'name': 'Nadam',\n",
              "   'weight_decay': None,\n",
              "   'clipnorm': None,\n",
              "   'global_clipnorm': None,\n",
              "   'clipvalue': None,\n",
              "   'use_ema': False,\n",
              "   'ema_momentum': 0.99,\n",
              "   'ema_overwrite_frequency': None,\n",
              "   'jit_compile': False,\n",
              "   'is_legacy_optimizer': False,\n",
              "   'learning_rate': 0.0010000000474974513,\n",
              "   'beta_1': 0.9,\n",
              "   'beta_2': 0.999,\n",
              "   'epsilon': 1e-07},\n",
              "  'registered_name': None},\n",
              " 'loss': {'module': 'keras.losses',\n",
              "  'class_name': 'function',\n",
              "  'config': 'huber',\n",
              "  'registered_name': 'huber'},\n",
              " 'metrics': [[{'module': 'keras.metrics',\n",
              "    'class_name': 'MeanMetricWrapper',\n",
              "    'config': {'name': 'mae',\n",
              "     'dtype': 'float32',\n",
              "     'fn': {'module': 'keras.losses',\n",
              "      'class_name': 'function',\n",
              "      'config': 'mean_absolute_error',\n",
              "      'registered_name': 'mean_absolute_error'}},\n",
              "    'registered_name': None}]],\n",
              " 'loss_weights': None,\n",
              " 'weighted_metrics': None,\n",
              " 'run_eagerly': None,\n",
              " 'steps_per_execution': None,\n",
              " 'jit_compile': None}"
            ]
          },
          "metadata": {},
          "execution_count": 49
        }
      ]
    },
    {
      "cell_type": "markdown",
      "source": [
        "Lets try loading the model with custom function object specified. For this you need the custom function available in the session"
      ],
      "metadata": {
        "id": "E_5bIsDMswWj"
      }
    },
    {
      "cell_type": "code",
      "source": [
        "# define huber loss\n",
        "\n",
        "def huber_loss(y_true, y_pred):\n",
        "  error = y_true - y_pred\n",
        "  is_small_error = tf.abs(error) < 1\n",
        "  squared_loss = tf.square(error) / 2\n",
        "  linear_loss = tf.abs(error) - 0.5\n",
        "\n",
        "  return tf.where(is_small_error, squared_loss, linear_loss)"
      ],
      "metadata": {
        "id": "LIEnIK1rtarL"
      },
      "execution_count": 9,
      "outputs": []
    },
    {
      "cell_type": "code",
      "source": [
        "model_custom_loss_function_dot_keras_custom_object = tf.keras.models.load_model('/content/my_model_custom_loss_huber.keras',\n",
        "                                                                                custom_objects={'huber_loss': huber_loss})"
      ],
      "metadata": {
        "id": "Nea8P2FBseMq"
      },
      "execution_count": 21,
      "outputs": []
    },
    {
      "cell_type": "code",
      "source": [
        "model_custom_loss_function_dot_keras_custom_object.evaluate(X_test_scaled, y_test)"
      ],
      "metadata": {
        "colab": {
          "base_uri": "https://localhost:8080/"
        },
        "id": "tepdj1xrteQ0",
        "outputId": "b0cc72d6-6ac8-4540-a23a-e9df5135547c"
      },
      "execution_count": 22,
      "outputs": [
        {
          "output_type": "stream",
          "name": "stdout",
          "text": [
            "162/162 [==============================] - 0s 2ms/step - loss: 0.1980 - mae: 0.4882 - mse: 0.4682\n"
          ]
        },
        {
          "output_type": "execute_result",
          "data": {
            "text/plain": [
              "[0.19795940816402435, 0.48822590708732605, 0.4682220220565796]"
            ]
          },
          "metadata": {},
          "execution_count": 22
        }
      ]
    },
    {
      "cell_type": "markdown",
      "source": [
        "So that also works, but seems that we need to track of an additional step of having the custom function available for the model to load with custom objects"
      ],
      "metadata": {
        "id": "qvvS4PfXtgKS"
      }
    },
    {
      "cell_type": "markdown",
      "source": [
        "####3. Loading a saved model that used a subclassed loss function"
      ],
      "metadata": {
        "id": "eYiFT4Azt7k7"
      }
    },
    {
      "cell_type": "markdown",
      "source": [
        "Test saved model `(.keras)` that used custom loss subclassed"
      ],
      "metadata": {
        "id": "itA-T3C-uHsd"
      }
    },
    {
      "cell_type": "code",
      "source": [
        "model_custom_loss_subclassed_dot_keras = tf.keras.models.load_model('/content/my_model_custom_loss_subclassed.keras')"
      ],
      "metadata": {
        "colab": {
          "base_uri": "https://localhost:8080/",
          "height": 347
        },
        "id": "n1iQwkAOubWT",
        "outputId": "3152ffac-ce67-4172-f5a5-dcfd8153372a"
      },
      "execution_count": 12,
      "outputs": [
        {
          "output_type": "error",
          "ename": "ValueError",
          "evalue": "ignored",
          "traceback": [
            "\u001b[0;31m---------------------------------------------------------------------------\u001b[0m",
            "\u001b[0;31mValueError\u001b[0m                                Traceback (most recent call last)",
            "\u001b[0;32m<ipython-input-12-6054f2982f65>\u001b[0m in \u001b[0;36m<cell line: 1>\u001b[0;34m()\u001b[0m\n\u001b[0;32m----> 1\u001b[0;31m \u001b[0mmodel_custom_loss_subclassed_dot_keras\u001b[0m \u001b[0;34m=\u001b[0m \u001b[0mtf\u001b[0m\u001b[0;34m.\u001b[0m\u001b[0mkeras\u001b[0m\u001b[0;34m.\u001b[0m\u001b[0mmodels\u001b[0m\u001b[0;34m.\u001b[0m\u001b[0mload_model\u001b[0m\u001b[0;34m(\u001b[0m\u001b[0;34m'/content/my_model_custom_loss_subclassed.keras'\u001b[0m\u001b[0;34m)\u001b[0m\u001b[0;34m\u001b[0m\u001b[0;34m\u001b[0m\u001b[0m\n\u001b[0m",
            "\u001b[0;32m/usr/local/lib/python3.10/dist-packages/keras/saving/saving_api.py\u001b[0m in \u001b[0;36mload_model\u001b[0;34m(filepath, custom_objects, compile, safe_mode, **kwargs)\u001b[0m\n\u001b[1;32m    210\u001b[0m \u001b[0;34m\u001b[0m\u001b[0m\n\u001b[1;32m    211\u001b[0m     \u001b[0;31m# Legacy case.\u001b[0m\u001b[0;34m\u001b[0m\u001b[0;34m\u001b[0m\u001b[0m\n\u001b[0;32m--> 212\u001b[0;31m     return legacy_sm_saving_lib.load_model(\n\u001b[0m\u001b[1;32m    213\u001b[0m         \u001b[0mfilepath\u001b[0m\u001b[0;34m,\u001b[0m \u001b[0mcustom_objects\u001b[0m\u001b[0;34m=\u001b[0m\u001b[0mcustom_objects\u001b[0m\u001b[0;34m,\u001b[0m \u001b[0mcompile\u001b[0m\u001b[0;34m=\u001b[0m\u001b[0mcompile\u001b[0m\u001b[0;34m,\u001b[0m \u001b[0;34m**\u001b[0m\u001b[0mkwargs\u001b[0m\u001b[0;34m\u001b[0m\u001b[0;34m\u001b[0m\u001b[0m\n\u001b[1;32m    214\u001b[0m     )\n",
            "\u001b[0;32m/usr/local/lib/python3.10/dist-packages/keras/utils/traceback_utils.py\u001b[0m in \u001b[0;36merror_handler\u001b[0;34m(*args, **kwargs)\u001b[0m\n\u001b[1;32m     68\u001b[0m             \u001b[0;31m# To get the full stack trace, call:\u001b[0m\u001b[0;34m\u001b[0m\u001b[0;34m\u001b[0m\u001b[0m\n\u001b[1;32m     69\u001b[0m             \u001b[0;31m# `tf.debugging.disable_traceback_filtering()`\u001b[0m\u001b[0;34m\u001b[0m\u001b[0;34m\u001b[0m\u001b[0m\n\u001b[0;32m---> 70\u001b[0;31m             \u001b[0;32mraise\u001b[0m \u001b[0me\u001b[0m\u001b[0;34m.\u001b[0m\u001b[0mwith_traceback\u001b[0m\u001b[0;34m(\u001b[0m\u001b[0mfiltered_tb\u001b[0m\u001b[0;34m)\u001b[0m \u001b[0;32mfrom\u001b[0m \u001b[0;32mNone\u001b[0m\u001b[0;34m\u001b[0m\u001b[0;34m\u001b[0m\u001b[0m\n\u001b[0m\u001b[1;32m     71\u001b[0m         \u001b[0;32mfinally\u001b[0m\u001b[0;34m:\u001b[0m\u001b[0;34m\u001b[0m\u001b[0;34m\u001b[0m\u001b[0m\n\u001b[1;32m     72\u001b[0m             \u001b[0;32mdel\u001b[0m \u001b[0mfiltered_tb\u001b[0m\u001b[0;34m\u001b[0m\u001b[0;34m\u001b[0m\u001b[0m\n",
            "\u001b[0;32m/usr/local/lib/python3.10/dist-packages/keras/saving/legacy/serialization.py\u001b[0m in \u001b[0;36mclass_and_config_for_serialized_keras_object\u001b[0;34m(config, module_objects, custom_objects, printable_module_name)\u001b[0m\n\u001b[1;32m    366\u001b[0m     )\n\u001b[1;32m    367\u001b[0m     \u001b[0;32mif\u001b[0m \u001b[0mcls\u001b[0m \u001b[0;32mis\u001b[0m \u001b[0;32mNone\u001b[0m\u001b[0;34m:\u001b[0m\u001b[0;34m\u001b[0m\u001b[0;34m\u001b[0m\u001b[0m\n\u001b[0;32m--> 368\u001b[0;31m         raise ValueError(\n\u001b[0m\u001b[1;32m    369\u001b[0m             \u001b[0;34mf\"Unknown {printable_module_name}: '{class_name}'. \"\u001b[0m\u001b[0;34m\u001b[0m\u001b[0;34m\u001b[0m\u001b[0m\n\u001b[1;32m    370\u001b[0m             \u001b[0;34m\"Please ensure you are using a `keras.utils.custom_object_scope` \"\u001b[0m\u001b[0;34m\u001b[0m\u001b[0;34m\u001b[0m\u001b[0m\n",
            "\u001b[0;31mValueError\u001b[0m: Unknown loss function: 'HuberLoss'. Please ensure you are using a `keras.utils.custom_object_scope` and that this object is included in the scope. See https://www.tensorflow.org/guide/keras/save_and_serialize#registering_the_custom_object for details."
          ]
        }
      ]
    },
    {
      "cell_type": "markdown",
      "source": [
        "It is must to load model with custom objects specified, the reason being `.keras/HDF5` formats uses object `configs` to save the model architecture"
      ],
      "metadata": {
        "id": "aSK0TGo0FEIx"
      }
    },
    {
      "cell_type": "code",
      "source": [
        "model_customloss_subclassed_dotkeras = tf.keras.models.load_model('my_model_custom_loss_subclassed.keras',\n",
        "                                                               custom_objects={'HuberLoss':HuberLoss})"
      ],
      "metadata": {
        "colab": {
          "base_uri": "https://localhost:8080/",
          "height": 184
        },
        "id": "b13MHvTTumgc",
        "outputId": "d2d2c856-af7d-468b-a60f-f6aba7bed4f3"
      },
      "execution_count": 13,
      "outputs": [
        {
          "output_type": "error",
          "ename": "NameError",
          "evalue": "ignored",
          "traceback": [
            "\u001b[0;31m---------------------------------------------------------------------------\u001b[0m",
            "\u001b[0;31mNameError\u001b[0m                                 Traceback (most recent call last)",
            "\u001b[0;32m<ipython-input-13-fe17ff22b26d>\u001b[0m in \u001b[0;36m<cell line: 1>\u001b[0;34m()\u001b[0m\n\u001b[1;32m      1\u001b[0m model_customloss_subclassed_dotkeras = tf.keras.models.load_model('my_model_custom_loss_subclassed.keras',\n\u001b[0;32m----> 2\u001b[0;31m                                                                custom_objects={'HuberLoss':HuberLoss})\n\u001b[0m",
            "\u001b[0;31mNameError\u001b[0m: name 'HuberLoss' is not defined"
          ]
        }
      ]
    },
    {
      "cell_type": "markdown",
      "source": [
        "subclassed code should be available"
      ],
      "metadata": {
        "id": "Zs_ey8zzFdUn"
      }
    },
    {
      "cell_type": "code",
      "source": [
        "from tensorflow import keras\n",
        "class HuberLoss(keras.losses.Loss):\n",
        "\n",
        "    def __init__(self, threshold=1.0, **kwargs):\n",
        "        self.threshold=threshold\n",
        "        super().__init__(**kwargs)\n",
        "    ##call(): Contains the logic for loss calculation using y_true, y_pred\n",
        "    def call(self, y_true, y_pred):\n",
        "        error = y_true - y_pred\n",
        "        is_small_error = error < self.threshold\n",
        "        squared_loss = tf.square(error) / 2\n",
        "        linear_loss = self.threshold * tf.abs(error) - self.threshold**2 / 2\n",
        "        return tf.where(is_small_error, squared_loss, linear_loss)\n",
        "    def get_config(self):\n",
        "        base_config = super().get_config()\n",
        "        return {**base_config, 'threshold':self.threshold}"
      ],
      "metadata": {
        "id": "W6z7ePiPzQir"
      },
      "execution_count": 15,
      "outputs": []
    },
    {
      "cell_type": "code",
      "source": [
        "model_customloss_subclassed_dotkeras = tf.keras.models.load_model('my_model_custom_loss_subclassed.keras',\n",
        "                                                               custom_objects={'HuberLoss':HuberLoss})"
      ],
      "metadata": {
        "id": "P0I1hhd_zWza"
      },
      "execution_count": 30,
      "outputs": []
    },
    {
      "cell_type": "code",
      "source": [
        "model_customloss_subclassed_dotkeras.evaluate(X_test_scaled, y_test)"
      ],
      "metadata": {
        "colab": {
          "base_uri": "https://localhost:8080/"
        },
        "id": "05PWG372zZEB",
        "outputId": "0afe127c-b51f-4e84-ca27-9bcccf9c7e3a"
      },
      "execution_count": 31,
      "outputs": [
        {
          "output_type": "stream",
          "name": "stdout",
          "text": [
            "162/162 [==============================] - 1s 2ms/step - loss: 0.2398 - mae: 0.5181\n"
          ]
        },
        {
          "output_type": "execute_result",
          "data": {
            "text/plain": [
              "[0.23983554542064667, 0.5180786848068237]"
            ]
          },
          "metadata": {},
          "execution_count": 31
        }
      ]
    },
    {
      "cell_type": "code",
      "source": [
        "model_customloss_subclassed_dotkeras.get_config() # model configuration"
      ],
      "metadata": {
        "colab": {
          "base_uri": "https://localhost:8080/"
        },
        "id": "1oXxdxvoFlkX",
        "outputId": "e5235608-f50c-4472-986b-169a08590880"
      },
      "execution_count": 24,
      "outputs": [
        {
          "output_type": "execute_result",
          "data": {
            "text/plain": [
              "{'name': 'sequential_1',\n",
              " 'layers': [{'class_name': 'InputLayer',\n",
              "   'config': {'batch_input_shape': (None, 8),\n",
              "    'dtype': 'float32',\n",
              "    'sparse': False,\n",
              "    'ragged': False,\n",
              "    'name': 'dense_2_input'}},\n",
              "  {'class_name': 'Dense',\n",
              "   'config': {'name': 'dense_2',\n",
              "    'trainable': True,\n",
              "    'dtype': 'float32',\n",
              "    'batch_input_shape': (None, 8),\n",
              "    'units': 32,\n",
              "    'activation': 'selu',\n",
              "    'use_bias': True,\n",
              "    'kernel_initializer': {'class_name': 'LecunNormal',\n",
              "     'config': {'seed': None}},\n",
              "    'bias_initializer': {'class_name': 'Zeros', 'config': {}},\n",
              "    'kernel_regularizer': None,\n",
              "    'bias_regularizer': None,\n",
              "    'activity_regularizer': None,\n",
              "    'kernel_constraint': None,\n",
              "    'bias_constraint': None}},\n",
              "  {'class_name': 'Dense',\n",
              "   'config': {'name': 'dense_3',\n",
              "    'trainable': True,\n",
              "    'dtype': 'float32',\n",
              "    'units': 1,\n",
              "    'activation': 'linear',\n",
              "    'use_bias': True,\n",
              "    'kernel_initializer': {'class_name': 'GlorotUniform',\n",
              "     'config': {'seed': None}},\n",
              "    'bias_initializer': {'class_name': 'Zeros', 'config': {}},\n",
              "    'kernel_regularizer': None,\n",
              "    'bias_regularizer': None,\n",
              "    'activity_regularizer': None,\n",
              "    'kernel_constraint': None,\n",
              "    'bias_constraint': None}}]}"
            ]
          },
          "metadata": {},
          "execution_count": 24
        }
      ]
    },
    {
      "cell_type": "markdown",
      "source": [
        "model compile configuration. Note the **loss object, its config**"
      ],
      "metadata": {
        "id": "U4ptblU9GHDX"
      }
    },
    {
      "cell_type": "code",
      "source": [
        "model_customloss_subclassed_dotkeras.get_compile_config()"
      ],
      "metadata": {
        "colab": {
          "base_uri": "https://localhost:8080/"
        },
        "id": "aQV7ItyzFnGH",
        "outputId": "40d2d7f8-f225-4312-9c31-eee9c5ee15a0"
      },
      "execution_count": 26,
      "outputs": [
        {
          "output_type": "execute_result",
          "data": {
            "text/plain": [
              "{'optimizer': {'module': 'keras.optimizers.experimental',\n",
              "  'class_name': 'Nadam',\n",
              "  'config': {'name': 'Nadam',\n",
              "   'weight_decay': None,\n",
              "   'clipnorm': None,\n",
              "   'global_clipnorm': None,\n",
              "   'clipvalue': None,\n",
              "   'use_ema': False,\n",
              "   'ema_momentum': 0.99,\n",
              "   'ema_overwrite_frequency': None,\n",
              "   'jit_compile': False,\n",
              "   'is_legacy_optimizer': False,\n",
              "   'learning_rate': 0.0010000000474974513,\n",
              "   'beta_1': 0.9,\n",
              "   'beta_2': 0.999,\n",
              "   'epsilon': 1e-07},\n",
              "  'registered_name': None},\n",
              " 'loss': {'module': '__main__',\n",
              "  'class_name': 'HuberLoss',\n",
              "  'config': {'reduction': 'auto', 'name': None, 'threshold': 2.0},\n",
              "  'registered_name': 'HuberLoss'},\n",
              " 'metrics': [[{'module': 'keras.metrics',\n",
              "    'class_name': 'MeanMetricWrapper',\n",
              "    'config': {'name': 'mae',\n",
              "     'dtype': 'float32',\n",
              "     'fn': {'module': 'keras.losses',\n",
              "      'class_name': 'function',\n",
              "      'config': 'mean_absolute_error',\n",
              "      'registered_name': 'mean_absolute_error'}},\n",
              "    'registered_name': None}]],\n",
              " 'loss_weights': None,\n",
              " 'weighted_metrics': None,\n",
              " 'run_eagerly': None,\n",
              " 'steps_per_execution': None,\n",
              " 'jit_compile': None}"
            ]
          },
          "metadata": {},
          "execution_count": 26
        }
      ]
    },
    {
      "cell_type": "code",
      "source": [
        "# get the threshold attribute\n",
        "model_customloss_subclassed_dotkeras.loss.threshold"
      ],
      "metadata": {
        "colab": {
          "base_uri": "https://localhost:8080/"
        },
        "id": "It90tb2bQB21",
        "outputId": "9b6bcfb6-ad3b-43fd-ca54-545bc7fe8fd9"
      },
      "execution_count": 43,
      "outputs": [
        {
          "output_type": "execute_result",
          "data": {
            "text/plain": [
              "2.0"
            ]
          },
          "metadata": {},
          "execution_count": 43
        }
      ]
    },
    {
      "cell_type": "markdown",
      "source": [
        ".h5"
      ],
      "metadata": {
        "id": "kkGK4VJHNjHf"
      }
    },
    {
      "cell_type": "code",
      "source": [
        "model_customloss_subclassed_h5 = tf.keras.models.load_model('/content/my_model_custom_loss_subclassed.h5',\n",
        "                                                               custom_objects={'HuberLoss':HuberLoss})"
      ],
      "metadata": {
        "id": "xGd-TcuQFvJH"
      },
      "execution_count": 28,
      "outputs": []
    },
    {
      "cell_type": "code",
      "source": [
        "model_customloss_subclassed_h5.evaluate(X_test_scaled, y_test)"
      ],
      "metadata": {
        "colab": {
          "base_uri": "https://localhost:8080/"
        },
        "id": "lXyQ9k3QJX7B",
        "outputId": "2ce27e64-4b1a-4e84-e8b4-cdb0a29d4f07"
      },
      "execution_count": 29,
      "outputs": [
        {
          "output_type": "stream",
          "name": "stdout",
          "text": [
            "162/162 [==============================] - 1s 3ms/step - loss: 0.2398 - mae: 0.5181\n"
          ]
        },
        {
          "output_type": "execute_result",
          "data": {
            "text/plain": [
              "[0.23983554542064667, 0.5180786848068237]"
            ]
          },
          "metadata": {},
          "execution_count": 29
        }
      ]
    },
    {
      "cell_type": "code",
      "source": [
        "model_customloss_subclassed_h5.loss.threshold"
      ],
      "metadata": {
        "colab": {
          "base_uri": "https://localhost:8080/"
        },
        "id": "x39x2ZyoP-6-",
        "outputId": "175bafa5-1f68-4b32-9e3f-c320a6a5e8d7"
      },
      "execution_count": 42,
      "outputs": [
        {
          "output_type": "execute_result",
          "data": {
            "text/plain": [
              "2.0"
            ]
          },
          "metadata": {},
          "execution_count": 42
        }
      ]
    },
    {
      "cell_type": "markdown",
      "source": [
        "SavedModel"
      ],
      "metadata": {
        "id": "o5nc0z6uNkkO"
      }
    },
    {
      "cell_type": "code",
      "source": [
        "model_customloss_subclassed_savedModel = keras.models.load_model('/content/drive/MyDrive/ColabNotebooks/HML/my_model_custom_loss_subclassed',\n",
        "                                                                 custom_objects={'HuberLoss':HuberLoss})"
      ],
      "metadata": {
        "id": "-wkxF8AGKiX4"
      },
      "execution_count": 34,
      "outputs": []
    },
    {
      "cell_type": "code",
      "source": [
        "model_customloss_subclassed_savedModel.evaluate(X_test_scaled, y_test)"
      ],
      "metadata": {
        "colab": {
          "base_uri": "https://localhost:8080/"
        },
        "id": "QnSQBEzUJ58f",
        "outputId": "4e655945-f6f5-4e98-fd12-c4257f98ae47"
      },
      "execution_count": 35,
      "outputs": [
        {
          "output_type": "stream",
          "name": "stdout",
          "text": [
            "162/162 [==============================] - 0s 1ms/step - loss: 0.2398 - mae: 0.5181\n"
          ]
        },
        {
          "output_type": "execute_result",
          "data": {
            "text/plain": [
              "[0.23983554542064667, 0.5180786848068237]"
            ]
          },
          "metadata": {},
          "execution_count": 35
        }
      ]
    },
    {
      "cell_type": "code",
      "source": [
        "model_customloss_subclassed_savedModel.fit(X_train_scaled, y_train,\n",
        "                                           epochs=2,\n",
        "                                           validation_data=(X_valid_scaled, y_valid))"
      ],
      "metadata": {
        "colab": {
          "base_uri": "https://localhost:8080/"
        },
        "id": "r_nYxoNFPkVW",
        "outputId": "816b9fe3-363a-4e65-ee6e-091184bef298"
      },
      "execution_count": 38,
      "outputs": [
        {
          "output_type": "stream",
          "name": "stdout",
          "text": [
            "Epoch 1/2\n",
            "363/363 [==============================] - 3s 2ms/step - loss: 0.2348 - mae: 0.5069 - val_loss: 0.2404 - val_mae: 0.4929\n",
            "Epoch 2/2\n",
            "363/363 [==============================] - 1s 3ms/step - loss: 0.2232 - mae: 0.4934 - val_loss: 0.2614 - val_mae: 0.4852\n"
          ]
        },
        {
          "output_type": "execute_result",
          "data": {
            "text/plain": [
              "<keras.callbacks.History at 0x7e56f025f070>"
            ]
          },
          "metadata": {},
          "execution_count": 38
        }
      ]
    },
    {
      "cell_type": "code",
      "source": [
        "model_customloss_subclassed_savedModel.loss.threshold"
      ],
      "metadata": {
        "colab": {
          "base_uri": "https://localhost:8080/"
        },
        "id": "ywQWPbfHPavu",
        "outputId": "65a24c6b-09b0-4b39-dcb7-3002a83dd6ac"
      },
      "execution_count": 41,
      "outputs": [
        {
          "output_type": "execute_result",
          "data": {
            "text/plain": [
              "2.0"
            ]
          },
          "metadata": {},
          "execution_count": 41
        }
      ]
    },
    {
      "cell_type": "markdown",
      "metadata": {
        "id": "VsTygVcqQAh3"
      },
      "source": [
        "## Other Custom Functions\n",
        "Custom Activation Functions, Initializers, Regularizers, and Constraints"
      ]
    },
    {
      "cell_type": "markdown",
      "source": [
        "#### 1. as custom functions added to the model layer"
      ],
      "metadata": {
        "id": "-ZkejAhCudVt"
      }
    },
    {
      "cell_type": "code",
      "source": [
        "tf.keras.backend.clear_session()\n",
        "np.random.seed(42)\n",
        "tf.random.set_seed(42)"
      ],
      "metadata": {
        "id": "Sz-Q9fqNQOon"
      },
      "execution_count": null,
      "outputs": []
    },
    {
      "cell_type": "code",
      "source": [
        "## define custom functions\n",
        "def my_softplus(z): # return value is just tf.nn.softplus(z)\n",
        "    return tf.math.log(tf.exp(z) + 1.0)"
      ],
      "metadata": {
        "id": "BiVAaAsbQb0X"
      },
      "execution_count": null,
      "outputs": []
    },
    {
      "cell_type": "code",
      "source": [
        "z = np.linspace(-5, 5, 100)\n",
        "f_z = my_softplus(z)\n",
        "\n",
        "plt.plot(z, f_z)\n",
        "plt.axis([-5, 5, 0, 3])\n",
        "plt.ylabel('softplus(z)')\n",
        "plt.xlabel('$z$')\n",
        "plt.grid()\n",
        "plt.plot()"
      ],
      "metadata": {
        "colab": {
          "base_uri": "https://localhost:8080/",
          "height": 482
        },
        "id": "kAxoDopXQ8QY",
        "outputId": "879f4d3c-8ca3-4e13-cb2a-aa4dcc8efe09"
      },
      "execution_count": null,
      "outputs": [
        {
          "output_type": "execute_result",
          "data": {
            "text/plain": [
              "[]"
            ]
          },
          "metadata": {},
          "execution_count": 164
        },
        {
          "output_type": "display_data",
          "data": {
            "text/plain": [
              "<Figure size 640x480 with 1 Axes>"
            ],
            "image/png": "[encoded data removed]"
          },
          "metadata": {}
        }
      ]
    },
    {
      "cell_type": "code",
      "source": [
        "def my_glorot_initializer(shape, dtype=tf.float32):\n",
        "    stddev = tf.sqrt(2. / (shape[0] + shape[1]))\n",
        "    return tf.random.normal(shape, stddev=stddev, dtype=dtype)\n",
        "\n",
        "def my_l1_regularizer(weights):\n",
        "    return tf.reduce_sum(tf.abs(0.01 * weights))\n",
        "\n",
        "def my_positive_weights(weights): # return value is just tf.nn.relu(weights)\n",
        "    return tf.where(weights < 0., tf.zeros_like(weights), weights)"
      ],
      "metadata": {
        "id": "LZwHsFl_Q-pX"
      },
      "execution_count": null,
      "outputs": []
    },
    {
      "cell_type": "code",
      "source": [
        "# zeros_like function will make all 0\n",
        "tf.zeros_like([1,1,1])"
      ],
      "metadata": {
        "colab": {
          "base_uri": "https://localhost:8080/"
        },
        "id": "Cvc6afwlTFGf",
        "outputId": "4735fd0e-2099-4bf3-f622-14c9faa4aeee"
      },
      "execution_count": null,
      "outputs": [
        {
          "output_type": "execute_result",
          "data": {
            "text/plain": [
              "<tf.Tensor: shape=(3,), dtype=int32, numpy=array([0, 0, 0], dtype=int32)>"
            ]
          },
          "metadata": {},
          "execution_count": 168
        }
      ]
    },
    {
      "cell_type": "code",
      "source": [
        "# Define layer with custom function\n",
        "myDenselayer = tf.keras.layers.Dense(1, activation=my_softplus,\n",
        "                              kernel_initializer=my_glorot_initializer,\n",
        "                              kernel_regularizer=my_l1_regularizer,\n",
        "                              kernel_constraint=my_positive_weights)"
      ],
      "metadata": {
        "id": "gnDkWM5FTIE4"
      },
      "execution_count": null,
      "outputs": []
    },
    {
      "cell_type": "code",
      "source": [
        "model = tf.keras.Sequential([\n",
        "      tf.keras.layers.Dense(32, activation='selu', kernel_initializer='lecun_normal', input_shape=input_shape),\n",
        "      tf.keras.layers.Dense(1, activation=my_softplus,\n",
        "                              kernel_initializer=my_glorot_initializer,\n",
        "                              kernel_regularizer=my_l1_regularizer,\n",
        "                              kernel_constraint=my_positive_weights)\n",
        "])"
      ],
      "metadata": {
        "id": "PF54S_gDTyNq"
      },
      "execution_count": null,
      "outputs": []
    },
    {
      "cell_type": "code",
      "source": [
        "model.compile(loss=\"mse\", optimizer='nadam', metrics=['mae'])"
      ],
      "metadata": {
        "id": "FpR4372RULdY"
      },
      "execution_count": null,
      "outputs": []
    },
    {
      "cell_type": "code",
      "source": [
        "model.fit(X_train_scaled, y_train,\n",
        "          epochs=2,\n",
        "          validation_data=(X_valid_scaled, y_valid))"
      ],
      "metadata": {
        "colab": {
          "base_uri": "https://localhost:8080/"
        },
        "id": "lKtKCfm1USfx",
        "outputId": "e93b4f91-70b2-46d4-e316-c4a2c88f7284"
      },
      "execution_count": null,
      "outputs": [
        {
          "output_type": "stream",
          "name": "stdout",
          "text": [
            "Epoch 1/2\n",
            "363/363 [==============================] - 2s 3ms/step - loss: 1.9595 - mae: 0.9574 - val_loss: inf - val_mae: inf\n",
            "Epoch 2/2\n",
            "363/363 [==============================] - 1s 3ms/step - loss: 0.6103 - mae: 0.5229 - val_loss: inf - val_mae: inf\n"
          ]
        },
        {
          "output_type": "execute_result",
          "data": {
            "text/plain": [
              "<keras.callbacks.History at 0x7e5e202d8bb0>"
            ]
          },
          "metadata": {},
          "execution_count": 214
        }
      ]
    },
    {
      "cell_type": "code",
      "source": [
        "model.evaluate(X_test_scaled, y_test)"
      ],
      "metadata": {
        "colab": {
          "base_uri": "https://localhost:8080/"
        },
        "id": "MfenY1tRWrM5",
        "outputId": "3e194d6a-4ff8-4ceb-f9ed-70e5b0769875"
      },
      "execution_count": null,
      "outputs": [
        {
          "output_type": "stream",
          "name": "stdout",
          "text": [
            "162/162 [==============================] - 0s 2ms/step - loss: 1.8900 - mae: 0.5403\n"
          ]
        },
        {
          "output_type": "execute_result",
          "data": {
            "text/plain": [
              "[1.8900423049926758, 0.5402973890304565]"
            ]
          },
          "metadata": {},
          "execution_count": 198
        }
      ]
    },
    {
      "cell_type": "code",
      "source": [
        "model.save('model_layer_custom_fn.keras')\n",
        "model.save('model_layer_custom_fn.h5')\n",
        "model.save('model_layer_custom_fn')"
      ],
      "metadata": {
        "colab": {
          "base_uri": "https://localhost:8080/"
        },
        "id": "HB6dnUswUdhe",
        "outputId": "f4c36d13-096d-458b-fb12-1aef546d4a46"
      },
      "execution_count": null,
      "outputs": [
        {
          "output_type": "stream",
          "name": "stderr",
          "text": [
            "WARNING:absl:Found untraced functions such as _update_step_xla while saving (showing 1 of 1). These functions will not be directly callable after loading.\n"
          ]
        }
      ]
    },
    {
      "cell_type": "code",
      "source": [
        "!cp -r  'model_layer_custom_fn' '/content/drive/MyDrive/ColabNotebooks/HML'"
      ],
      "metadata": {
        "id": "nPuq9fZ_ieVm"
      },
      "execution_count": null,
      "outputs": []
    },
    {
      "cell_type": "code",
      "source": [
        "model_layer_custom_fn_dotkeras = tf.keras.models.load_model('model_layer_custom_fn.keras')"
      ],
      "metadata": {
        "colab": {
          "base_uri": "https://localhost:8080/",
          "height": 416
        },
        "id": "BGblNRUBUo4w",
        "outputId": "a47ed212-49fd-4cb1-ac48-404312c41706"
      },
      "execution_count": null,
      "outputs": [
        {
          "output_type": "error",
          "ename": "TypeError",
          "evalue": "ignored",
          "traceback": [
            "\u001b[0;31m---------------------------------------------------------------------------\u001b[0m",
            "\u001b[0;31mTypeError\u001b[0m                                 Traceback (most recent call last)",
            "\u001b[0;32m<ipython-input-200-411e32579592>\u001b[0m in \u001b[0;36m<cell line: 1>\u001b[0;34m()\u001b[0m\n\u001b[0;32m----> 1\u001b[0;31m \u001b[0mmodel_layer_custom_fn_dotkeras\u001b[0m \u001b[0;34m=\u001b[0m \u001b[0mtf\u001b[0m\u001b[0;34m.\u001b[0m\u001b[0mkeras\u001b[0m\u001b[0;34m.\u001b[0m\u001b[0mmodels\u001b[0m\u001b[0;34m.\u001b[0m\u001b[0mload_model\u001b[0m\u001b[0;34m(\u001b[0m\u001b[0;34m'model_layer_custom_fn.keras'\u001b[0m\u001b[0;34m)\u001b[0m\u001b[0;34m\u001b[0m\u001b[0;34m\u001b[0m\u001b[0m\n\u001b[0m",
            "\u001b[0;32m/usr/local/lib/python3.10/dist-packages/keras/saving/saving_api.py\u001b[0m in \u001b[0;36mload_model\u001b[0;34m(filepath, custom_objects, compile, safe_mode, **kwargs)\u001b[0m\n\u001b[1;32m    210\u001b[0m \u001b[0;34m\u001b[0m\u001b[0m\n\u001b[1;32m    211\u001b[0m     \u001b[0;31m# Legacy case.\u001b[0m\u001b[0;34m\u001b[0m\u001b[0;34m\u001b[0m\u001b[0m\n\u001b[0;32m--> 212\u001b[0;31m     return legacy_sm_saving_lib.load_model(\n\u001b[0m\u001b[1;32m    213\u001b[0m         \u001b[0mfilepath\u001b[0m\u001b[0;34m,\u001b[0m \u001b[0mcustom_objects\u001b[0m\u001b[0;34m=\u001b[0m\u001b[0mcustom_objects\u001b[0m\u001b[0;34m,\u001b[0m \u001b[0mcompile\u001b[0m\u001b[0;34m=\u001b[0m\u001b[0mcompile\u001b[0m\u001b[0;34m,\u001b[0m \u001b[0;34m**\u001b[0m\u001b[0mkwargs\u001b[0m\u001b[0;34m\u001b[0m\u001b[0;34m\u001b[0m\u001b[0m\n\u001b[1;32m    214\u001b[0m     )\n",
            "\u001b[0;32m/usr/local/lib/python3.10/dist-packages/keras/utils/traceback_utils.py\u001b[0m in \u001b[0;36merror_handler\u001b[0;34m(*args, **kwargs)\u001b[0m\n\u001b[1;32m     68\u001b[0m             \u001b[0;31m# To get the full stack trace, call:\u001b[0m\u001b[0;34m\u001b[0m\u001b[0;34m\u001b[0m\u001b[0m\n\u001b[1;32m     69\u001b[0m             \u001b[0;31m# `tf.debugging.disable_traceback_filtering()`\u001b[0m\u001b[0;34m\u001b[0m\u001b[0;34m\u001b[0m\u001b[0m\n\u001b[0;32m---> 70\u001b[0;31m             \u001b[0;32mraise\u001b[0m \u001b[0me\u001b[0m\u001b[0;34m.\u001b[0m\u001b[0mwith_traceback\u001b[0m\u001b[0;34m(\u001b[0m\u001b[0mfiltered_tb\u001b[0m\u001b[0;34m)\u001b[0m \u001b[0;32mfrom\u001b[0m \u001b[0;32mNone\u001b[0m\u001b[0;34m\u001b[0m\u001b[0;34m\u001b[0m\u001b[0m\n\u001b[0m\u001b[1;32m     71\u001b[0m         \u001b[0;32mfinally\u001b[0m\u001b[0;34m:\u001b[0m\u001b[0;34m\u001b[0m\u001b[0;34m\u001b[0m\u001b[0m\n\u001b[1;32m     72\u001b[0m             \u001b[0;32mdel\u001b[0m \u001b[0mfiltered_tb\u001b[0m\u001b[0;34m\u001b[0m\u001b[0;34m\u001b[0m\u001b[0m\n",
            "\u001b[0;32m/usr/local/lib/python3.10/dist-packages/keras/engine/base_layer.py\u001b[0m in \u001b[0;36mfrom_config\u001b[0;34m(cls, config)\u001b[0m\n\u001b[1;32m    868\u001b[0m             \u001b[0;32mreturn\u001b[0m \u001b[0mcls\u001b[0m\u001b[0;34m(\u001b[0m\u001b[0;34m**\u001b[0m\u001b[0mconfig\u001b[0m\u001b[0;34m)\u001b[0m\u001b[0;34m\u001b[0m\u001b[0;34m\u001b[0m\u001b[0m\n\u001b[1;32m    869\u001b[0m         \u001b[0;32mexcept\u001b[0m \u001b[0mException\u001b[0m \u001b[0;32mas\u001b[0m \u001b[0me\u001b[0m\u001b[0;34m:\u001b[0m\u001b[0;34m\u001b[0m\u001b[0;34m\u001b[0m\u001b[0m\n\u001b[0;32m--> 870\u001b[0;31m             raise TypeError(\n\u001b[0m\u001b[1;32m    871\u001b[0m                 \u001b[0;34mf\"Error when deserializing class '{cls.__name__}' using \"\u001b[0m\u001b[0;34m\u001b[0m\u001b[0;34m\u001b[0m\u001b[0m\n\u001b[1;32m    872\u001b[0m                 \u001b[0;34mf\"config={config}.\\n\\nException encountered: {e}\"\u001b[0m\u001b[0;34m\u001b[0m\u001b[0;34m\u001b[0m\u001b[0m\n",
            "\u001b[0;31mTypeError\u001b[0m: Error when deserializing class 'Dense' using config={'name': 'dense_6', 'trainable': True, 'dtype': 'float32', 'units': 1, 'activation': 'my_softplus', 'use_bias': True, 'kernel_initializer': 'my_glorot_initializer', 'bias_initializer': {'class_name': 'Zeros', 'config': {}}, 'kernel_regularizer': 'my_l1_regularizer', 'bias_regularizer': None, 'activity_regularizer': None, 'kernel_constraint': 'my_positive_weights', 'bias_constraint': None}.\n\nException encountered: Unknown activation function: 'my_softplus'. Please ensure you are using a `keras.utils.custom_object_scope` and that this object is included in the scope. See https://www.tensorflow.org/guide/keras/save_and_serialize#registering_the_custom_object for details."
          ]
        }
      ]
    },
    {
      "cell_type": "markdown",
      "source": [
        "We observe that model loading failed due to unknown functions. So defining custom_objects is must when it comes to custom function used in model layers"
      ],
      "metadata": {
        "id": "y5FK4gHJU9Dw"
      }
    },
    {
      "cell_type": "code",
      "source": [
        "model_layer_custom_fn_dotkeras = keras.models.load_model(\n",
        "    \"model_layer_custom_fn.keras\",\n",
        "    custom_objects={\n",
        "       \"my_l1_regularizer\": my_l1_regularizer,\n",
        "       \"my_positive_weights\": my_positive_weights,\n",
        "       \"my_glorot_initializer\": my_glorot_initializer,\n",
        "       \"my_softplus\": my_softplus,\n",
        "    })"
      ],
      "metadata": {
        "id": "XqhPa5GcWC7g"
      },
      "execution_count": null,
      "outputs": []
    },
    {
      "cell_type": "code",
      "source": [
        "model_layer_custom_fn_dotkeras.evaluate(X_test_scaled, y_test)"
      ],
      "metadata": {
        "colab": {
          "base_uri": "https://localhost:8080/"
        },
        "id": "SeCszgUeVmKH",
        "outputId": "2d6c1360-b676-4559-cef1-50a94c6a7782"
      },
      "execution_count": null,
      "outputs": [
        {
          "output_type": "stream",
          "name": "stdout",
          "text": [
            "162/162 [==============================] - 0s 1ms/step - loss: 1.8900 - mae: 0.5403\n"
          ]
        },
        {
          "output_type": "execute_result",
          "data": {
            "text/plain": [
              "[1.8900423049926758, 0.5402973890304565]"
            ]
          },
          "metadata": {},
          "execution_count": 202
        }
      ]
    },
    {
      "cell_type": "markdown",
      "source": [
        "####2. Subclassing\n",
        "\n",
        "If a function has hyperparameters that need to be saved along with the model, then you will want to subclass the appropriate class, such as keras.regularizers.Regularizer, keras.constraints.Constraint, keras.initializers.Initializer, or keras.layers.Layer (for any layer, including activation functions)"
      ],
      "metadata": {
        "id": "LBMaa9v7Rs7P"
      }
    },
    {
      "cell_type": "code",
      "source": [
        "class MyL1Regularizer(tf.keras.regularizers.Regularizer):\n",
        "    def __init__(self, factor):\n",
        "        self.factor=factor\n",
        "\n",
        "    def __call__(self, weights):\n",
        "        return tf.reduce_sum(tf.abs(self.factor * weights))\n",
        "\n",
        "    def get_config(self):\n",
        "        return {'factor':self.factor}"
      ],
      "metadata": {
        "id": "4PeKL5SLWo4Y"
      },
      "execution_count": null,
      "outputs": []
    },
    {
      "cell_type": "markdown",
      "source": [
        "Note that you must implement the call() method for losses, layers (including activation functions), and models, or the ```__call__()``` method for regularizers, initializers, and constraints."
      ],
      "metadata": {
        "id": "ixva9EL1RmML"
      }
    },
    {
      "cell_type": "code",
      "source": [
        "keras.backend.clear_session()\n",
        "np.random.seed(42)\n",
        "tf.random.set_seed(42)"
      ],
      "metadata": {
        "id": "qaoSK-AHZSwP"
      },
      "execution_count": null,
      "outputs": []
    },
    {
      "cell_type": "code",
      "source": [
        "model = tf.keras.Sequential([\n",
        "      tf.keras.layers.Dense(32, activation='selu', kernel_initializer='lecun_normal', input_shape=input_shape),\n",
        "      tf.keras.layers.Dense(1, activation=my_softplus,\n",
        "                            kernel_initializer=my_glorot_initializer,\n",
        "                            kernel_regularizer=MyL1Regularizer(0.01),\n",
        "                            kernel_constraint=my_positive_weights)\n",
        "])"
      ],
      "metadata": {
        "id": "ZTvvgXPdZjw-"
      },
      "execution_count": null,
      "outputs": []
    },
    {
      "cell_type": "code",
      "source": [
        "model.compile(loss='mse', optimizer='nadam', metrics=['mae'])"
      ],
      "metadata": {
        "id": "4UdDpiLgaWRf"
      },
      "execution_count": null,
      "outputs": []
    },
    {
      "cell_type": "code",
      "source": [
        "model.fit(X_train_scaled, y_train, epochs=2, validation_data=(X_valid_scaled, y_valid))"
      ],
      "metadata": {
        "colab": {
          "base_uri": "https://localhost:8080/"
        },
        "id": "ZtOyoGTuab7O",
        "outputId": "f7265245-b889-4106-a0ab-198bb4b85a40"
      },
      "execution_count": null,
      "outputs": [
        {
          "output_type": "stream",
          "name": "stdout",
          "text": [
            "Epoch 1/2\n",
            "363/363 [==============================] - 1s 3ms/step - loss: 0.5385 - mae: 0.5076 - val_loss: 1.8651 - val_mae: 0.5095\n",
            "Epoch 2/2\n",
            "363/363 [==============================] - 1s 3ms/step - loss: 0.5074 - mae: 0.4947 - val_loss: 1.5077 - val_mae: 0.5007\n"
          ]
        },
        {
          "output_type": "execute_result",
          "data": {
            "text/plain": [
              "<keras.callbacks.History at 0x7e5e1e383190>"
            ]
          },
          "metadata": {},
          "execution_count": 220
        }
      ]
    },
    {
      "cell_type": "code",
      "source": [
        "model.evaluate(X_test_scaled, y_test)"
      ],
      "metadata": {
        "colab": {
          "base_uri": "https://localhost:8080/"
        },
        "id": "j-IyuqZWalNn",
        "outputId": "cc537e57-51b2-47e8-bdbe-071c9dc43754"
      },
      "execution_count": null,
      "outputs": [
        {
          "output_type": "stream",
          "name": "stdout",
          "text": [
            "162/162 [==============================] - 1s 3ms/step - loss: 0.4985 - mae: 0.4894\n"
          ]
        },
        {
          "output_type": "execute_result",
          "data": {
            "text/plain": [
              "[0.4984534978866577, 0.4893927574157715]"
            ]
          },
          "metadata": {},
          "execution_count": 221
        }
      ]
    },
    {
      "cell_type": "code",
      "source": [
        "model.save(\"my_model_layer_with_custom_fns_subclass.keras\")\n",
        "model.save(\"my_model_layer_with_custom_fns_subclass.h5\")\n",
        "model.save(\"my_model_layer_with_custom_fns_subclass\")"
      ],
      "metadata": {
        "colab": {
          "base_uri": "https://localhost:8080/"
        },
        "id": "cKR2Hr_db6M-",
        "outputId": "8d55abb8-2a2e-4f83-b9b5-07e9bcbb5a35"
      },
      "execution_count": null,
      "outputs": [
        {
          "output_type": "stream",
          "name": "stderr",
          "text": [
            "WARNING:absl:Found untraced functions such as _update_step_xla while saving (showing 1 of 1). These functions will not be directly callable after loading.\n"
          ]
        }
      ]
    },
    {
      "cell_type": "code",
      "source": [
        "!cp -r 'my_model_layer_with_custom_fns_subclass' '/content/drive/MyDrive/ColabNotebooks/HML'"
      ],
      "metadata": {
        "id": "ROpc8Gh-iXku"
      },
      "execution_count": null,
      "outputs": []
    },
    {
      "cell_type": "code",
      "source": [
        "my_model_layer_with_custom_fns_subclass_dot_keras = tf.keras.models.load_model(\"my_model_layer_with_custom_fns_subclass.keras\",\n",
        "                                                                               custom_objects={\"MyL1Regularizer\": MyL1Regularizer,\n",
        "                                                                                               \"my_positive_weights\": my_positive_weights,\n",
        "                                                                                               \"my_glorot_initializer\": my_glorot_initializer,\n",
        "                                                                                               \"my_softplus\": my_softplus})"
      ],
      "metadata": {
        "id": "KGmVvpADcNho"
      },
      "execution_count": null,
      "outputs": []
    },
    {
      "cell_type": "code",
      "source": [
        "my_model_layer_with_custom_fns_subclass_dot_keras.evaluate(X_test_scaled, y_test)"
      ],
      "metadata": {
        "colab": {
          "base_uri": "https://localhost:8080/"
        },
        "id": "cIg2oPXqcqTm",
        "outputId": "cbe92cd0-fdcb-4f9c-b522-09eb7fe9e635"
      },
      "execution_count": null,
      "outputs": [
        {
          "output_type": "stream",
          "name": "stdout",
          "text": [
            "162/162 [==============================] - 1s 3ms/step - loss: 0.4985 - mae: 0.4894\n"
          ]
        },
        {
          "output_type": "execute_result",
          "data": {
            "text/plain": [
              "[0.4984534978866577, 0.4893927574157715]"
            ]
          },
          "metadata": {},
          "execution_count": 225
        }
      ]
    },
    {
      "cell_type": "markdown",
      "metadata": {
        "id": "PA3L_0IKQAh5"
      },
      "source": [
        "## Custom Metrics"
      ]
    },
    {
      "cell_type": "markdown",
      "source": [
        "Losses and metrics are conceptually not the same thing: losses (e.g., cross entropy) are used by Gradient Descent to train a model, so they must be differentiable (at least where they are evaluated), and their gradients should not be 0 everywhere. It’s OK if they are not easily interpretable by humans."
      ],
      "metadata": {
        "id": "_0IuyvBsR7F4"
      }
    },
    {
      "cell_type": "markdown",
      "source": [
        "In contrast, metrics (e.g., accuracy) are used to evaluate a model: they must be more easily interpretable, and they can be non-differentiable or have 0 gradients everywhere."
      ],
      "metadata": {
        "id": "z8d5HylWR-V-"
      }
    },
    {
      "cell_type": "markdown",
      "source": [
        "In most cases, defining a custom metric function is exactly the same as defining a custom loss function."
      ],
      "metadata": {
        "id": "Jj9ExZdfSKAl"
      }
    },
    {
      "cell_type": "code",
      "source": [
        "def create_huber(threshold=1.0):\n",
        "    def huber_loss(y_true, y_pred):\n",
        "        error= y_true - y_pred\n",
        "        is_small_error = tf.abs(error) < threshold\n",
        "        squared_loss = tf.square(error) / 2\n",
        "        linear_loss = threshold * tf.abs(error) - threshold**2 / 2\n",
        "\n",
        "        return tf.where(is_small_error, squared_loss, linear_loss)\n",
        "    return huber_loss"
      ],
      "metadata": {
        "id": "Flxf6y2GvPh7"
      },
      "execution_count": 52,
      "outputs": []
    },
    {
      "cell_type": "code",
      "source": [
        "tf.keras.backend.clear_session()\n",
        "np.random.seed(42)\n",
        "tf.random.set_seed(42)"
      ],
      "metadata": {
        "id": "njDVRCSYk6Ju"
      },
      "execution_count": null,
      "outputs": []
    },
    {
      "cell_type": "code",
      "source": [
        "model = tf.keras.Sequential([\n",
        "    tf.keras.layers.Dense(32, activation='selu', kernel_initializer='lecun_normal', input_shape=input_shape),\n",
        "    tf.keras.layers.Dense(1)\n",
        "])"
      ],
      "metadata": {
        "id": "YB7Vm1wzlBBu"
      },
      "execution_count": null,
      "outputs": []
    },
    {
      "cell_type": "code",
      "source": [
        "model.compile(loss='mse',\n",
        "              optimizer='nadam',\n",
        "              metrics=[create_huber(2.0)])"
      ],
      "metadata": {
        "id": "Bk0k_5Hglgke"
      },
      "execution_count": null,
      "outputs": []
    },
    {
      "cell_type": "code",
      "source": [
        "model.fit(X_train_scaled, y_train, epochs=2)"
      ],
      "metadata": {
        "colab": {
          "base_uri": "https://localhost:8080/"
        },
        "id": "IdBqnzstnk3V",
        "outputId": "3a4cb012-baea-442e-9cca-f248d7c05d2e"
      },
      "execution_count": null,
      "outputs": [
        {
          "output_type": "stream",
          "name": "stdout",
          "text": [
            "Epoch 1/2\n",
            "363/363 [==============================] - 2s 2ms/step - loss: 1.9318 - huber_loss: 0.8119\n",
            "Epoch 2/2\n",
            "363/363 [==============================] - 1s 2ms/step - loss: 0.5090 - huber_loss: 0.2382\n"
          ]
        },
        {
          "output_type": "execute_result",
          "data": {
            "text/plain": [
              "<keras.callbacks.History at 0x7e5e1f3220e0>"
            ]
          },
          "metadata": {},
          "execution_count": 248
        }
      ]
    },
    {
      "cell_type": "code",
      "source": [
        "model.evaluate(X_test_scaled, y_test)"
      ],
      "metadata": {
        "colab": {
          "base_uri": "https://localhost:8080/"
        },
        "id": "sGVmF3G7ohiO",
        "outputId": "c9835698-9edb-452a-854d-8768e616fa66"
      },
      "execution_count": null,
      "outputs": [
        {
          "output_type": "stream",
          "name": "stdout",
          "text": [
            "162/162 [==============================] - 0s 2ms/step - loss: 0.4697 - huber_loss: 0.2294\n"
          ]
        },
        {
          "output_type": "execute_result",
          "data": {
            "text/plain": [
              "[0.4696834683418274, 0.22937245666980743]"
            ]
          },
          "metadata": {},
          "execution_count": 249
        }
      ]
    },
    {
      "cell_type": "code",
      "source": [
        "model.save('model_custom_metric_fn.keras')\n",
        "model.save('model_custom_metric_fn.h5')\n",
        "model.save('model_custom_metric_fn')"
      ],
      "metadata": {
        "colab": {
          "base_uri": "https://localhost:8080/"
        },
        "id": "MvzduFm5oXcV",
        "outputId": "b52f12e7-af4c-4bf9-f6af-8807cf981339"
      },
      "execution_count": null,
      "outputs": [
        {
          "output_type": "stream",
          "name": "stderr",
          "text": [
            "WARNING:absl:Found untraced functions such as _update_step_xla while saving (showing 1 of 1). These functions will not be directly callable after loading.\n"
          ]
        }
      ]
    },
    {
      "cell_type": "code",
      "source": [
        "!cp -r 'model_custom_metric_fn' '/content/drive/MyDrive/ColabNotebooks/HML'"
      ],
      "metadata": {
        "id": "_fcXVLBotF41"
      },
      "execution_count": null,
      "outputs": []
    },
    {
      "cell_type": "markdown",
      "source": [
        ".keras"
      ],
      "metadata": {
        "id": "r9WyXYXVqsLp"
      }
    },
    {
      "cell_type": "code",
      "source": [
        "model_custom_metric_fn_dot_keras = tf.keras.models.load_model('model_custom_metric_fn.keras')"
      ],
      "metadata": {
        "colab": {
          "base_uri": "https://localhost:8080/",
          "height": 347
        },
        "id": "nlLSbhJUtfMl",
        "outputId": "4667378a-924a-4606-dbf5-9ee7d5baed2e"
      },
      "execution_count": null,
      "outputs": [
        {
          "output_type": "error",
          "ename": "ValueError",
          "evalue": "ignored",
          "traceback": [
            "\u001b[0;31m---------------------------------------------------------------------------\u001b[0m",
            "\u001b[0;31mValueError\u001b[0m                                Traceback (most recent call last)",
            "\u001b[0;32m<ipython-input-261-0e6b10887f90>\u001b[0m in \u001b[0;36m<cell line: 1>\u001b[0;34m()\u001b[0m\n\u001b[0;32m----> 1\u001b[0;31m \u001b[0mmodel_custom_metric_fn_dot_keras\u001b[0m \u001b[0;34m=\u001b[0m \u001b[0mtf\u001b[0m\u001b[0;34m.\u001b[0m\u001b[0mkeras\u001b[0m\u001b[0;34m.\u001b[0m\u001b[0mmodels\u001b[0m\u001b[0;34m.\u001b[0m\u001b[0mload_model\u001b[0m\u001b[0;34m(\u001b[0m\u001b[0;34m'model_custom_metric_fn.keras'\u001b[0m\u001b[0;34m)\u001b[0m\u001b[0;34m\u001b[0m\u001b[0;34m\u001b[0m\u001b[0m\n\u001b[0m",
            "\u001b[0;32m/usr/local/lib/python3.10/dist-packages/keras/saving/saving_api.py\u001b[0m in \u001b[0;36mload_model\u001b[0;34m(filepath, custom_objects, compile, safe_mode, **kwargs)\u001b[0m\n\u001b[1;32m    210\u001b[0m \u001b[0;34m\u001b[0m\u001b[0m\n\u001b[1;32m    211\u001b[0m     \u001b[0;31m# Legacy case.\u001b[0m\u001b[0;34m\u001b[0m\u001b[0;34m\u001b[0m\u001b[0m\n\u001b[0;32m--> 212\u001b[0;31m     return legacy_sm_saving_lib.load_model(\n\u001b[0m\u001b[1;32m    213\u001b[0m         \u001b[0mfilepath\u001b[0m\u001b[0;34m,\u001b[0m \u001b[0mcustom_objects\u001b[0m\u001b[0;34m=\u001b[0m\u001b[0mcustom_objects\u001b[0m\u001b[0;34m,\u001b[0m \u001b[0mcompile\u001b[0m\u001b[0;34m=\u001b[0m\u001b[0mcompile\u001b[0m\u001b[0;34m,\u001b[0m \u001b[0;34m**\u001b[0m\u001b[0mkwargs\u001b[0m\u001b[0;34m\u001b[0m\u001b[0;34m\u001b[0m\u001b[0m\n\u001b[1;32m    214\u001b[0m     )\n",
            "\u001b[0;32m/usr/local/lib/python3.10/dist-packages/keras/utils/traceback_utils.py\u001b[0m in \u001b[0;36merror_handler\u001b[0;34m(*args, **kwargs)\u001b[0m\n\u001b[1;32m     68\u001b[0m             \u001b[0;31m# To get the full stack trace, call:\u001b[0m\u001b[0;34m\u001b[0m\u001b[0;34m\u001b[0m\u001b[0m\n\u001b[1;32m     69\u001b[0m             \u001b[0;31m# `tf.debugging.disable_traceback_filtering()`\u001b[0m\u001b[0;34m\u001b[0m\u001b[0;34m\u001b[0m\u001b[0m\n\u001b[0;32m---> 70\u001b[0;31m             \u001b[0;32mraise\u001b[0m \u001b[0me\u001b[0m\u001b[0;34m.\u001b[0m\u001b[0mwith_traceback\u001b[0m\u001b[0;34m(\u001b[0m\u001b[0mfiltered_tb\u001b[0m\u001b[0;34m)\u001b[0m \u001b[0;32mfrom\u001b[0m \u001b[0;32mNone\u001b[0m\u001b[0;34m\u001b[0m\u001b[0;34m\u001b[0m\u001b[0m\n\u001b[0m\u001b[1;32m     71\u001b[0m         \u001b[0;32mfinally\u001b[0m\u001b[0;34m:\u001b[0m\u001b[0;34m\u001b[0m\u001b[0;34m\u001b[0m\u001b[0m\n\u001b[1;32m     72\u001b[0m             \u001b[0;32mdel\u001b[0m \u001b[0mfiltered_tb\u001b[0m\u001b[0;34m\u001b[0m\u001b[0;34m\u001b[0m\u001b[0m\n",
            "\u001b[0;32m/usr/local/lib/python3.10/dist-packages/keras/saving/legacy/serialization.py\u001b[0m in \u001b[0;36mdeserialize_keras_object\u001b[0;34m(identifier, module_objects, custom_objects, printable_module_name)\u001b[0m\n\u001b[1;32m    541\u001b[0m             \u001b[0mobj\u001b[0m \u001b[0;34m=\u001b[0m \u001b[0mmodule_objects\u001b[0m\u001b[0;34m.\u001b[0m\u001b[0mget\u001b[0m\u001b[0;34m(\u001b[0m\u001b[0mobject_name\u001b[0m\u001b[0;34m)\u001b[0m\u001b[0;34m\u001b[0m\u001b[0;34m\u001b[0m\u001b[0m\n\u001b[1;32m    542\u001b[0m             \u001b[0;32mif\u001b[0m \u001b[0mobj\u001b[0m \u001b[0;32mis\u001b[0m \u001b[0;32mNone\u001b[0m\u001b[0;34m:\u001b[0m\u001b[0;34m\u001b[0m\u001b[0;34m\u001b[0m\u001b[0m\n\u001b[0;32m--> 543\u001b[0;31m                 raise ValueError(\n\u001b[0m\u001b[1;32m    544\u001b[0m                     \u001b[0;34mf\"Unknown {printable_module_name}: '{object_name}'. \"\u001b[0m\u001b[0;34m\u001b[0m\u001b[0;34m\u001b[0m\u001b[0m\n\u001b[1;32m    545\u001b[0m                     \u001b[0;34m\"Please ensure you are using a \"\u001b[0m\u001b[0;34m\u001b[0m\u001b[0;34m\u001b[0m\u001b[0m\n",
            "\u001b[0;31mValueError\u001b[0m: Unknown metric function: 'huber_loss'. Please ensure you are using a `keras.utils.custom_object_scope` and that this object is included in the scope. See https://www.tensorflow.org/guide/keras/save_and_serialize#registering_the_custom_object for details."
          ]
        }
      ]
    },
    {
      "cell_type": "code",
      "source": [
        "model_custom_metric_fn_dot_keras = tf.keras.models.load_model('model_custom_metric_fn.keras',\n",
        "                                                              custom_objects={'huber_loss':create_huber(2.0)})\n",
        "model_custom_metric_fn_dot_keras.evaluate(X_test_scaled, y_test)"
      ],
      "metadata": {
        "colab": {
          "base_uri": "https://localhost:8080/"
        },
        "id": "8pSWYp-eohBO",
        "outputId": "de7bd03a-fb0c-4bd4-ac9f-95fa7eaf0a57"
      },
      "execution_count": null,
      "outputs": [
        {
          "output_type": "stream",
          "name": "stdout",
          "text": [
            "162/162 [==============================] - 1s 5ms/step - loss: 0.4697 - huber_loss: 0.2294\n"
          ]
        },
        {
          "output_type": "execute_result",
          "data": {
            "text/plain": [
              "[0.4696834683418274, 0.22937245666980743]"
            ]
          },
          "metadata": {},
          "execution_count": 252
        }
      ]
    },
    {
      "cell_type": "markdown",
      "source": [
        ".h5"
      ],
      "metadata": {
        "id": "_QC_TLZeqlmO"
      }
    },
    {
      "cell_type": "code",
      "source": [
        "model_custom_metric_fn_h5 = tf.keras.models.load_model('model_custom_metric_fn.h5',\n",
        "                                                              custom_objects={'huber_loss':create_huber(2.0)})\n",
        "model_custom_metric_fn_h5.evaluate(X_test_scaled, y_test)"
      ],
      "metadata": {
        "colab": {
          "base_uri": "https://localhost:8080/"
        },
        "id": "5nLAkq9sqZm2",
        "outputId": "89e386cc-9474-4aea-b1f9-c306498b9765"
      },
      "execution_count": null,
      "outputs": [
        {
          "output_type": "stream",
          "name": "stdout",
          "text": [
            "162/162 [==============================] - 1s 3ms/step - loss: 0.4697 - huber_loss: 0.2294\n"
          ]
        },
        {
          "output_type": "execute_result",
          "data": {
            "text/plain": [
              "[0.4696834683418274, 0.22937245666980743]"
            ]
          },
          "metadata": {},
          "execution_count": 253
        }
      ]
    },
    {
      "cell_type": "markdown",
      "source": [
        "SavedModel"
      ],
      "metadata": {
        "id": "QZAyGnSKqkGW"
      }
    },
    {
      "cell_type": "code",
      "source": [
        "model_custom_metric_fn = tf.keras.models.load_model('model_custom_metric_fn',\n",
        "                                                              custom_objects={'huber_loss':create_huber(2.0)})\n",
        "model_custom_metric_fn.evaluate(X_test_scaled, y_test)"
      ],
      "metadata": {
        "colab": {
          "base_uri": "https://localhost:8080/"
        },
        "id": "UfEGv9MRqfZ9",
        "outputId": "3b8b5bff-bfb3-458c-f6fe-75b94a128e05"
      },
      "execution_count": null,
      "outputs": [
        {
          "output_type": "stream",
          "name": "stdout",
          "text": [
            "162/162 [==============================] - 2s 10ms/step - loss: 0.4697 - huber_loss: 0.2294\n"
          ]
        },
        {
          "output_type": "execute_result",
          "data": {
            "text/plain": [
              "[0.4696834683418274, 0.22937245666980743]"
            ]
          },
          "metadata": {},
          "execution_count": 254
        }
      ]
    },
    {
      "cell_type": "markdown",
      "metadata": {
        "id": "TQe5TNYGQAh6"
      },
      "source": [
        "**Note**: if you use the same function as the loss and a metric, you may be surprised to see different results. This is generally just due to floating point precision errors: even though the mathematical equations are equivalent, the operations are not run in the same order, which can lead to small differences. Moreover, when using sample weights, there's more than just precision errors:\n",
        "* the loss since the start of the epoch is the mean of all batch losses seen so far. Each batch loss is the sum of the weighted instance losses divided by the _batch size_ (not the sum of weights, so the batch loss is _not_ the weighted mean of the losses).\n",
        "* the metric since the start of the epoch is equal to the sum of weighted instance losses divided by sum of all weights seen so far. In other words, it is the weighted mean of all the instance losses. Not the same thing.\n",
        "\n",
        "If you do the math, you will find that loss = metric * mean of sample weights (plus some floating point precision error)."
      ]
    },
    {
      "cell_type": "code",
      "source": [
        "model.compile(loss=create_huber(2.0),\n",
        "              optimizer='nadam',\n",
        "              metrics=[create_huber(2.0)])"
      ],
      "metadata": {
        "id": "lgPEx4EknpxN"
      },
      "execution_count": null,
      "outputs": []
    },
    {
      "cell_type": "code",
      "source": [
        "sample_weight=np.random.rand(len(y_train))\n",
        "history = model.fit(X_train_scaled, y_train, epochs=2, sample_weight=sample_weight)"
      ],
      "metadata": {
        "colab": {
          "base_uri": "https://localhost:8080/"
        },
        "id": "-cJ4uAeNoUdN",
        "outputId": "bfc2855f-c7f6-4196-85a2-95965a93bfc2"
      },
      "execution_count": null,
      "outputs": [
        {
          "output_type": "stream",
          "name": "stdout",
          "text": [
            "Epoch 1/2\n",
            "363/363 [==============================] - 3s 4ms/step - loss: 0.1127 - huber_loss: 0.2281\n",
            "Epoch 2/2\n",
            "363/363 [==============================] - 1s 4ms/step - loss: 0.1091 - huber_loss: 0.2211\n"
          ]
        }
      ]
    },
    {
      "cell_type": "code",
      "source": [
        "history.history.items()"
      ],
      "metadata": {
        "colab": {
          "base_uri": "https://localhost:8080/"
        },
        "id": "_NWtUcqhrAXU",
        "outputId": "461e57df-59f0-4c33-bcbf-9435ae2b9fb8"
      },
      "execution_count": null,
      "outputs": [
        {
          "output_type": "execute_result",
          "data": {
            "text/plain": [
              "dict_items([('loss', [0.11267627030611038, 0.10909941047430038]), ('huber_loss', [0.22806185483932495, 0.22108982503414154])])"
            ]
          },
          "metadata": {},
          "execution_count": 257
        }
      ]
    },
    {
      "cell_type": "code",
      "source": [
        "history.history['loss'][0], history.history['huber_loss'][0] * sample_weight.mean()"
      ],
      "metadata": {
        "colab": {
          "base_uri": "https://localhost:8080/"
        },
        "id": "4BDMGSm7rPHt",
        "outputId": "05af46c4-b57d-4624-ec19-0254a3f1fc62"
      },
      "execution_count": null,
      "outputs": [
        {
          "output_type": "execute_result",
          "data": {
            "text/plain": [
              "(0.11267627030611038, 0.11317500703428972)"
            ]
          },
          "metadata": {},
          "execution_count": 259
        }
      ]
    },
    {
      "cell_type": "markdown",
      "metadata": {
        "id": "nSipWPfhQAh6"
      },
      "source": [
        "### Streaming metrics"
      ]
    },
    {
      "cell_type": "markdown",
      "source": [
        " Suppose the model made five positive predictions in the first batch, four of which were correct: that’s 80% precision. Then suppose the model made three positive predictions in the second batch, but they were all incorrect: that’s 0% precision for the second batch. If you just compute the mean of these two precisions, you get 40%."
      ],
      "metadata": {
        "id": "YwPcoyQuSbjP"
      }
    },
    {
      "cell_type": "markdown",
      "source": [
        "But wait a second—that’s not the model’s precision over these two batches! Indeed, there were a total of four true positives (4 + 0) out of eight positive predictions (5 + 3), so the overall precision is 50%, not 40%. What we need is an object that can keep track of the number of true positives and the number of false positives and that can compute their ratio when requested.\n",
        "\n",
        "This is precisely what the keras.metrics.Precision class does"
      ],
      "metadata": {
        "id": "IE_Y3UguSe86"
      }
    },
    {
      "cell_type": "code",
      "source": [],
      "metadata": {
        "id": "cUBlqUDbrpEt"
      },
      "execution_count": null,
      "outputs": []
    }
  ]
}